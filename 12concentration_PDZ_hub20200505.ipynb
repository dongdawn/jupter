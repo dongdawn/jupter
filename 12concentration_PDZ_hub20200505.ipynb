{
 "cells": [
  {
   "cell_type": "code",
   "execution_count": 1,
   "metadata": {},
   "outputs": [
    {
     "name": "stdout",
     "output_type": "stream",
     "text": [
      "/scratch/gpfs/dongdong/msm_pdz/complex/12concentration/Q_heavyatoms\n"
     ]
    }
   ],
   "source": [
    "cd /home/dongdong/SCR/msm_pdz/complex/12concentration/Q_heavyatoms"
   ]
  },
  {
   "cell_type": "code",
   "execution_count": 2,
   "metadata": {},
   "outputs": [],
   "source": [
    "def Qrange(x):\n",
    "    return int(x*100.0)/100.0"
   ]
  },
  {
   "cell_type": "code",
   "execution_count": 3,
   "metadata": {},
   "outputs": [],
   "source": [
    "import numpy as np\n",
    "QrangeCount={}\n",
    "for i in np.arange(0.0,1.0,0.01):\n",
    "    QrangeCount[str(i)]=[]\n",
    "for trj in range(1,64):\n",
    "    #print trj\n",
    "    for chain in range(1,13):\n",
    "        Qheavy=np.loadtxt('fit'+str(trj)+'_chain'+str(chain)+'_Q_heavyatoms.cs')\n",
    "        macro_traj=np.loadtxt('/home/dongdong/SCR/msm_pdz/complex/12concentration/toHubMfpt25states/fit'+str(trj)+'_skip10_chain'+str(chain)+'_macro_trajs.dat')\n",
    "        if trj in [20,30,32,36]:\n",
    "            lenQh=10001\n",
    "        elif trj in [19]:\n",
    "            lenQh=14001\n",
    "        else:\n",
    "            lenQh=len(Qheavy)\n",
    "        for num in range(lenQh):\n",
    "            #print Qrange(Qheavy[num])\n",
    "            QrangeCount[str(Qrange(Qheavy[num]))].append(macro_traj[num])\n",
    "            #if Qrange(Qheavy[num])==0.600:\n",
    "                #print str(trj)+'  '+str(chain)"
   ]
  },
  {
   "cell_type": "code",
   "execution_count": 16,
   "metadata": {},
   "outputs": [],
   "source": [
    "\n",
    "wf=open('Q005_macrostates.cs','w')\n",
    "for i in range(25):\n",
    "    popu=QrangeCount['0.05'].count(i)/(len(QrangeCount['0.05'])+0.0)\n",
    "    #print popu\n",
    "    wf.write(str(i)+'   '+str(popu)+'\\n')\n",
    "wf.close()"
   ]
  },
  {
   "cell_type": "code",
   "execution_count": 5,
   "metadata": {},
   "outputs": [],
   "source": [
    "newCount=[]\n",
    "for i in np.arange(0.21,0.31,0.01):\n",
    "    newCount.extend(QrangeCount[str(i)])"
   ]
  },
  {
   "cell_type": "code",
   "execution_count": 6,
   "metadata": {},
   "outputs": [],
   "source": [
    "wf=open('Q021-031_macrostates.cs','w')\n",
    "for i in range(25):\n",
    "    popu=newCount.count(i)/(len(newCount)+0.0)\n",
    "    #print popu\n",
    "    wf.write(str(i)+'   '+str(popu)+'\\n')\n",
    "wf.close()"
   ]
  },
  {
   "cell_type": "code",
   "execution_count": 10,
   "metadata": {},
   "outputs": [],
   "source": [
    "allQ0=[]\n",
    "for trj in range(1,64):\n",
    "    #print trj\n",
    "    for chain in range(1,13):\n",
    "        Qheavy=np.loadtxt('fit'+str(trj)+'_chain'+str(chain)+'_Q_heavyatoms.cs')\n",
    "        macro_traj=np.loadtxt('/home/dongdong/SCR/msm_pdz/complex/12concentration/toHubMfpt25states/fit'+str(trj)+'_skip10_chain'+str(chain)+'_macro_trajs.dat')\n",
    "        if trj in [20,30,32,36]:\n",
    "            lenQh=10001\n",
    "        elif trj in [19]:\n",
    "            lenQh=14001\n",
    "        else:\n",
    "            lenQh=len(Qheavy)\n",
    "        for qq in range(len(Qheavy)):\n",
    "            if Qheavy[qq]<0.00001:\n",
    "                allQ0.append(macro_traj[qq])"
   ]
  },
  {
   "cell_type": "code",
   "execution_count": 27,
   "metadata": {},
   "outputs": [],
   "source": [
    "QrangeCount_succeed={}\n",
    "for i in np.arange(0.0,1.0,0.01):\n",
    "    QrangeCount_succeed[str(i)]=[]\n",
    "binding_succeed_infor=np.loadtxt('binding_succeed_information.cs')\n",
    "for i in range(len(binding_succeed_infor)):\n",
    "    trj=int(binding_succeed_infor[i][0])\n",
    "    chain=int(binding_succeed_infor[i][1])\n",
    "    suceed=int(binding_succeed_infor[i][2])\n",
    "    if suceed==1:\n",
    "        Qheavy=np.loadtxt('fit'+str(trj)+'_chain'+str(chain)+'_Q_heavyatoms.cs')\n",
    "        macro_traj=np.loadtxt('/home/dongdong/SCR/msm_pdz/complex/12concentration/toHubMfpt25states/fit'+str(trj)+'_skip10_chain'+str(chain)+'_macro_trajs.dat')\n",
    "        for num in range(len(Qheavy)):\n",
    "            #print Qrange(Qheavy[num])\n",
    "            QrangeCount_succeed[str(Qrange(Qheavy[num]))].append(macro_traj[num])"
   ]
  },
  {
   "cell_type": "code",
   "execution_count": 4,
   "metadata": {},
   "outputs": [],
   "source": [
    "newCount=[]\n",
    "for i in np.arange(0.01,0.9,0.01):\n",
    "    newCount.extend(QrangeCount[str(i)])\n",
    "wf=open('Q001-090_macrostates.cs','w')\n",
    "for i in range(25):\n",
    "    popu=newCount.count(i)/(len(newCount)+0.0)\n",
    "    #print popu\n",
    "    wf.write(str(i)+'   '+str(popu)+'\\n')\n",
    "wf.close()"
   ]
  },
  {
   "cell_type": "code",
   "execution_count": 30,
   "metadata": {},
   "outputs": [
    {
     "data": {
      "text/plain": [
       "'/scratch/gpfs/dongdong/msm_pdz/complex/12concentration/Q_heavyatoms'"
      ]
     },
     "execution_count": 30,
     "metadata": {},
     "output_type": "execute_result"
    }
   ],
   "source": [
    "pwd"
   ]
  },
  {
   "cell_type": "code",
   "execution_count": 32,
   "metadata": {},
   "outputs": [
    {
     "data": {
      "image/png": "[encoded data removed]",
      "text/plain": [
       "<Figure size 360x288 with 1 Axes>"
      ]
     },
     "metadata": {
      "needs_background": "light"
     },
     "output_type": "display_data"
    }
   ],
   "source": [
    "import matplotlib.pyplot as plt\n",
    "import matplotlib.font_manager as font_manager\n",
    "import numpy as np\n",
    "font_path = '/home/dongdong/tigress/calibribold.ttf'\n",
    "font_prop = font_manager.FontProperties(fname=font_path, size=22)\n",
    "leg_prop = font_manager.FontProperties(fname=font_path, size=16)\n",
    "fig = plt.figure(figsize=(5,4))\n",
    "data=np.loadtxt('hub_001-01-02.dat')\n",
    "mfpt=data[:,0]\n",
    "isop=data[:,2]\n",
    "q0=data[:,3]\n",
    "q1=data[:,4]\n",
    "q2=data[:,5]\n",
    "sub = fig.add_subplot(1,1,1)\n",
    "\n",
    "plt.plot(mfpt, isop,'o-',lw=2,label='isolation',alpha=0.8)\n",
    "plt.plot(mfpt, q0,'o-',lw=2,label='Q < 0.01',alpha=0.8)\n",
    "plt.plot(mfpt, q1,'o-',lw=2,label='0.01 < Q < 0.10',alpha=0.8)\n",
    "plt.plot(mfpt, q2,'o-',lw=2,label='0.10 < Q < 0.20',alpha=0.8)\n",
    "\n",
    "for label in (sub.get_xticklabels() + sub.get_yticklabels()):\n",
    "    label.set_fontproperties(font_prop)\n",
    "    label.set_fontsize(16)\n",
    "plt.xlabel(r'MFPT to hub state (ns)',fontproperties=font_prop)\n",
    "plt.ylabel(r'population',fontproperties=font_prop)\n",
    "plt.ylim(-0.05,0.65)\n",
    "leg=sub.legend(loc=1, labelspacing=0.1, prop=leg_prop, scatterpoints=1, markerscale=1, numpoints=1,handlelength=1.5)\n",
    "leg.get_frame().set_linewidth(0.0)\n",
    "leg.get_frame().set_alpha(0.1)\n",
    "#plt.semilogy()\n",
    "plt.savefig('hub_001-01-02.png',dpi=600,bbox_inches='tight')\n",
    "plt.show()"
   ]
  },
  {
   "cell_type": "code",
   "execution_count": 8,
   "metadata": {},
   "outputs": [
    {
     "data": {
      "image/png": "[encoded data removed]",
      "text/plain": [
       "<Figure size 288x288 with 1 Axes>"
      ]
     },
     "metadata": {
      "needs_background": "light"
     },
     "output_type": "display_data"
    }
   ],
   "source": [
    "import matplotlib.pyplot as plt\n",
    "import matplotlib.font_manager as font_manager\n",
    "import numpy as np\n",
    "font_path = '/home/dongdong/tigress/calibribold.ttf'\n",
    "font_prop = font_manager.FontProperties(fname=font_path, size=24)\n",
    "leg_prop = font_manager.FontProperties(fname=font_path, size=17)\n",
    "fig = plt.figure(figsize=(4,4))\n",
    "data=np.loadtxt('hub_001-01-02.dat')\n",
    "mfpt=data[:,0]\n",
    "isop=data[:,2]\n",
    "q0=data[:,3]\n",
    "q1=data[:,4]\n",
    "q2=data[:,5]\n",
    "sub = fig.add_subplot(1,1,1)\n",
    "x=np.arange(25)\n",
    "#plt.bar(mfpt, isop,lw=2,label='isolation',alpha=0.8)\n",
    "plt.bar(x-0.2, q0,lw=2,label='Q < 0.01',width = 0.4)\n",
    "plt.bar(x+0.2, q1,lw=2,label='0.01 < Q < 0.10',color='red', width = 0.4)\n",
    "#plt.plot(mfpt, q2,'o-',lw=2,label='0.10 < Q < 0.20',alpha=0.8)\n",
    "\n",
    "for label in ( sub.get_yticklabels()):\n",
    "    label.set_fontproperties(font_prop)\n",
    "    label.set_fontsize(24)\n",
    "for label in (sub.get_xticklabels() ):\n",
    "    label.set_fontproperties(font_prop)\n",
    "    label.set_fontsize(14)\n",
    "plt.xlabel(r'macrostate index',fontproperties=font_prop)\n",
    "sub.tick_params(direction=\"in\", length=1)\n",
    "plt.xticks(x,(['24','20','18','8','23','1','17','2','19','22','4','14','12','13','11','5','21','0','16','9','7','3','15','6','10']),rotation=90)\n",
    "plt.ylabel(r'population',fontproperties=font_prop)\n",
    "plt.ylim(0,0.6)\n",
    "#plt.xlim(0,25)\n",
    "leg=sub.legend(loc=1, labelspacing=0.1, prop=leg_prop, scatterpoints=1, markerscale=1, numpoints=1,handlelength=1.5)\n",
    "leg.get_frame().set_linewidth(0.0)\n",
    "leg.get_frame().set_alpha(0.1)\n",
    "#plt.semilogy()\n",
    "plt.savefig('hub_001-01-02.png',dpi=600,bbox_inches='tight')\n",
    "plt.show()"
   ]
  },
  {
   "cell_type": "code",
   "execution_count": 71,
   "metadata": {},
   "outputs": [],
   "source": [
    "newCount=[]\n",
    "for i in np.arange(0,0.01,0.01):\n",
    "    newCount.extend(QrangeCount[str(i)])\n"
   ]
  },
  {
   "cell_type": "code",
   "execution_count": 14,
   "metadata": {},
   "outputs": [
    {
     "data": {
      "image/png": "[encoded data removed]",
      "text/plain": [
       "<Figure size 367.2x288 with 1 Axes>"
      ]
     },
     "metadata": {
      "needs_background": "light"
     },
     "output_type": "display_data"
    }
   ],
   "source": [
    "import matplotlib.pyplot as plt\n",
    "import matplotlib.font_manager as font_manager\n",
    "import numpy as np\n",
    "font_path = '/home/dongdong/tigress/calibribold.ttf'\n",
    "font_prop = font_manager.FontProperties(fname=font_path, size=24)\n",
    "leg_prop = font_manager.FontProperties(fname=font_path, size=17)\n",
    "fig = plt.figure(figsize=(5.1,4))\n",
    "data=np.loadtxt('hub_001-01-02.dat')\n",
    "mfpt=data[:,1]\n",
    "\n",
    "q0=data[:,4]\n",
    "q9=data[:,7]\n",
    "sub = fig.add_subplot(1,1,1)\n",
    "x=np.arange(25)\n",
    "#plt.bar(mfpt, isop,lw=2,label='isolation',alpha=0.8)\n",
    "plt.bar(x-0.2, q0,lw=2,label='unbound',width = 0.4)\n",
    "plt.bar(x+0.2, q9,lw=2,label='encounter complex',color='red', width = 0.4)\n",
    "#plt.plot(mfpt, q2,'o-',lw=2,label='0.10 < Q < 0.20',alpha=0.8)\n",
    "\n",
    "for label in ( sub.get_yticklabels()):\n",
    "    label.set_fontproperties(font_prop)\n",
    "    label.set_fontsize(24)\n",
    "for label in (sub.get_xticklabels() ):\n",
    "    label.set_fontproperties(font_prop)\n",
    "    label.set_fontsize(13)\n",
    "plt.xlabel(r'macrostate index',fontproperties=font_prop)\n",
    "sub.tick_params(direction=\"in\", length=1)\n",
    "plt.xticks(x,(['24','20','18','8','23','1','17','2','19','22','4','14','12','13','11','5','21','0','16','9','7','3','15','6','10']),rotation=90)\n",
    "plt.ylabel(r'population',fontproperties=font_prop)\n",
    "plt.ylim(0,0.6)\n",
    "#plt.xlim(0,25)\n",
    "leg=sub.legend(loc=1, labelspacing=0.1, prop=leg_prop, scatterpoints=1, markerscale=1, numpoints=1,handlelength=1.5)\n",
    "leg.get_frame().set_linewidth(0.0)\n",
    "leg.get_frame().set_alpha(0.1)\n",
    "#plt.semilogy()\n",
    "plt.savefig('hub_001-090.png',dpi=600,bbox_inches='tight')\n",
    "plt.show()"
   ]
  },
  {
   "cell_type": "code",
   "execution_count": 69,
   "metadata": {},
   "outputs": [],
   "source": [
    "newCount=[]\n",
    "for i in np.arange(0.01,1,0.01):\n",
    "    newCount.extend(QrangeCount[str(i)])"
   ]
  },
  {
   "cell_type": "code",
   "execution_count": 70,
   "metadata": {},
   "outputs": [
    {
     "data": {
      "text/plain": [
       "691396"
      ]
     },
     "execution_count": 70,
     "metadata": {},
     "output_type": "execute_result"
    }
   ],
   "source": [
    "len(newCount)"
   ]
  },
  {
   "cell_type": "code",
   "execution_count": 67,
   "metadata": {},
   "outputs": [],
   "source": [
    "newCount=[]\n",
    "for i in np.arange(0.01,0.9,0.01):\n",
    "    newCount.extend(QrangeCount[str(i)])"
   ]
  },
  {
   "cell_type": "code",
   "execution_count": 68,
   "metadata": {},
   "outputs": [
    {
     "data": {
      "text/plain": [
       "617111"
      ]
     },
     "execution_count": 68,
     "metadata": {},
     "output_type": "execute_result"
    }
   ],
   "source": [
    "len(newCount)"
   ]
  },
  {
   "cell_type": "code",
   "execution_count": 81,
   "metadata": {},
   "outputs": [
    {
     "data": {
      "text/plain": [
       "6.781704263433377"
      ]
     },
     "execution_count": 81,
     "metadata": {},
     "output_type": "execute_result"
    }
   ],
   "source": [
    "617111/(7457360+691396)*67.7*1000/12/63"
   ]
  },
  {
   "cell_type": "code",
   "execution_count": null,
   "metadata": {},
   "outputs": [],
   "source": []
  }
 ],
 "metadata": {
  "kernelspec": {
   "display_name": "Python 3",
   "language": "python",
   "name": "python3"
  },
  "language_info": {
   "codemirror_mode": {
    "name": "ipython",
    "version": 3
   },
   "file_extension": ".py",
   "mimetype": "text/x-python",
   "name": "python",
   "nbconvert_exporter": "python",
   "pygments_lexer": "ipython3",
   "version": "3.6.10"
  }
 },
 "nbformat": 4,
 "nbformat_minor": 4
}
