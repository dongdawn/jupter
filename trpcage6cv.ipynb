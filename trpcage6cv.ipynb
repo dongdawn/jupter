{
 "cells": [
  {
   "cell_type": "code",
   "execution_count": 1,
   "metadata": {},
   "outputs": [
    {
     "name": "stdout",
     "output_type": "stream",
     "text": [
      "/scratch/gpfs/dongdong/trpcage.run6cv/000_kappa100\n"
     ]
    }
   ],
   "source": [
    "cd /home/dongdong/SCR/trpcage.run6cv/000_kappa100"
   ]
  },
  {
   "cell_type": "code",
   "execution_count": 3,
   "metadata": {},
   "outputs": [],
   "source": [
    "import numpy as np\n",
    "import subprocess as sp\n",
    "\n",
    "tail=0.0\n",
    "cv_dih_dim = 6\n",
    "data = np.loadtxt (\"plm.res.out\")\n",
    "data = data[:,1:]\n",
    "kk=np.loadtxt('kappa.out');\n",
    "cc=np.loadtxt('centers.out');\n",
    "nframes=data.shape[0]\n",
    "ndih_values=data.shape[1]\n",
    "if cv_dih_dim is not None :\n",
    "    ndih_values = cv_dih_dim"
   ]
  },
  {
   "cell_type": "code",
   "execution_count": 6,
   "metadata": {},
   "outputs": [],
   "source": [
    "n_10ps_block = 1000   # since we have 10ns data, we have 1000 10ps blocks.\n",
    "nstep_10ps = nframes // n_10ps_block   # each 10ps contains nsteps.\n",
    "avgins = np.average (np.reshape(data[:n_10ps_block*nstep_10ps,:],[n_10ps_block,nstep_10ps,-1]), axis = 1)"
   ]
  },
  {
   "cell_type": "code",
   "execution_count": 11,
   "metadata": {},
   "outputs": [],
   "source": [
    "avgins1 = np.mod(avgins - np.reshape(cc,[1,-1]) + np.pi * 5., np.pi * 2.) - np.pi"
   ]
  },
  {
   "cell_type": "code",
   "execution_count": 40,
   "metadata": {},
   "outputs": [
    {
     "data": {
      "text/plain": [
       "array([[-0.01595623,  0.17547823,  0.11043491,  0.17483568, -0.04939829,\n",
       "        -0.06366871],\n",
       "       [-0.00457319,  0.1659359 ,  0.08310578,  0.1406836 , -0.03377753,\n",
       "        -0.03101028],\n",
       "       [-0.01470434,  0.17970355,  0.08330535,  0.16738147,  0.0338287 ,\n",
       "        -0.03374837],\n",
       "       ..., \n",
       "       [ 0.05419704,  0.13337159,  0.2150767 , -0.06588519,  0.13632498,\n",
       "        -0.00569304],\n",
       "       [ 0.06123131,  0.09439649,  0.27591054, -0.05182752,  0.09164166,\n",
       "        -0.04225186],\n",
       "       [ 0.03977898,  0.14836554,  0.207654  , -0.02853781,  0.14266848,\n",
       "        -0.02426545]])"
      ]
     },
     "execution_count": 40,
     "metadata": {},
     "output_type": "execute_result"
    }
   ],
   "source": [
    "avgins1"
   ]
  },
  {
   "cell_type": "code",
   "execution_count": 13,
   "metadata": {},
   "outputs": [],
   "source": [
    "avgins1 = avgins - np.reshape(cc,[1,-1])"
   ]
  },
  {
   "cell_type": "code",
   "execution_count": 15,
   "metadata": {},
   "outputs": [],
   "source": [
    "ffs = avgins1 * np.reshape(kk,[1,-1])"
   ]
  },
  {
   "cell_type": "code",
   "execution_count": 41,
   "metadata": {},
   "outputs": [
    {
     "data": {
      "text/plain": [
       "1000"
      ]
     },
     "execution_count": 41,
     "metadata": {},
     "output_type": "execute_result"
    }
   ],
   "source": [
    "len(ffs)"
   ]
  },
  {
   "cell_type": "code",
   "execution_count": 17,
   "metadata": {},
   "outputs": [],
   "source": [
    "ff_mean = np.mean(ffs,axis=0)"
   ]
  },
  {
   "cell_type": "code",
   "execution_count": 18,
   "metadata": {},
   "outputs": [
    {
     "data": {
      "text/plain": [
       "array([  1.11413912,   9.55071967,  16.17132295,   5.01626621,\n",
       "         8.76866456,  -4.01821123])"
      ]
     },
     "execution_count": 18,
     "metadata": {},
     "output_type": "execute_result"
    }
   ],
   "source": [
    "ff_mean"
   ]
  },
  {
   "cell_type": "code",
   "execution_count": 30,
   "metadata": {},
   "outputs": [],
   "source": [
    "ff_magnitude = (ff_mean**2)**0.5"
   ]
  },
  {
   "cell_type": "code",
   "execution_count": 31,
   "metadata": {},
   "outputs": [
    {
     "data": {
      "text/plain": [
       "array([  1.11413912,   9.55071967,  16.17132295,   5.01626621,\n",
       "         8.76866456,   4.01821123])"
      ]
     },
     "execution_count": 31,
     "metadata": {},
     "output_type": "execute_result"
    }
   ],
   "source": [
    "ff_magnitude"
   ]
  },
  {
   "cell_type": "code",
   "execution_count": 37,
   "metadata": {},
   "outputs": [
    {
     "name": "stdout",
     "output_type": "stream",
     "text": [
      "relative stat error of 10ps mdrun: \n",
      "[ 3.10689176  0.4903704   0.51442813  1.39390913  1.10582046  0.57939052]\n"
     ]
    }
   ],
   "source": [
    "print(\"relative stat error of 10ps mdrun: \")\n",
    "print(np.std(ffs,axis=0)/ff_magnitude)"
   ]
  },
  {
   "cell_type": "code",
   "execution_count": 33,
   "metadata": {},
   "outputs": [
    {
     "data": {
      "text/plain": [
       "array([ 3.06652953,  0.46751735,  0.47753946,  1.34702626,  1.08359892,\n",
       "        0.52299123])"
      ]
     },
     "execution_count": 33,
     "metadata": {},
     "output_type": "execute_result"
    }
   ],
   "source": [
    "ffs_tmp = np.mean(np.reshape(ffs,[500,2,-1]), axis=1)\n",
    "np.std(ffs_tmp,axis=0)/ff_magnitude"
   ]
  },
  {
   "cell_type": "code",
   "execution_count": 39,
   "metadata": {},
   "outputs": [
    {
     "data": {
      "text/plain": [
       "array([ 3.06652953,  0.46751735,  0.47753946,  1.34702626,  1.08359892,\n",
       "        0.52299123])"
      ]
     },
     "execution_count": 39,
     "metadata": {},
     "output_type": "execute_result"
    }
   ],
   "source": [
    "ffs_tmp = np.mean(np.reshape(ffs,[500,2,-1]), axis=1)\n",
    "np.std(ffs_tmp,axis=0)/ff_magnitude"
   ]
  },
  {
   "cell_type": "code",
   "execution_count": 38,
   "metadata": {},
   "outputs": [
    {
     "data": {
      "text/plain": [
       "array([ 1.94069085,  0.22137436,  0.23843049,  0.84802056,  0.63060279,\n",
       "        0.16095106])"
      ]
     },
     "execution_count": 38,
     "metadata": {},
     "output_type": "execute_result"
    }
   ],
   "source": [
    "ffs_tmp = np.mean(np.reshape(ffs,[5,200,-1]), axis=1)\n",
    "np.std(ffs_tmp,axis=0)/ff_magnitude"
   ]
  },
  {
   "cell_type": "code",
   "execution_count": null,
   "metadata": {},
   "outputs": [],
   "source": []
  }
 ],
 "metadata": {
  "kernelspec": {
   "display_name": "Python 3",
   "language": "python",
   "name": "python3"
  },
  "language_info": {
   "codemirror_mode": {
    "name": "ipython",
    "version": 3
   },
   "file_extension": ".py",
   "mimetype": "text/x-python",
   "name": "python",
   "nbconvert_exporter": "python",
   "pygments_lexer": "ipython3",
   "version": "3.6.10"
  }
 },
 "nbformat": 4,
 "nbformat_minor": 4
}
