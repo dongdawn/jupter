{
 "cells": [
  {
   "cell_type": "code",
   "execution_count": 6,
   "metadata": {},
   "outputs": [],
   "source": [
    "import sys\n",
    "import os\n",
    "import numpy as np\n",
    "import argparse\n",
    "import matplotlib.pyplot as plt\n",
    "import matplotlib.font_manager as font_manager\n",
    "import matplotlib.pylab as pl\n",
    "font_path = '/home/dongdong/tigress/calibribold.ttf'\n",
    "font_prop = font_manager.FontProperties(fname=font_path, size=19)\n",
    "leg_prop = font_manager.FontProperties(fname=font_path, size=17)\n",
    "def plot_iter(filedir,num_iter,num_walkers,cv_index,time_len):\n",
    "    colors = pl.cm.jet(np.linspace(0,1,num_walkers))\n",
    "    fig, ax = plt.subplots(figsize=(6,4))\n",
    "    for wal in range(5,6):\n",
    "        walker_name='%03d' %wal\n",
    "        for it in range(int(num_iter)):\n",
    "            iteration=\"%06d\" %it\n",
    "            filename=filedir+\"iter.\"+str(iteration)+\"/00.enhcMD/\"+str(walker_name)+\"/plm.out\"\n",
    "            data = np.loadtxt(filename)\n",
    "            time = data[:,0]+it*float(time_len)\n",
    "            ang = data[:,int(cv_index)]\n",
    "            if np.max(ang)>4:\n",
    "                print(filename)\n",
    "            ax.plot(time,ang,alpha=0.8,color=colors[wal])\n",
    "    ax.set_ylabel('distance (nm)',fontproperties=font_prop)\n",
    "    ax.set_xlabel('time (ps)',fontproperties=font_prop)\n",
    "    #plt.ylim(-3.2,3.2)\n",
    "    #plt.xlim(0,np.max(time))\n",
    "    #leg=plt.legend(loc=1, labelspacing=0.1, prop=leg_prop, scatterpoints=1, markerscale=1, numpoints=1,handlelength=1.5)\n",
    "    #leg.get_frame().set_linewidth(0.0)\n",
    "    #leg.get_frame().set_alpha(0.1)\n",
    "    for label in (ax.get_xticklabels() + ax.get_yticklabels()):\n",
    "        label.set_fontproperties(font_prop)\n",
    "        label.set_fontsize(16)\n",
    "    #plt.savefig(figout,dpi=600,bbox_inches='tight')\n",
    "    plt.show()\n"
   ]
  },
  {
   "cell_type": "code",
   "execution_count": 7,
   "metadata": {},
   "outputs": [
    {
     "name": "stdout",
     "output_type": "stream",
     "text": [
      "/home/dongdong/SCR/ykt6.run07/iter.000002/00.enhcMD/005/plm.out\n",
      "/home/dongdong/SCR/ykt6.run07/iter.000003/00.enhcMD/005/plm.out\n",
      "/home/dongdong/SCR/ykt6.run07/iter.000004/00.enhcMD/005/plm.out\n",
      "/home/dongdong/SCR/ykt6.run07/iter.000005/00.enhcMD/005/plm.out\n",
      "/home/dongdong/SCR/ykt6.run07/iter.000009/00.enhcMD/005/plm.out\n",
      "/home/dongdong/SCR/ykt6.run07/iter.000010/00.enhcMD/005/plm.out\n",
      "/home/dongdong/SCR/ykt6.run07/iter.000011/00.enhcMD/005/plm.out\n",
      "/home/dongdong/SCR/ykt6.run07/iter.000012/00.enhcMD/005/plm.out\n",
      "/home/dongdong/SCR/ykt6.run07/iter.000013/00.enhcMD/005/plm.out\n",
      "/home/dongdong/SCR/ykt6.run07/iter.000014/00.enhcMD/005/plm.out\n"
     ]
    },
    {
     "data": {
      "image/png": "[encoded data removed]",
      "text/plain": [
       "<Figure size 432x288 with 1 Axes>"
      ]
     },
     "metadata": {
      "needs_background": "light"
     },
     "output_type": "display_data"
    }
   ],
   "source": [
    "plot_iter('/home/dongdong/SCR/ykt6.run07/',15,11,8,2000)"
   ]
  },
  {
   "cell_type": "code",
   "execution_count": 11,
   "metadata": {},
   "outputs": [],
   "source": [
    "import re\n",
    "import os\n",
    "import sys\n",
    "import argparse\n",
    "import numpy as np\n",
    "import tensorflow as tf\n",
    "\n",
    "kbT = (8.617343E-5) * 300\n",
    "beta = 1.0 / kbT\n",
    "f_cvt = 96.485\n",
    "cv_dim = 11\n",
    "\n",
    "def load_graph(frozen_graph_filename,\n",
    "               prefix = 'load'):\n",
    "    # We load the protobuf file from the disk and parse it to retrieve the \n",
    "    # unserialized graph_def\n",
    "    with tf.gfile.GFile(frozen_graph_filename, \"rb\") as f:\n",
    "        graph_def = tf.GraphDef()\n",
    "        graph_def.ParseFromString(f.read())\n",
    "\n",
    "    # Then, we can use again a convenient built-in function to import a graph_def into the \n",
    "    # current default Graph\n",
    "    with tf.Graph().as_default() as graph:\n",
    "        tf.import_graph_def(\n",
    "            graph_def,\n",
    "            input_map=None,\n",
    "            return_elements=None,\n",
    "            name=prefix,\n",
    "            op_dict=None,\n",
    "            producer_op_list=None\n",
    "        )\n",
    "    return graph\n",
    "\n",
    "def test_ef (sess, xx) :\n",
    "    graph = sess.graph\n",
    "\n",
    "    inputs  = graph.get_tensor_by_name ('load/inputs:0')\n",
    "    o_energy= graph.get_tensor_by_name ('load/o_energy:0')\n",
    "    o_forces= graph.get_tensor_by_name ('load/o_forces:0')\n",
    "\n",
    "    zero4 = np.zeros ([xx.shape[0], cv_dim])\n",
    "    data_inputs = np.concatenate ((xx, zero4), axis = 1)\n",
    "    feed_dict_test = {inputs: data_inputs}\n",
    "\n",
    "    data_ret = sess.run ([o_energy, o_forces], feed_dict = feed_dict_test)\n",
    "    return data_ret[0], data_ret[1]\n"
   ]
  },
  {
   "cell_type": "code",
   "execution_count": 15,
   "metadata": {},
   "outputs": [
    {
     "name": "stdout",
     "output_type": "stream",
     "text": [
      "[ 1.39103215  1.374764    1.44369261 ... -0.72189438 -0.73905086\n",
      " -0.71465672]\n",
      "7515\n"
     ]
    }
   ],
   "source": [
    "import glob\n",
    "dirname='/home/dongdong/SCR/ykt6.run07'\n",
    "ave_ene=[]\n",
    "for it in range(0,15):\n",
    "    for en in range(5,6):\n",
    "        trjdir='%s/iter.%06d/00.enhcMD/%03d/' %(dirname,it,en)\n",
    "        models = glob.glob('/home/dongdong/SCR/ykt6.run07/iter.000014/00.enhcMD/000/*.pb')\n",
    "        data_ = np.loadtxt (trjdir+'angle.rad.out')\n",
    "        data = data_[:,:cv_dim]\n",
    "        nframes = data.shape[0]\n",
    "        energys = []\n",
    "        for ii in models :\n",
    "            graph = load_graph (ii)\n",
    "            with tf.Session(graph = graph) as sess:\n",
    "                ee, ff = test_ef (sess, data)\n",
    "                #forces = np.append (forces, ff)\n",
    "                energys = np.append (energys, ee)\n",
    "                # if len(forces) == 0 :\n",
    "                #     forces = np.array ([ff])\n",
    "                # else :\n",
    "                #     forces = np.concatenate (forces, np.array([ff]))\n",
    "        #forces = np.reshape (forces, [len(models), nframes, cv_dim])\n",
    "        energys = np.reshape (energys, [len(models), nframes])\n",
    "\n",
    "    ave_ene=np.append(ave_ene,-np.mean(energys,axis=0))\n",
    "print(ave_ene)\n",
    "print(len(ave_ene))"
   ]
  },
  {
   "cell_type": "code",
   "execution_count": 18,
   "metadata": {},
   "outputs": [
    {
     "data": {
      "image/png": "[encoded data removed]",
      "text/plain": [
       "<Figure size 432x338.4 with 1 Axes>"
      ]
     },
     "metadata": {
      "needs_background": "light"
     },
     "output_type": "display_data"
    }
   ],
   "source": [
    "import matplotlib.pyplot as plt\n",
    "import matplotlib.font_manager as font_manager\n",
    "font_path = '/home/dongdong/tigress/calibribold.ttf'\n",
    "font_prop = font_manager.FontProperties(fname=font_path, size=24)\n",
    "leg_prop = font_manager.FontProperties(fname=font_path, size=17)\n",
    "\n",
    "time = np.arange(len(ave_ene))*0.004*1000\n",
    "#for i in range(len(clustered_trajs)):\n",
    "\n",
    "fig, ax = plt.subplots(figsize=(6,4.7))\n",
    "ax.plot(time,ave_ene)\n",
    "ax.set_ylabel(r'free energy',fontproperties=font_prop)\n",
    "ax.set_xlabel('time (ps)',fontproperties=font_prop)\n",
    "#plt.ylim(0,0.5)\n",
    "#plt.xlim(0,180)\n",
    "#leg=plt.legend(loc=1, labelspacing=0.1, prop=leg_prop, scatterpoints=1, markerscale=1, numpoints=1,handlelength=1.5)\n",
    "#leg.get_frame().set_linewidth(0.0)\n",
    "#leg.get_frame().set_alpha(0.1)\n",
    "for label in (ax.get_xticklabels() + ax.get_yticklabels()):\n",
    "    label.set_fontproperties(font_prop)\n",
    "    label.set_fontsize(16)\n",
    "plt.show()"
   ]
  },
  {
   "cell_type": "code",
   "execution_count": 2,
   "metadata": {},
   "outputs": [
    {
     "name": "stdout",
     "output_type": "stream",
     "text": [
      "/scratch/gpfs/dongdong/ykt6.run07\n"
     ]
    }
   ],
   "source": [
    "cd /home/dongdong/SCR/ykt6.run07"
   ]
  },
  {
   "cell_type": "code",
   "execution_count": 3,
   "metadata": {},
   "outputs": [],
   "source": [
    "import os\n",
    "for it in range(20):\n",
    "    for en in range(12):\n",
    "        #print(en)\n",
    "        trjdir='/home/dongdong/SCR/ykt6.run07/iter.%06d/00.enhcMD/%03d/' %(it,en)\n",
    "        \n",
    "        trjname=trjdir+'traj_comp.xtc'\n",
    "        outtrj=trjdir+'md_nopbc.xtc'\n",
    "        outfit=trjdir+str(en)+'_fit'+str(it)+'.xtc'\n",
    "        outrmsd=trjdir+'rmsd.xvg'\n",
    "        #print(trjname)\n",
    "        os.system('echo -e \"1\\n\" | gmx trjconv -s nosol.tpr -f %s -o %s -pbc mol -ur compact' %(trjname, outtrj))\n",
    "        os.system('echo -e \"1\\n1\\n\" | gmx trjconv -s nosol.tpr -f %s -o %s -fit rot+trans' %(outtrj, outfit))"
   ]
  },
  {
   "cell_type": "code",
   "execution_count": null,
   "metadata": {},
   "outputs": [],
   "source": []
  }
 ],
 "metadata": {
  "kernelspec": {
   "display_name": "Python 3",
   "language": "python",
   "name": "python3"
  },
  "language_info": {
   "codemirror_mode": {
    "name": "ipython",
    "version": 3
   },
   "file_extension": ".py",
   "mimetype": "text/x-python",
   "name": "python",
   "nbconvert_exporter": "python",
   "pygments_lexer": "ipython3",
   "version": "3.6.10"
  }
 },
 "nbformat": 4,
 "nbformat_minor": 2
}
