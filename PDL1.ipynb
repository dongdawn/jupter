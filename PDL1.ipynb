{
 "cells": [
  {
   "cell_type": "code",
   "execution_count": 1,
   "metadata": {},
   "outputs": [],
   "source": [
    "PDL1_hot=[123,56,125,115,113,66,54,124]"
   ]
  },
  {
   "cell_type": "code",
   "execution_count": 23,
   "metadata": {},
   "outputs": [],
   "source": [
    "dirname='/home/dongdong/SCR/PD1/vs_12_result/PDL1/Results_PDL1_1/'\n",
    "rf=open(dirname+'sorted.txt','r')\n",
    "wf=open(dirname+'score_interface.txt','w')\n",
    "wf2=open(dirname+'score_interface_filter.txt','w')\n",
    "for line in rf.readlines()[1:801]:\n",
    "    line=line.strip()\n",
    "    peptide=line.split()[0]\n",
    "    score=line.split()[1]\n",
    "    wf.write(line+'    ')\n",
    "    interface_name=dirname+'out_'+peptide+'/molecule_1.txt'\n",
    "    indata=open(interface_name,'r')\n",
    "    nn=0\n",
    "    for ii in indata.readlines():\n",
    "        ii=ii.strip()\n",
    "        resid=int(ii.split()[1])\n",
    "        if int(resid) in PDL1_hot:\n",
    "            nn+=1\n",
    "    if nn>4:\n",
    "        wf2.write(line+'    '+str(nn)+'\\n')\n",
    "    wf.write(str(nn)+'\\n')\n",
    "wf.close()\n",
    "wf2.close()"
   ]
  },
  {
   "cell_type": "code",
   "execution_count": 34,
   "metadata": {},
   "outputs": [
    {
     "name": "stdout",
     "output_type": "stream",
     "text": [
      "/scratch/gpfs/dongdong/PD1/vs_8_result/PDL1/Results_PDL1_2\n"
     ]
    }
   ],
   "source": [
    "cd /home/dongdong/SCR/PD1/vs_8_result/PDL1/Results_PDL1_2"
   ]
  },
  {
   "cell_type": "code",
   "execution_count": 31,
   "metadata": {},
   "outputs": [],
   "source": [
    "import numpy as np\n",
    "dataob=open('score_interface_filter.txt','r')\n",
    "alldict={}\n",
    "for line in dataob.readlines():\n",
    "    line=line.strip()\n",
    "    infor=line.split()\n",
    "    name=infor[0].split('_')[0]\n",
    "    score=infor[1]\n",
    "    alldict[name]=[]\n",
    "dataob=open('score_interface_filter.txt','r')\n",
    "for line in dataob.readlines():\n",
    "    line=line.strip()\n",
    "    infor=line.split()\n",
    "    name=infor[0].split('_')[0]\n",
    "    score=float(infor[1])\n",
    "    alldict[name].append(score)\n",
    "sdict={}\n",
    "for key in alldict:   \n",
    "    sscore=np.min(alldict[key])\n",
    "    sdict[key]=sscore\n",
    "dict_ob=sorted(sdict.items(),key=lambda item:item[1])\n",
    "wf=open('score_interface_filter_set.txt','w')\n",
    "for aa in dict_ob:\n",
    "    wf.write(aa[0]+'\\t'+str(aa[1])+'\\n')\n",
    "wf.close()"
   ]
  },
  {
   "cell_type": "code",
   "execution_count": 35,
   "metadata": {},
   "outputs": [],
   "source": [
    "import numpy as np\n",
    "dataob=open('all_score.txt','r')\n",
    "alldict={}\n",
    "for line in dataob.readlines():\n",
    "    line=line.strip()\n",
    "    infor=line.split()\n",
    "    name=infor[0].split('_')[0]\n",
    "    score=infor[1]\n",
    "    alldict[name]=[]\n",
    "dataob=open('all_score.txt','r')\n",
    "for line in dataob.readlines():\n",
    "    line=line.strip()\n",
    "    infor=line.split()\n",
    "    name=infor[0].split('_')[0]\n",
    "    score=float(infor[1])\n",
    "    alldict[name].append(score)\n",
    "sdict={}\n",
    "for key in alldict:   \n",
    "    sscore=np.min(alldict[key])\n",
    "    sdict[key]=sscore\n",
    "dict_ob=sorted(sdict.items(),key=lambda item:item[1])\n",
    "wf=open('all_score_set.txt','w')\n",
    "wf2=open('all.seq','w')\n",
    "bb=0\n",
    "for aa in dict_ob:\n",
    "    bb+=1\n",
    "    wf2.write('>'+str(aa[1])+'_'+str(bb)+'\\n'+aa[0]+'\\n')\n",
    "    wf.write(aa[0]+'\\t'+str(aa[1])+'\\n')\n",
    "wf.close()\n",
    "wf2.close()"
   ]
  },
  {
   "cell_type": "code",
   "execution_count": null,
   "metadata": {},
   "outputs": [],
   "source": []
  }
 ],
 "metadata": {
  "kernelspec": {
   "display_name": "Python 3",
   "language": "python",
   "name": "python3"
  },
  "language_info": {
   "codemirror_mode": {
    "name": "ipython",
    "version": 3
   },
   "file_extension": ".py",
   "mimetype": "text/x-python",
   "name": "python",
   "nbconvert_exporter": "python",
   "pygments_lexer": "ipython3",
   "version": "3.7.4"
  }
 },
 "nbformat": 4,
 "nbformat_minor": 2
}
