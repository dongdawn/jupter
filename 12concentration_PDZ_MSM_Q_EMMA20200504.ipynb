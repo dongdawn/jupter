{
 "cells": [
  {
   "cell_type": "code",
   "execution_count": 1,
   "metadata": {},
   "outputs": [
    {
     "name": "stderr",
     "output_type": "stream",
     "text": [
      "/home/dongdong/software/anaconda3/envs/py3.6/lib/python3.6/site-packages/pyemma/util/log.py:65: YAMLLoadWarning: calling yaml.load() without Loader=... is deprecated, as the default Loader is unsafe. Please read https://msg.pyyaml.org/load for full details.\n",
      "  D = yaml.load(f2)\n",
      "/home/dongdong/software/anaconda3/envs/py3.6/lib/python3.6/site-packages/pyemma/__init__.py:91: UserWarning: You are not using the latest release of PyEMMA. Latest is 2.5.7, you have 2.4.\n",
      "  .format(latest=latest, current=current), category=UserWarning)\n"
     ]
    }
   ],
   "source": [
    "import pyemma.msm as msm\n",
    "import numpy as np\n",
    "import matplotlib\n",
    "matplotlib.use('pdf')\n",
    "import pyemma.plots as mplt\n",
    "import matplotlib.pyplot as plt\n",
    "import tables"
   ]
  },
  {
   "cell_type": "code",
   "execution_count": 3,
   "metadata": {},
   "outputs": [],
   "source": [
    "from msmbuilder.io import save_meta,load_meta"
   ]
  },
  {
   "cell_type": "code",
   "execution_count": 4,
   "metadata": {},
   "outputs": [
    {
     "name": "stdout",
     "output_type": "stream",
     "text": [
      "/scratch/gpfs/dongdong/msm_pdz/complex/kcenters_micro400lag400_2\n"
     ]
    }
   ],
   "source": [
    "cd /home/dongdong/SCR/msm_pdz/complex/kcenters_micro400lag400_2"
   ]
  },
  {
   "cell_type": "code",
   "execution_count": 5,
   "metadata": {},
   "outputs": [],
   "source": [
    "clustered_trajs=load_meta('clustered_trajs.pickl')"
   ]
  },
  {
   "cell_type": "code",
   "execution_count": 6,
   "metadata": {},
   "outputs": [
    {
     "data": {
      "text/plain": [
       "756"
      ]
     },
     "execution_count": 6,
     "metadata": {},
     "output_type": "execute_result"
    }
   ],
   "source": [
    "len(clustered_trajs)"
   ]
  },
  {
   "cell_type": "code",
   "execution_count": 23,
   "metadata": {},
   "outputs": [],
   "source": [
    "m400_mlh.cktest?"
   ]
  },
  {
   "cell_type": "code",
   "execution_count": 8,
   "metadata": {},
   "outputs": [],
   "source": [
    "import pyemma.msm as msm\n",
    "import pyemma.plots as mplt"
   ]
  },
  {
   "cell_type": "code",
   "execution_count": 14,
   "metadata": {
    "scrolled": false
   },
   "outputs": [
    {
     "data": {
      "application/vnd.jupyter.widget-view+json": {
       "model_id": "",
       "version_major": 2,
       "version_minor": 0
      },
      "text/plain": [
       "Box(children=(Text(value=''), IntProgress(value=0)))"
      ]
     },
     "metadata": {},
     "output_type": "display_data"
    }
   ],
   "source": [
    "lags = [1,2,5,10,20,30,40,50,100,200,500,1000]\n",
    "#its = msm.its(clustered_trajs, lags=lags)\n",
    "its = msm.timescales_msm(clustered_trajs, lags=lags, nits=20,errors='bayes', n_jobs=8)\n",
    "#mplt.plot_implied_timescales(its, show_mean=False, ylog=True, dt=0.1, units='ns', linewidth=2)\n"
   ]
  },
  {
   "cell_type": "code",
   "execution_count": 21,
   "metadata": {},
   "outputs": [
    {
     "name": "stderr",
     "output_type": "stream",
     "text": [
      "/home/dongdong/software/anaconda3/envs/py3.6/lib/python3.6/site-packages/ipykernel_launcher.py:15: UserWarning: Matplotlib is currently using pdf, which is a non-GUI backend, so cannot show the figure.\n",
      "  from ipykernel import kernelapp as app\n"
     ]
    }
   ],
   "source": [
    "import matplotlib.font_manager as font_manager\n",
    "font_path = '/home/dongdong/tigress/calibribold.ttf'\n",
    "font_prop = font_manager.FontProperties(fname=font_path, size=20)\n",
    "fig = plt.figure(figsize=(5,4))\n",
    "sub = fig.add_subplot(1,1,1)\n",
    "mplt.plot_implied_timescales(its, show_mean=False, ylog=True, dt=0.1, units='ns', linewidth=0.8)\n",
    "for label in (sub.get_xticklabels() + sub.get_yticklabels()):\n",
    "    label.set_fontproperties(font_prop)\n",
    "    label.set_fontsize(16)\n",
    "plt.xlabel(r'lag time (ns)',fontproperties=font_prop)\n",
    "plt.ylabel(r'implied timescales (ns)',fontproperties=font_prop)\n",
    "#plt.ylim(1,100000)\n",
    "#plt.semilogy()\n",
    "plt.savefig('impliedtimescales_EMMA2.png',dpi=600,bbox_inches='tight')\n",
    "plt.show()"
   ]
  },
  {
   "cell_type": "code",
   "execution_count": 30,
   "metadata": {},
   "outputs": [],
   "source": [
    "msm_lag = 400\n",
    "m400_mlh=msm.estimate_markov_model(clustered_trajs, msm_lag)"
   ]
  },
  {
   "cell_type": "code",
   "execution_count": 32,
   "metadata": {},
   "outputs": [
    {
     "data": {
      "text/plain": [
       "<msmtools.analysis.dense.pcca.PCCA at 0x2b004be3fcc0>"
      ]
     },
     "execution_count": 32,
     "metadata": {},
     "output_type": "execute_result"
    }
   ],
   "source": [
    "m400_mlh.pcca(6)"
   ]
  },
  {
   "cell_type": "code",
   "execution_count": 34,
   "metadata": {},
   "outputs": [
    {
     "data": {
      "text/plain": [
       "array([5, 4, 1, 0, 2, 2, 4, 5, 2, 3, 3, 1, 4, 1, 5, 5, 4, 5, 4, 3, 2, 5, 3,\n",
       "       1, 4, 5, 5, 3, 0, 3, 1, 2, 5, 4, 5, 4, 5, 4, 1, 4, 2, 3, 1, 3, 2, 2,\n",
       "       4, 5, 5, 4, 0, 5, 4, 1, 4, 2, 5, 5, 3, 4, 3, 3, 5, 1, 0, 0, 0, 4, 4,\n",
       "       4, 1, 4, 4, 2, 4, 5, 5, 3, 1, 4, 5, 5, 3, 4, 5, 5, 4, 5, 1, 5, 1, 4,\n",
       "       1, 5, 4, 1, 4, 2, 4, 5, 1, 2, 4, 2, 1, 4, 4, 5, 4, 3, 1, 4, 1, 4, 5,\n",
       "       1, 3, 2, 3, 5, 0, 5, 5, 0, 4, 3, 3, 5, 3, 5, 3, 5, 1, 2, 3, 5, 4, 5,\n",
       "       2, 1, 0, 5, 1, 3, 4, 4, 1, 3, 4, 2, 3, 4, 3, 5, 3, 2, 5, 5, 4, 3, 0,\n",
       "       4, 3, 2, 5, 3, 0, 3, 5, 3, 5, 1, 4, 4, 5, 2, 0, 4, 5, 3, 4, 5, 2, 1,\n",
       "       2, 5, 5, 4, 5, 1, 1, 0, 1, 0, 3, 4, 5, 4, 5, 3, 3, 4, 4, 1, 3, 4, 1,\n",
       "       3, 1, 4, 5, 3, 2, 5, 4, 0, 4, 4, 1, 5, 4, 5, 4, 0, 2, 4, 1, 5, 5, 3,\n",
       "       5, 4, 5, 3, 4, 3, 5, 4, 4, 1, 5, 2, 3, 4, 5, 4, 4, 5, 4, 4, 1, 5, 5,\n",
       "       4, 5, 1, 5, 2, 4, 4, 5, 2, 4, 1, 4, 5, 0, 5, 0, 5, 3, 3, 4, 4, 4, 3,\n",
       "       1, 2, 3, 1, 4, 4, 4, 1, 5, 4, 5, 3, 2, 4, 1, 0, 1, 0, 5, 4, 1, 5, 4,\n",
       "       1, 5, 2, 2, 4, 4, 5, 5, 5, 3, 1, 4, 3, 5, 3, 4, 5, 2, 3, 3, 4, 5, 1,\n",
       "       4, 3, 5, 5, 1, 5, 1, 2, 1, 4, 4, 2, 1, 5, 2, 0, 5, 2, 4, 3, 1, 4, 0,\n",
       "       4, 1, 4, 3, 5, 5, 5, 5, 5, 2, 4, 1, 2, 1, 4, 4, 5, 4, 5, 1, 4, 2, 3,\n",
       "       0, 3, 4, 3, 3, 5, 3, 5, 5, 5, 3, 3, 0, 4, 3, 2, 5, 3, 5, 5, 5, 5, 3,\n",
       "       1, 3, 1, 4, 2, 4, 3, 3, 5])"
      ]
     },
     "execution_count": 34,
     "metadata": {},
     "output_type": "execute_result"
    }
   ],
   "source": [
    "m400_mlh.metastable_assignments"
   ]
  },
  {
   "cell_type": "code",
   "execution_count": 26,
   "metadata": {},
   "outputs": [],
   "source": []
  },
  {
   "cell_type": "code",
   "execution_count": 27,
   "metadata": {},
   "outputs": [
    {
     "data": {
      "application/vnd.jupyter.widget-view+json": {
       "model_id": "",
       "version_major": 2,
       "version_minor": 0
      },
      "text/plain": [
       "Box(children=(Text(value=''), IntProgress(value=0)))"
      ]
     },
     "metadata": {},
     "output_type": "display_data"
    }
   ],
   "source": []
  },
  {
   "cell_type": "code",
   "execution_count": 28,
   "metadata": {},
   "outputs": [
    {
     "name": "stderr",
     "output_type": "stream",
     "text": [
      "/home/dongdong/software/anaconda3/envs/py3.6/lib/python3.6/site-packages/progress_reporter/reporter.py:159: UserWarning: This should not happen. An caller pretended to have achieved more work than registered\n",
      "  warnings.warn(\"This should not happen. An caller pretended to have \"\n"
     ]
    },
    {
     "data": {
      "application/vnd.jupyter.widget-view+json": {
       "model_id": "",
       "version_major": 2,
       "version_minor": 0
      },
      "text/plain": [
       "Box(children=(Text(value=''), IntProgress(value=0)))"
      ]
     },
     "metadata": {},
     "output_type": "display_data"
    }
   ],
   "source": []
  },
  {
   "cell_type": "code",
   "execution_count": 29,
   "metadata": {},
   "outputs": [],
   "source": []
  },
  {
   "cell_type": "code",
   "execution_count": 31,
   "metadata": {},
   "outputs": [
    {
     "data": {
      "text/plain": [
       "array([[  1.63287641e-01,   0.00000000e+00,   9.15651930e-07, ...,\n",
       "          5.91304099e-06,   3.62453491e-05,   6.86543596e-05],\n",
       "       [  0.00000000e+00,   1.25482624e-02,   0.00000000e+00, ...,\n",
       "          0.00000000e+00,   0.00000000e+00,   0.00000000e+00],\n",
       "       [  1.39528806e-02,   0.00000000e+00,   8.88178420e-16, ...,\n",
       "          0.00000000e+00,   0.00000000e+00,   0.00000000e+00],\n",
       "       ..., \n",
       "       [  1.16480691e-02,   0.00000000e+00,   0.00000000e+00, ...,\n",
       "          1.91387559e-02,   0.00000000e+00,   1.87169344e-03],\n",
       "       [  2.37450690e-02,   0.00000000e+00,   0.00000000e+00, ...,\n",
       "          0.00000000e+00,   1.01694915e-02,   4.83071681e-03],\n",
       "       [  5.28101687e-02,   0.00000000e+00,   0.00000000e+00, ...,\n",
       "          7.30871632e-04,   5.67204757e-03,   1.80072029e-02]])"
      ]
     },
     "execution_count": 31,
     "metadata": {},
     "output_type": "execute_result"
    }
   ],
   "source": [
    "m400_mlh.transition_matrix"
   ]
  },
  {
   "cell_type": "code",
   "execution_count": null,
   "metadata": {},
   "outputs": [],
   "source": []
  }
 ],
 "metadata": {
  "kernelspec": {
   "display_name": "Python 3",
   "language": "python",
   "name": "python3"
  },
  "language_info": {
   "codemirror_mode": {
    "name": "ipython",
    "version": 3
   },
   "file_extension": ".py",
   "mimetype": "text/x-python",
   "name": "python",
   "nbconvert_exporter": "python",
   "pygments_lexer": "ipython3",
   "version": "3.6.10"
  }
 },
 "nbformat": 4,
 "nbformat_minor": 4
}
