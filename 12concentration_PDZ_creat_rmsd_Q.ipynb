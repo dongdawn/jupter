{
 "cells": [
  {
   "cell_type": "code",
   "execution_count": 13,
   "metadata": {},
   "outputs": [
    {
     "name": "stdout",
     "output_type": "stream",
     "text": [
      "400\n",
      "500\n",
      "600\n",
      "400\n",
      "500\n",
      "600\n",
      "400\n",
      "500\n",
      "600\n",
      "400\n",
      "500\n",
      "600\n",
      "400\n",
      "500\n",
      "600\n",
      "400\n",
      "500\n",
      "600\n",
      "400\n",
      "500\n",
      "600\n",
      "400\n",
      "500\n",
      "600\n",
      "400\n",
      "500\n",
      "600\n",
      "400\n",
      "500\n",
      "600\n",
      "400\n",
      "500\n",
      "600\n",
      "400\n",
      "500\n",
      "600\n"
     ]
    }
   ],
   "source": [
    "import shutil\n",
    "import os\n",
    "os.chdir('/home/disk2/wdd/PDZ/12concentration_MSM_Q0825')\n",
    "tica_lag=[20,50,100]\n",
    "num_components=[4,5,6,8]\n",
    "num_clusters=[400,500,600]\n",
    "lagtime=[500,700]\n",
    "for tlag in tica_lag:\n",
    "    for ncom in num_components:\n",
    "        for nc in num_clusters:\n",
    "            print nc\n",
    "            for lg in lagtime:\n",
    "                dirname='kcenters_micro'+str(nc)+'_lagtiame'+str(lg)+'_tica'+str(ncom)+'tlag'+str(tlag)\n",
    "                shutil.copyfile(dirname+'/cktest/combine.png', dirname+'.png')"
   ]
  },
  {
   "cell_type": "code",
   "execution_count": 12,
   "metadata": {},
   "outputs": [
    {
     "name": "stdout",
     "output_type": "stream",
     "text": [
      "400\n"
     ]
    }
   ],
   "source": [
    "import shutil\n",
    "import os\n",
    "os.chdir('/home/disk2/wdd/PDZ/12concentration_MSM_Q0930/')\n",
    "num_clusters=[400]\n",
    "lagtime=[400,600]\n",
    "for nc in num_clusters:\n",
    "    print nc\n",
    "    for lg in lagtime:\n",
    "        dirname='kcenters_micro'+str(nc)+'lag'+str(lg)\n",
    "        os.chdir(dirname+'/cktest')\n",
    "        lagt=int(lg)/10\n",
    "        os.system('python /home/wdd/plot_ck_plot.py -lagtime %d -unit ns -pop Populations' %lagt)\n",
    "        os.chdir('/home/disk2/wdd/PDZ/12concentration_MSM_Q0930/')\n",
    "        shutil.copyfile(dirname+'/cktest/ckplot.png', dirname+'.png')"
   ]
  },
  {
   "cell_type": "code",
   "execution_count": 14,
   "metadata": {
    "collapsed": true
   },
   "outputs": [],
   "source": [
    "import pyemma\n",
    "from msmbuilder.msm import implied_timescales\n",
    "import matplotlib.pyplot as plt\n",
    "import matplotlib.font_manager as font_manager\n",
    "import numpy as np\n",
    "font_path = '/home/disk2/wdd/msm/calibribold.ttf'\n",
    "font_prop = font_manager.FontProperties(fname=font_path, size=20)"
   ]
  },
  {
   "cell_type": "code",
   "execution_count": 4,
   "metadata": {
    "collapsed": true
   },
   "outputs": [],
   "source": [
    "import mdtraj as md\n",
    "import numpy as np"
   ]
  },
  {
   "cell_type": "code",
   "execution_count": 5,
   "metadata": {},
   "outputs": [
    {
     "name": "stdout",
     "output_type": "stream",
     "text": [
      "/home/disk2/wdd/PDZ/12concentration/rmsd_dihed\n"
     ]
    }
   ],
   "source": [
    "cd /home/disk2/wdd/PDZ/12concentration/rmsd_dihed"
   ]
  },
  {
   "cell_type": "code",
   "execution_count": 7,
   "metadata": {
    "collapsed": true
   },
   "outputs": [],
   "source": [
    "for nt in range(2,64):\n",
    "    t_con=md.load('/home/disk2/wdd/PDZ/12concentration/trj/all/fit'+str(nt)+'_skip10.xtc',top='/home/disk2/wdd/PDZ/12concentration/begin.pdb')\n",
    "    indices_phi, phi=md.compute_phi(t_con)\n",
    "    indices_psi, psi=md.compute_psi(t_con)\n",
    "    for i in range(1,13):\n",
    "        outname='fit'+str(nt)+'_pdz'+str(i)+'.dih'\n",
    "        wf=open(outname,'w')\n",
    "        wf.write('#phi phi phi phi phi psi psi psi psi \\n')\n",
    "        for j in range(len(psi)):\n",
    "            for hh in range(5):\n",
    "                wf.write(str(phi[j][109+5*i+hh]/3.14*180)+'    ')\n",
    "            for ss in range(4):\n",
    "                wf.write(str(psi[j][110+4*i+ss]/3.14*180)+'    ')\n",
    "            wf.write('\\n')\n",
    "        wf.close()"
   ]
  },
  {
   "cell_type": "code",
   "execution_count": 8,
   "metadata": {},
   "outputs": [],
   "source": [
    "#function of rmsd \n",
    "def singleSD(nList,refList):\n",
    "    length=len(nList)\n",
    "    sumVar=0.0\n",
    "    for i in range(length):\n",
    "        sub=nList[i]-refList[i]\n",
    "        if np.abs(sub)>180:\n",
    "            sub=360-np.abs(sub)\n",
    "        sumVar+=sub**2\n",
    "    return ((float(sumVar)/float((length)))**0.5)"
   ]
  },
  {
   "cell_type": "code",
   "execution_count": 13,
   "metadata": {},
   "outputs": [
    {
     "name": "stdout",
     "output_type": "stream",
     "text": [
      "1\n",
      "2\n",
      "3\n",
      "4\n",
      "5\n",
      "6\n",
      "7\n",
      "8\n",
      "9\n",
      "10\n",
      "11\n",
      "12\n",
      "13\n",
      "14\n",
      "15\n",
      "16\n",
      "17\n",
      "18\n",
      "19\n",
      "20\n",
      "21\n",
      "22\n",
      "23\n",
      "24\n",
      "25\n",
      "26\n",
      "27\n",
      "28\n",
      "29\n",
      "30\n",
      "31\n",
      "32\n",
      "33\n",
      "34\n",
      "35\n",
      "36\n",
      "37\n",
      "38\n",
      "39\n",
      "40\n",
      "41\n",
      "42\n",
      "43\n",
      "44\n",
      "45\n",
      "46\n",
      "47\n",
      "48\n",
      "49\n",
      "50\n",
      "51\n",
      "52\n",
      "53\n",
      "54\n",
      "55\n",
      "56\n",
      "57\n",
      "58\n",
      "59\n",
      "60\n",
      "61\n",
      "62\n",
      "63\n"
     ]
    }
   ],
   "source": [
    "crystal_phi_psi=[ -60.02958679, -139.56974792, -129.19688416,  -89.59128571,\n",
    "       -128.53622437,  148.59483337,  129.79824829,  135.33282471,\n",
    "        132.82144165]\n",
    "for nt in range(1,64):\n",
    "    print nt\n",
    "    for i in range(1,13):\n",
    "        filename='fit'+str(nt)+'_pdz'+str(i)+'.dih'\n",
    "        data=np.loadtxt(filename)\n",
    "        Q=np.loadtxt('/home/disk2/wdd/PDZ/12concentration/Q_heavyatoms/fit'+str(nt)+'_chain'+str(i)+'_Q_heavyatoms.cs')\n",
    "        outname = 'fit'+str(nt)+'_pdz'+str(i)+'.rmsdDih_Qheavyatoms'\n",
    "        wf=open(outname,'w')\n",
    "        wf.write('#rmsdDihed    Q_heavy\\n')\n",
    "        for j in range(len(data)):\n",
    "            rmsd=singleSD(data[j],crystal_phi_psi)\n",
    "            wf.write(str(rmsd)+'    '+str(Q[j])+'\\n')\n",
    "        wf.close()"
   ]
  },
  {
   "cell_type": "code",
   "execution_count": 14,
   "metadata": {},
   "outputs": [],
   "source": [
    "trj_information=np.loadtxt('/home/disk2/wdd/PDZ/12concentration_MSM_Q0824/trj_select2.cs')"
   ]
  },
  {
   "cell_type": "code",
   "execution_count": 15,
   "metadata": {},
   "outputs": [],
   "source": [
    "all_rmsdDihed_Qheavy=[]\n",
    "wf=open('all.rmsdDih_Qheavy','w')\n",
    "for eachin in trj_information:\n",
    "    #print eachin[0]\n",
    "    rmsd=np.loadtxt('/home/disk2/wdd/PDZ/12concentration/rmsd_dihed/fit'+str(int(eachin[0]))+'_pdz'+str(int(eachin[1]))+'.rmsdDih')\n",
    "    Q=np.loadtxt('/home/disk2/wdd/PDZ/12concentration/Q_heavyatoms/fit'+str(int(eachin[0]))+'_chain'+str(int(eachin[1]))+'_Q_heavyatoms.cs')\n",
    "    endtrj=int(eachin[2])*10+1\n",
    "    for i in range(endtrj):\n",
    "        #all_rmsdDihed_Qheavy.append([rmsd[i], Q[i]])\n",
    "        wf.write(str(rmsd[i])+'    '+str(Q[i])+'\\n')\n",
    "wf.close()"
   ]
  },
  {
   "cell_type": "code",
   "execution_count": 22,
   "metadata": {},
   "outputs": [
    {
     "name": "stderr",
     "output_type": "stream",
     "text": [
      "/software/anaconda2/envs/m3/lib/python2.7/site-packages/mdtraj-1.8.0-py2.7-linux-x86_64.egg/mdtraj/core/trajectory.py:417: UserWarning: top= kwarg ignored since file contains topology information\n",
      "  warnings.warn('top= kwarg ignored since file contains topology information')\n"
     ]
    }
   ],
   "source": [
    "t_ref=md.load('12con_ref.pdb',top='12con_ref.pdb')"
   ]
  },
  {
   "cell_type": "code",
   "execution_count": 26,
   "metadata": {},
   "outputs": [],
   "source": [
    "for nt in range(2,64):\n",
    "    t_con=md.load('/home/disk2/wdd/PDZ/12concentration/trj/all/fit'+str(nt)+'_skip10.xtc',top='/home/disk2/wdd/PDZ/12concentration/begin.pdb')\n",
    "    for i in range(1,13):\n",
    "        con_noh=[atom.index for atom in t_con.topology.chain(i).atoms if ((atom.residue.index > (109+6*i) and atom.residue.index <= (114+6*i)) and (atom.name in ['CA', 'CB', 'N', 'C', 'O']))]\n",
    "        con_rmsds=md.rmsd(t_con,t_ref,0,atom_indices=con_noh)\n",
    "\n",
    "        outname='fit'+str(nt)+'_pdz'+str(i)+'.rmsd'\n",
    "        wf=open(outname,'w')\n",
    "        wf.write('#rmsd\\n')\n",
    "        for j in range(len(con_rmsds)):\n",
    "            wf.write(str(con_rmsds[j])+'\\n')\n",
    "        wf.close()"
   ]
  },
  {
   "cell_type": "code",
   "execution_count": 23,
   "metadata": {},
   "outputs": [
    {
     "name": "stdout",
     "output_type": "stream",
     "text": [
      "/home/disk2/wdd/PDZ/12concentration/rmsd\n"
     ]
    }
   ],
   "source": [
    "cd rmsd"
   ]
  },
  {
   "cell_type": "code",
   "execution_count": 27,
   "metadata": {
    "collapsed": true
   },
   "outputs": [],
   "source": [
    "wf=open('all.rmsd_Qheavy','w')\n",
    "for eachin in trj_information:\n",
    "    #print eachin[0]\n",
    "    rmsd=np.loadtxt('/home/disk2/wdd/PDZ/12concentration/rmsd/fit'+str(int(eachin[0]))+'_pdz'+str(int(eachin[1]))+'.rmsd')\n",
    "    Q=np.loadtxt('/home/disk2/wdd/PDZ/12concentration/Q_heavyatoms/fit'+str(int(eachin[0]))+'_chain'+str(int(eachin[1]))+'_Q_heavyatoms.cs')\n",
    "    endtrj=int(eachin[2])*10+1\n",
    "    for i in range(endtrj):\n",
    "        #all_rmsdDihed_Qheavy.append([rmsd[i], Q[i]])\n",
    "        wf.write(str(rmsd[i])+'    '+str(Q[i])+'\\n')\n",
    "wf.close()"
   ]
  },
  {
   "cell_type": "code",
   "execution_count": null,
   "metadata": {
    "collapsed": true
   },
   "outputs": [],
   "source": [
    "all_Q=[]\n",
    "for eachin in trj_information:\n",
    "    #print eachin[0]\n",
    "    filename='/home/disk2/wdd/PDZ/12concentration_MSM_Q/h5/Qall/fit'+str(int(eachin[0]))+'_chain'+str(int(eachin[1]))+'_Q_s.h5'\n",
    "    endtrj=int(eachin[2])*10+1\n",
    "    Q = dataset(filename)\n",
    "    all_Q.append(Q[0][0:endtrj])\n",
    "    del Q\n",
    "all_arr=np.array(all_Q)"
   ]
  }
 ],
 "metadata": {
  "kernelspec": {
   "display_name": "Python 3",
   "language": "python",
   "name": "python3"
  },
  "language_info": {
   "codemirror_mode": {
    "name": "ipython",
    "version": 3
   },
   "file_extension": ".py",
   "mimetype": "text/x-python",
   "name": "python",
   "nbconvert_exporter": "python",
   "pygments_lexer": "ipython3",
   "version": "3.6.10"
  }
 },
 "nbformat": 4,
 "nbformat_minor": 2
}
