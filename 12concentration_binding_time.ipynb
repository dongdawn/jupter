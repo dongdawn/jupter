{
 "cells": [
  {
   "cell_type": "code",
   "execution_count": 1,
   "metadata": {},
   "outputs": [
    {
     "name": "stdout",
     "output_type": "stream",
     "text": [
      "/scratch/gpfs/dongdong/msm_pdz/complex/12concentration/Q_heavyatoms\n"
     ]
    }
   ],
   "source": [
    "cd /home/dongdong/SCR/msm_pdz/complex/12concentration/Q_heavyatoms"
   ]
  },
  {
   "cell_type": "code",
   "execution_count": null,
   "metadata": {},
   "outputs": [],
   "source": [
    "fit7_chain6_Q_heavyatoms.cs"
   ]
  },
  {
   "cell_type": "code",
   "execution_count": 22,
   "metadata": {},
   "outputs": [
    {
     "name": "stdout",
     "output_type": "stream",
     "text": [
      "170\n",
      "314\n",
      "1282\n",
      "312\n",
      "4712\n",
      "1259\n",
      "922\n",
      "758\n",
      "108\n",
      "150\n",
      "2761\n",
      "141\n",
      "586\n",
      "535\n",
      "391\n",
      "143\n",
      "957\n",
      "211\n",
      "410\n",
      "826\n",
      "348\n",
      "560\n",
      "358\n",
      "1116\n",
      "1458\n",
      "516\n",
      "=========ave=======sd======\n",
      "819.384615385      963.089462931\n"
     ]
    }
   ],
   "source": [
    "import numpy as np\n",
    "alltime=[]\n",
    "trjlist=[[1,4],[3,9],[10,5],[11,7],[15,9],[18,5],[19,10],[22,9],[27,2],[32,2],[34,7],[35,12],[38,8],[39,10],[40,11],[43,12],[44,3],[47,7],[48,1],[49,3],[50,5],[54,8],[56,7],[57,10],[60,8],[63,11]]\n",
    "for trj in trjlist:\n",
    "    trjname='fit%s_chain%s_Q_heavyatoms.cs' %(trj[0],trj[1])\n",
    "    data=np.loadtxt(trjname)\n",
    "    temp=[]\n",
    "    for i in range(len(data)-1,-1,-1):\n",
    "        #print(data[i])\n",
    "        if data[i]>=0.9:\n",
    "            temp=[]\n",
    "        elif data[i]>=0.02 and data[i]<0.9:\n",
    "            temp.append(data[i])\n",
    "            #print('start'+str(i))\n",
    "        if data[i]<0.05:\n",
    "            #print('end'+str(i))\n",
    "            #continue\n",
    "            break\n",
    "    print(len(temp))\n",
    "    alltime.append(len(temp))\n",
    "print('=========ave=======sd======')\n",
    "print(np.mean(alltime),'    ',np.std(alltime))"
   ]
  },
  {
   "cell_type": "code",
   "execution_count": 23,
   "metadata": {},
   "outputs": [
    {
     "data": {
      "text/plain": [
       "'/scratch/gpfs/dongdong/msm_pdz/complex/12concentration/Q_heavyatoms'"
      ]
     },
     "execution_count": 23,
     "metadata": {},
     "output_type": "execute_result"
    }
   ],
   "source": [
    "pwd"
   ]
  },
  {
   "cell_type": "code",
   "execution_count": null,
   "metadata": {},
   "outputs": [],
   "source": []
  }
 ],
 "metadata": {
  "kernelspec": {
   "display_name": "Python 3",
   "language": "python",
   "name": "python3"
  },
  "language_info": {
   "codemirror_mode": {
    "name": "ipython",
    "version": 3
   },
   "file_extension": ".py",
   "mimetype": "text/x-python",
   "name": "python",
   "nbconvert_exporter": "python",
   "pygments_lexer": "ipython3",
   "version": "3.6.10"
  }
 },
 "nbformat": 4,
 "nbformat_minor": 4
}
