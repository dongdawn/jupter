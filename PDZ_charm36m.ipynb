{
 "cells": [
  {
   "cell_type": "code",
   "execution_count": 1,
   "metadata": {},
   "outputs": [
    {
     "name": "stdout",
     "output_type": "stream",
     "text": [
      "/scratch/gpfs/dongdong/msm_pdz/isolation/charm36m\n"
     ]
    }
   ],
   "source": [
    "cd /home/dongdong/SCR/msm_pdz/isolation/charm36m"
   ]
  },
  {
   "cell_type": "code",
   "execution_count": 9,
   "metadata": {},
   "outputs": [],
   "source": [
    "from msmbuilder.dataset import dataset\n",
    "from msmbuilder.cluster import KCenters\n",
    "from msmbuilder.cluster import MiniBatchKMeans\n",
    "from msmbuilder.cluster import MiniBatchKMedoids\n",
    "from msmbuilder.msm import MarkovStateModel\n",
    "from msmbuilder.lumping import PCCAPlus\n",
    "from msmbuilder.lumping import PCCA\n",
    "from msmbuilder.msm import implied_timescales\n",
    "import matplotlib.pyplot as plt\n",
    "import matplotlib.font_manager as font_manager\n",
    "import numpy as np\n",
    "font_path = '/home/dongdong/tigress/calibribold.ttf'\n",
    "font_prop = font_manager.FontProperties(fname=font_path, size=20)"
   ]
  },
  {
   "cell_type": "code",
   "execution_count": 8,
   "metadata": {},
   "outputs": [
    {
     "data": {
      "text/plain": [
       "'/home/disk2/wdd/msm/calibribold.ttf'"
      ]
     },
     "execution_count": 8,
     "metadata": {},
     "output_type": "execute_result"
    }
   ],
   "source": [
    "font_path"
   ]
  },
  {
   "cell_type": "code",
   "execution_count": 11,
   "metadata": {},
   "outputs": [],
   "source": [
    "xyz = dataset(\"./trj/*.xtc\",topology='crystal.pdb',stride=1)"
   ]
  },
  {
   "cell_type": "code",
   "execution_count": 12,
   "metadata": {},
   "outputs": [],
   "source": [
    "minimal_inds = [a for a in xyz[0].topology.select_atom_indices(selection='minimal')]\n",
    "trajs = [t.atom_slice(minimal_inds) for t in xyz]"
   ]
  },
  {
   "cell_type": "code",
   "execution_count": 13,
   "metadata": {},
   "outputs": [],
   "source": [
    "cluster = MiniBatchKMedoids(metric='rmsd', n_clusters=800)"
   ]
  },
  {
   "cell_type": "code",
   "execution_count": 14,
   "metadata": {},
   "outputs": [
    {
     "ename": "KeyboardInterrupt",
     "evalue": "",
     "output_type": "error",
     "traceback": [
      "\u001b[0;31m---------------------------------------------------------------------------\u001b[0m",
      "\u001b[0;31mKeyboardInterrupt\u001b[0m                         Traceback (most recent call last)",
      "\u001b[0;32m<ipython-input-14-05984b8fa8f1>\u001b[0m in \u001b[0;36m<module>\u001b[0;34m\u001b[0m\n\u001b[0;32m----> 1\u001b[0;31m \u001b[0msequences\u001b[0m \u001b[0;34m=\u001b[0m \u001b[0mcluster\u001b[0m\u001b[0;34m.\u001b[0m\u001b[0mfit_transform\u001b[0m\u001b[0;34m(\u001b[0m\u001b[0mtrajs\u001b[0m\u001b[0;34m)\u001b[0m\u001b[0;34m\u001b[0m\u001b[0;34m\u001b[0m\u001b[0m\n\u001b[0m",
      "\u001b[0;32m~/software/anaconda3/envs/py3.6/lib/python3.6/site-packages/msmbuilder/cluster/base.py\u001b[0m in \u001b[0;36mfit_transform\u001b[0;34m(self, sequences, y)\u001b[0m\n\u001b[1;32m    171\u001b[0m     \u001b[0;32mdef\u001b[0m \u001b[0mfit_transform\u001b[0m\u001b[0;34m(\u001b[0m\u001b[0mself\u001b[0m\u001b[0;34m,\u001b[0m \u001b[0msequences\u001b[0m\u001b[0;34m,\u001b[0m \u001b[0my\u001b[0m\u001b[0;34m=\u001b[0m\u001b[0;32mNone\u001b[0m\u001b[0;34m)\u001b[0m\u001b[0;34m:\u001b[0m\u001b[0;34m\u001b[0m\u001b[0;34m\u001b[0m\u001b[0m\n\u001b[1;32m    172\u001b[0m         \u001b[0;34m\"\"\"Alias for fit_predict\"\"\"\u001b[0m\u001b[0;34m\u001b[0m\u001b[0;34m\u001b[0m\u001b[0m\n\u001b[0;32m--> 173\u001b[0;31m         \u001b[0;32mreturn\u001b[0m \u001b[0mself\u001b[0m\u001b[0;34m.\u001b[0m\u001b[0mfit_predict\u001b[0m\u001b[0;34m(\u001b[0m\u001b[0msequences\u001b[0m\u001b[0;34m,\u001b[0m \u001b[0my\u001b[0m\u001b[0;34m)\u001b[0m\u001b[0;34m\u001b[0m\u001b[0;34m\u001b[0m\u001b[0m\n\u001b[0m",
      "\u001b[0;32m~/software/anaconda3/envs/py3.6/lib/python3.6/site-packages/msmbuilder/cluster/base.py\u001b[0m in \u001b[0;36mfit_predict\u001b[0;34m(self, sequences, y)\u001b[0m\n\u001b[1;32m    152\u001b[0m         \u001b[0;32mif\u001b[0m \u001b[0mhasattr\u001b[0m\u001b[0;34m(\u001b[0m\u001b[0msuper\u001b[0m\u001b[0;34m(\u001b[0m\u001b[0mMultiSequenceClusterMixin\u001b[0m\u001b[0;34m,\u001b[0m \u001b[0mself\u001b[0m\u001b[0;34m)\u001b[0m\u001b[0;34m,\u001b[0m \u001b[0;34m'fit_predict'\u001b[0m\u001b[0;34m)\u001b[0m\u001b[0;34m:\u001b[0m\u001b[0;34m\u001b[0m\u001b[0;34m\u001b[0m\u001b[0m\n\u001b[1;32m    153\u001b[0m             \u001b[0mcheck_iter_of_sequences\u001b[0m\u001b[0;34m(\u001b[0m\u001b[0msequences\u001b[0m\u001b[0;34m,\u001b[0m \u001b[0mallow_trajectory\u001b[0m\u001b[0;34m=\u001b[0m\u001b[0mself\u001b[0m\u001b[0;34m.\u001b[0m\u001b[0m_allow_trajectory\u001b[0m\u001b[0;34m)\u001b[0m\u001b[0;34m\u001b[0m\u001b[0;34m\u001b[0m\u001b[0m\n\u001b[0;32m--> 154\u001b[0;31m             \u001b[0mlabels\u001b[0m \u001b[0;34m=\u001b[0m \u001b[0msuper\u001b[0m\u001b[0;34m(\u001b[0m\u001b[0mMultiSequenceClusterMixin\u001b[0m\u001b[0;34m,\u001b[0m \u001b[0mself\u001b[0m\u001b[0;34m)\u001b[0m\u001b[0;34m.\u001b[0m\u001b[0mfit_predict\u001b[0m\u001b[0;34m(\u001b[0m\u001b[0msequences\u001b[0m\u001b[0;34m)\u001b[0m\u001b[0;34m\u001b[0m\u001b[0;34m\u001b[0m\u001b[0m\n\u001b[0m\u001b[1;32m    155\u001b[0m         \u001b[0;32melse\u001b[0m\u001b[0;34m:\u001b[0m\u001b[0;34m\u001b[0m\u001b[0;34m\u001b[0m\u001b[0m\n\u001b[1;32m    156\u001b[0m             \u001b[0mself\u001b[0m\u001b[0;34m.\u001b[0m\u001b[0mfit\u001b[0m\u001b[0;34m(\u001b[0m\u001b[0msequences\u001b[0m\u001b[0;34m)\u001b[0m\u001b[0;34m\u001b[0m\u001b[0;34m\u001b[0m\u001b[0m\n",
      "\u001b[0;32m~/software/anaconda3/envs/py3.6/lib/python3.6/site-packages/msmbuilder/cluster/minibatchkmedoids.py\u001b[0m in \u001b[0;36mfit_predict\u001b[0;34m(self, X, y)\u001b[0m\n\u001b[1;32m    165\u001b[0m \u001b[0;34m\u001b[0m\u001b[0m\n\u001b[1;32m    166\u001b[0m     \u001b[0;32mdef\u001b[0m \u001b[0mfit_predict\u001b[0m\u001b[0;34m(\u001b[0m\u001b[0mself\u001b[0m\u001b[0;34m,\u001b[0m \u001b[0mX\u001b[0m\u001b[0;34m,\u001b[0m \u001b[0my\u001b[0m\u001b[0;34m=\u001b[0m\u001b[0;32mNone\u001b[0m\u001b[0;34m)\u001b[0m\u001b[0;34m:\u001b[0m\u001b[0;34m\u001b[0m\u001b[0;34m\u001b[0m\u001b[0m\n\u001b[0;32m--> 167\u001b[0;31m         \u001b[0;32mreturn\u001b[0m \u001b[0mself\u001b[0m\u001b[0;34m.\u001b[0m\u001b[0mfit\u001b[0m\u001b[0;34m(\u001b[0m\u001b[0mX\u001b[0m\u001b[0;34m,\u001b[0m \u001b[0my\u001b[0m\u001b[0;34m)\u001b[0m\u001b[0;34m.\u001b[0m\u001b[0mlabels_\u001b[0m\u001b[0;34m\u001b[0m\u001b[0;34m\u001b[0m\u001b[0m\n\u001b[0m\u001b[1;32m    168\u001b[0m \u001b[0;34m\u001b[0m\u001b[0m\n\u001b[1;32m    169\u001b[0m \u001b[0;34m\u001b[0m\u001b[0m\n",
      "\u001b[0;32m~/software/anaconda3/envs/py3.6/lib/python3.6/site-packages/msmbuilder/cluster/minibatchkmedoids.py\u001b[0m in \u001b[0;36mfit\u001b[0;34m(self, sequences, y)\u001b[0m\n\u001b[1;32m    198\u001b[0m         \u001b[0mself\u001b[0m\u001b[0;34m\u001b[0m\u001b[0;34m\u001b[0m\u001b[0m\n\u001b[1;32m    199\u001b[0m         \"\"\"\n\u001b[0;32m--> 200\u001b[0;31m         \u001b[0mMultiSequenceClusterMixin\u001b[0m\u001b[0;34m.\u001b[0m\u001b[0mfit\u001b[0m\u001b[0;34m(\u001b[0m\u001b[0mself\u001b[0m\u001b[0;34m,\u001b[0m \u001b[0msequences\u001b[0m\u001b[0;34m)\u001b[0m\u001b[0;34m\u001b[0m\u001b[0;34m\u001b[0m\u001b[0m\n\u001b[0m\u001b[1;32m    201\u001b[0m         \u001b[0mself\u001b[0m\u001b[0;34m.\u001b[0m\u001b[0mcluster_ids_\u001b[0m \u001b[0;34m=\u001b[0m \u001b[0mself\u001b[0m\u001b[0;34m.\u001b[0m\u001b[0m_split_indices\u001b[0m\u001b[0;34m(\u001b[0m\u001b[0mself\u001b[0m\u001b[0;34m.\u001b[0m\u001b[0mcluster_ids_\u001b[0m\u001b[0;34m)\u001b[0m\u001b[0;34m\u001b[0m\u001b[0;34m\u001b[0m\u001b[0m\n\u001b[1;32m    202\u001b[0m         \u001b[0;32mreturn\u001b[0m \u001b[0mself\u001b[0m\u001b[0;34m\u001b[0m\u001b[0;34m\u001b[0m\u001b[0m\n",
      "\u001b[0;32m~/software/anaconda3/envs/py3.6/lib/python3.6/site-packages/msmbuilder/cluster/base.py\u001b[0m in \u001b[0;36mfit\u001b[0;34m(self, sequences, y)\u001b[0m\n\u001b[1;32m     46\u001b[0m         \"\"\"\n\u001b[1;32m     47\u001b[0m         \u001b[0mcheck_iter_of_sequences\u001b[0m\u001b[0;34m(\u001b[0m\u001b[0msequences\u001b[0m\u001b[0;34m,\u001b[0m \u001b[0mallow_trajectory\u001b[0m\u001b[0;34m=\u001b[0m\u001b[0mself\u001b[0m\u001b[0;34m.\u001b[0m\u001b[0m_allow_trajectory\u001b[0m\u001b[0;34m)\u001b[0m\u001b[0;34m\u001b[0m\u001b[0;34m\u001b[0m\u001b[0m\n\u001b[0;32m---> 48\u001b[0;31m         \u001b[0msuper\u001b[0m\u001b[0;34m(\u001b[0m\u001b[0mMultiSequenceClusterMixin\u001b[0m\u001b[0;34m,\u001b[0m \u001b[0mself\u001b[0m\u001b[0;34m)\u001b[0m\u001b[0;34m.\u001b[0m\u001b[0mfit\u001b[0m\u001b[0;34m(\u001b[0m\u001b[0mself\u001b[0m\u001b[0;34m.\u001b[0m\u001b[0m_concat\u001b[0m\u001b[0;34m(\u001b[0m\u001b[0msequences\u001b[0m\u001b[0;34m)\u001b[0m\u001b[0;34m)\u001b[0m\u001b[0;34m\u001b[0m\u001b[0;34m\u001b[0m\u001b[0m\n\u001b[0m\u001b[1;32m     49\u001b[0m \u001b[0;34m\u001b[0m\u001b[0m\n\u001b[1;32m     50\u001b[0m         \u001b[0;32mif\u001b[0m \u001b[0mhasattr\u001b[0m\u001b[0;34m(\u001b[0m\u001b[0mself\u001b[0m\u001b[0;34m,\u001b[0m \u001b[0;34m'labels_'\u001b[0m\u001b[0;34m)\u001b[0m\u001b[0;34m:\u001b[0m\u001b[0;34m\u001b[0m\u001b[0;34m\u001b[0m\u001b[0m\n",
      "\u001b[0;32m~/software/anaconda3/envs/py3.6/lib/python3.6/site-packages/msmbuilder/cluster/minibatchkmedoids.py\u001b[0m in \u001b[0;36mfit\u001b[0;34m(self, X, y)\u001b[0m\n\u001b[1;32m    108\u001b[0m                 \u001b[0mrandom_state\u001b[0m\u001b[0;34m.\u001b[0m\u001b[0mrandint\u001b[0m\u001b[0;34m(\u001b[0m\u001b[0;36m0\u001b[0m\u001b[0;34m,\u001b[0m \u001b[0mn_samples\u001b[0m\u001b[0;34m,\u001b[0m \u001b[0mself\u001b[0m\u001b[0;34m.\u001b[0m\u001b[0mbatch_size\u001b[0m\u001b[0;34m)\u001b[0m\u001b[0;34m,\u001b[0m\u001b[0;34m\u001b[0m\u001b[0;34m\u001b[0m\u001b[0m\n\u001b[1;32m    109\u001b[0m             ])\n\u001b[0;32m--> 110\u001b[0;31m             \u001b[0mdmat\u001b[0m \u001b[0;34m=\u001b[0m \u001b[0mlibdistance\u001b[0m\u001b[0;34m.\u001b[0m\u001b[0mpdist\u001b[0m\u001b[0;34m(\u001b[0m\u001b[0mX\u001b[0m\u001b[0;34m,\u001b[0m \u001b[0mmetric\u001b[0m\u001b[0;34m=\u001b[0m\u001b[0mself\u001b[0m\u001b[0;34m.\u001b[0m\u001b[0mmetric\u001b[0m\u001b[0;34m,\u001b[0m \u001b[0mX_indices\u001b[0m\u001b[0;34m=\u001b[0m\u001b[0mnp\u001b[0m\u001b[0;34m.\u001b[0m\u001b[0marray\u001b[0m\u001b[0;34m(\u001b[0m\u001b[0mminibatch_indices\u001b[0m\u001b[0;34m,\u001b[0m \u001b[0mdtype\u001b[0m\u001b[0;34m=\u001b[0m\u001b[0mnp\u001b[0m\u001b[0;34m.\u001b[0m\u001b[0mintp\u001b[0m\u001b[0;34m)\u001b[0m\u001b[0;34m)\u001b[0m\u001b[0;34m\u001b[0m\u001b[0;34m\u001b[0m\u001b[0m\n\u001b[0m\u001b[1;32m    111\u001b[0m             minibatch_labels = np.array(np.concatenate([\n\u001b[1;32m    112\u001b[0m                 \u001b[0mnp\u001b[0m\u001b[0;34m.\u001b[0m\u001b[0marange\u001b[0m\u001b[0;34m(\u001b[0m\u001b[0mself\u001b[0m\u001b[0;34m.\u001b[0m\u001b[0mn_clusters\u001b[0m\u001b[0;34m)\u001b[0m\u001b[0;34m,\u001b[0m\u001b[0;34m\u001b[0m\u001b[0;34m\u001b[0m\u001b[0m\n",
      "\u001b[0;31mKeyboardInterrupt\u001b[0m: "
     ]
    }
   ],
   "source": [
    "sequences = cluster.fit_transform(trajs)"
   ]
  },
  {
   "cell_type": "code",
   "execution_count": 119,
   "metadata": {
    "collapsed": true
   },
   "outputs": [],
   "source": [
    "lag_times = np.arange(1,200,10)\n",
    "n_timescales = 20"
   ]
  },
  {
   "cell_type": "code",
   "execution_count": 120,
   "metadata": {
    "collapsed": true
   },
   "outputs": [],
   "source": [
    "msm_timescales = implied_timescales(sequences, lag_times, n_timescales=n_timescales, msm=MarkovStateModel(verbose=False), n_jobs = 5)"
   ]
  },
  {
   "cell_type": "code",
   "execution_count": 121,
   "metadata": {},
   "outputs": [
    {
     "data": {
      "image/png": "[encoded data removed]",
      "text/plain": [
       "<matplotlib.figure.Figure at 0x7fb22449acd0>"
      ]
     },
     "metadata": {},
     "output_type": "display_data"
    }
   ],
   "source": [
    "fig = plt.figure(figsize=(5,4))\n",
    "sub = fig.add_subplot(1,1,1)\n",
    "for i in range(n_timescales):\n",
    "    plt.plot(lag_times*10, msm_timescales[:,i]*10,lw=2.2)\n",
    "for label in (sub.get_xticklabels() + sub.get_yticklabels()):\n",
    "    label.set_fontproperties(font_prop)\n",
    "    label.set_fontsize(16)\n",
    "plt.xlabel(r'lag time (ps)',fontproperties=font_prop)\n",
    "plt.ylabel(r'implied timescales (ps)',fontproperties=font_prop)\n",
    "plt.ylim(20,30000)\n",
    "plt.semilogy()\n",
    "plt.savefig('impliedtimescales_kmedoids_800.png',dpi=600,bbox_inches='tight')\n",
    "plt.show()"
   ]
  },
  {
   "cell_type": "code",
   "execution_count": 131,
   "metadata": {
    "collapsed": true
   },
   "outputs": [],
   "source": [
    "msm=MarkovStateModel(lag_time=80,reversible_type='mle', verbose=False)"
   ]
  },
  {
   "cell_type": "code",
   "execution_count": 132,
   "metadata": {},
   "outputs": [
    {
     "data": {
      "text/plain": [
       "MarkovStateModel(ergodic_cutoff='on', lag_time=80, n_timescales=None,\n",
       "         prior_counts=0, reversible_type='mle', sliding_window=True,\n",
       "         verbose=False)"
      ]
     },
     "execution_count": 132,
     "metadata": {},
     "output_type": "execute_result"
    }
   ],
   "source": [
    "msm.fit(sequences)"
   ]
  },
  {
   "cell_type": "code",
   "execution_count": 133,
   "metadata": {
    "collapsed": true
   },
   "outputs": [],
   "source": [
    "lab_fix=msm.transform(sequences,mode='fill')"
   ]
  },
  {
   "cell_type": "code",
   "execution_count": 100,
   "metadata": {},
   "outputs": [
    {
     "data": {
      "text/plain": [
       "65"
      ]
     },
     "execution_count": 100,
     "metadata": {},
     "output_type": "execute_result"
    }
   ],
   "source": [
    "len(lab_fix)"
   ]
  },
  {
   "cell_type": "code",
   "execution_count": 101,
   "metadata": {},
   "outputs": [],
   "source": [
    "wf=open('Population.dat','w')\n",
    "for h in msm.populations_:\n",
    "    wf.write(str(h)+'\\n')\n",
    "wf.close()\n",
    "\n",
    "matrix = msm.transmat_\n",
    "wf=open('matrix.dat','w')\n",
    "for h in matrix:\n",
    "    for l in h:\n",
    "        wf.write(str(l)+'    ')\n",
    "    wf.write('\\n')\n",
    "wf.close()"
   ]
  },
  {
   "cell_type": "code",
   "execution_count": null,
   "metadata": {},
   "outputs": [],
   "source": []
  },
  {
   "cell_type": "code",
   "execution_count": 103,
   "metadata": {
    "collapsed": true
   },
   "outputs": [],
   "source": [
    "import mdtraj.io as mdio\n",
    "from msmbuilder.io import save_meta,load_meta\n",
    "save_meta(sequences,'sequences.pickl')"
   ]
  },
  {
   "cell_type": "code",
   "execution_count": 104,
   "metadata": {
    "collapsed": true
   },
   "outputs": [],
   "source": [
    "save_meta(msm,'msm.pickl')"
   ]
  },
  {
   "cell_type": "code",
   "execution_count": 71,
   "metadata": {
    "collapsed": true
   },
   "outputs": [],
   "source": [
    "wf=open('xtc_sortname.cs','w')\n",
    "for i in range(len(xyz)):\n",
    "    wf.write(str(xyz.filename(i))+'\\n')\n",
    "wf.close()"
   ]
  },
  {
   "cell_type": "code",
   "execution_count": 191,
   "metadata": {},
   "outputs": [
    {
     "name": "stdout",
     "output_type": "stream",
     "text": [
      "Optimization terminated successfully.\n",
      "         Current function value: -12.235332\n",
      "         Iterations: 28\n",
      "         Function evaluations: 2203\n"
     ]
    }
   ],
   "source": [
    "nMacrostates = 20\n",
    "lagT = 80\n",
    "pcca = PCCAPlus.from_msm(msm, n_macrostates=nMacrostates)\n",
    "macro_trajs = pcca.transform(lab_fix)"
   ]
  },
  {
   "cell_type": "code",
   "execution_count": 174,
   "metadata": {},
   "outputs": [
    {
     "data": {
      "image/png": "[encoded data removed]",
      "text/plain": [
       "<matplotlib.figure.Figure at 0x7fb227ea7c50>"
      ]
     },
     "metadata": {},
     "output_type": "display_data"
    }
   ],
   "source": [
    "lag_times = np.arange(1,200,10)\n",
    "n_timescales = 19\n",
    "msm_timescales = implied_timescales(macro_trajs, lag_times, n_timescales=n_timescales, msm=MarkovStateModel(reversible_type='mle',ergodic_cutoff='on',verbose=False), n_jobs = 4)\n",
    "fig = plt.figure(figsize=(5,4))\n",
    "sub = fig.add_subplot(1,1,1)\n",
    "for i in range(n_timescales):\n",
    "    plt.plot(lag_times*10, msm_timescales[:,i]*10,lw=2.2)\n",
    "for label in (sub.get_xticklabels() + sub.get_yticklabels()):\n",
    "    label.set_fontproperties(font_prop)\n",
    "    label.set_fontsize(16)\n",
    "plt.xlabel(r'lag time (ps)',fontproperties=font_prop)\n",
    "plt.ylabel(r'implied timescales (ps)',fontproperties=font_prop)\n",
    "plt.ylim(20,30000)\n",
    "plt.semilogy()\n",
    "plt.savefig('Macro100_impliedtimescales_lag80.png',dpi=600,bbox_inches='tight')\n",
    "plt.show()"
   ]
  },
  {
   "cell_type": "code",
   "execution_count": 192,
   "metadata": {},
   "outputs": [
    {
     "name": "stdout",
     "output_type": "stream",
     "text": [
      "MSM contains 1 strongly connected component above weight=0.01. Component 0 selected, with population 100.000000%\n"
     ]
    },
    {
     "data": {
      "text/plain": [
       "MarkovStateModel(ergodic_cutoff='on', lag_time=80, n_timescales=None,\n",
       "         prior_counts=0, reversible_type=None, sliding_window=True,\n",
       "         verbose=True)"
      ]
     },
     "execution_count": 192,
     "metadata": {},
     "output_type": "execute_result"
    }
   ],
   "source": [
    "Macromsm = MarkovStateModel(lag_time=80,ergodic_cutoff='on',reversible_type=None)\n",
    "Macromsm.fit(macro_trajs)"
   ]
  },
  {
   "cell_type": "code",
   "execution_count": 176,
   "metadata": {},
   "outputs": [
    {
     "name": "stderr",
     "output_type": "stream",
     "text": [
      "/home/disk2/software/anaconda2/envs/msmb/lib/python2.7/site-packages/ipykernel/__main__.py:3: ComplexWarning: Casting complex values to real discards the imaginary part\n",
      "  app.launch_new_instance()\n"
     ]
    }
   ],
   "source": [
    "wf=open('Macro_Population.dat','w')\n",
    "for h in Macromsm.populations_:\n",
    "    wf.write(str(float(h))+'\\n')\n",
    "wf.close()\n",
    "from msmbuilder.tpt import mfpts\n",
    "Macro_mfpt = mfpts(Macromsm)\n",
    "wf=open('Macro_mfpt.dat','w')\n",
    "for h in Macro_mfpt:\n",
    "    for l in h:\n",
    "        wf.write(str(l)+'    ')\n",
    "    wf.write('\\n')\n",
    "wf.close()\n",
    "wf=open('tProb.mtx','w')\n",
    "wf.write('%%MatrixMarket matrix coordinate real general\\n%\\n')\n",
    "wf.write(str(len(Macromsm.transmat_))+' '+str(len(Macromsm.transmat_[0]))+' '+str(len(Macromsm.transmat_)*len(Macromsm.transmat_[0]))+'\\n')\n",
    "for i in range(len(Macromsm.transmat_)):\n",
    "    for j in range(len(Macromsm.transmat_[i])):\n",
    "        wf.write(str(i+1)+' '+str(j+1)+' '+str(Macromsm.transmat_[i][j])+'\\n')\n",
    "wf.close()"
   ]
  },
  {
   "cell_type": "code",
   "execution_count": null,
   "metadata": {},
   "outputs": [],
   "source": []
  },
  {
   "cell_type": "code",
   "execution_count": 154,
   "metadata": {
    "collapsed": true
   },
   "outputs": [],
   "source": [
    "save_meta(Macromsm,'Macromsm.pickl')"
   ]
  },
  {
   "cell_type": "code",
   "execution_count": 155,
   "metadata": {
    "collapsed": true
   },
   "outputs": [],
   "source": [
    "save_meta(macro_trajs,'macro_trajs.pickl')"
   ]
  },
  {
   "cell_type": "code",
   "execution_count": 156,
   "metadata": {},
   "outputs": [],
   "source": [
    "from msmbuilder.tpt import hub_scores"
   ]
  },
  {
   "cell_type": "code",
   "execution_count": 194,
   "metadata": {
    "collapsed": true
   },
   "outputs": [],
   "source": [
    "hubscore=hub_scores(Macromsm)"
   ]
  },
  {
   "cell_type": "code",
   "execution_count": 195,
   "metadata": {},
   "outputs": [
    {
     "data": {
      "text/plain": [
       "array([ 0.05227246,  0.06302137,  0.06272927,  0.12309486,  0.14632596,\n",
       "        0.18518435,  0.21719811,  0.20839705,  0.17365713,  0.25240428,\n",
       "        0.41727728,  0.28290416,  0.37550175,  0.35876125,  0.46029329,\n",
       "        0.70429881,  0.50321764,  0.58634329,  0.70235988,  0.79172357])"
      ]
     },
     "execution_count": 195,
     "metadata": {},
     "output_type": "execute_result"
    }
   ],
   "source": [
    "hubscore"
   ]
  },
  {
   "cell_type": "code",
   "execution_count": 196,
   "metadata": {},
   "outputs": [
    {
     "name": "stdout",
     "output_type": "stream",
     "text": [
      "/home/disk2/wdd/PDZ/MSM/charm36m/Micro800_lag80/Macro20\n"
     ]
    }
   ],
   "source": [
    "cd /home/disk2/wdd/PDZ/MSM/charm36m/Micro800_lag80/Macro20"
   ]
  },
  {
   "cell_type": "code",
   "execution_count": 197,
   "metadata": {
    "collapsed": true
   },
   "outputs": [],
   "source": [
    "wf=open('Macro20_hubSoores.dat','w')\n",
    "for h in hubscore:\n",
    "    wf.write(str(h)+'\\n')\n",
    "wf.close()"
   ]
  },
  {
   "cell_type": "code",
   "execution_count": 162,
   "metadata": {},
   "outputs": [
    {
     "name": "stdout",
     "output_type": "stream",
     "text": [
      "/home/disk2/wdd/PDZ/MSM/charm36m\n"
     ]
    }
   ],
   "source": [
    "cd /home/disk2/wdd/PDZ/MSM/charm36m/"
   ]
  },
  {
   "cell_type": "code",
   "execution_count": 163,
   "metadata": {},
   "outputs": [
    {
     "ename": "ValueError",
     "evalue": "minima is not a valid option. Selection must be one of all, alpha, minimal, heavy, water",
     "output_type": "error",
     "traceback": [
      "\u001b[0;31m\u001b[0m",
      "\u001b[0;31mValueError\u001b[0mTraceback (most recent call last)",
      "\u001b[0;32m<ipython-input-163-001ef1b30b11>\u001b[0m in \u001b[0;36m<module>\u001b[0;34m()\u001b[0m\n\u001b[0;32m----> 1\u001b[0;31m \u001b[0mminimal_inds\u001b[0m \u001b[0;34m=\u001b[0m \u001b[0;34m[\u001b[0m\u001b[0ma\u001b[0m \u001b[0;32mfor\u001b[0m \u001b[0ma\u001b[0m \u001b[0;32min\u001b[0m \u001b[0mxyz\u001b[0m\u001b[0;34m[\u001b[0m\u001b[0;36m0\u001b[0m\u001b[0;34m]\u001b[0m\u001b[0;34m.\u001b[0m\u001b[0mtopology\u001b[0m\u001b[0;34m.\u001b[0m\u001b[0mselect_atom_indices\u001b[0m\u001b[0;34m(\u001b[0m\u001b[0mselection\u001b[0m\u001b[0;34m=\u001b[0m\u001b[0;34m'minima'\u001b[0m\u001b[0;34m)\u001b[0m\u001b[0;34m]\u001b[0m\u001b[0;34m\u001b[0m\u001b[0m\n\u001b[0m",
      "\u001b[0;32m/software/anaconda2/envs/msmb/lib/python2.7/site-packages/mdtraj-1.8.0-py2.7-linux-x86_64.egg/mdtraj/core/topology.pyc\u001b[0m in \u001b[0;36mselect_atom_indices\u001b[0;34m(self, selection)\u001b[0m\n\u001b[1;32m    982\u001b[0m             raise ValueError(\n\u001b[1;32m    983\u001b[0m                 '%s is not a valid option. Selection must be one of %s' % (\n\u001b[0;32m--> 984\u001b[0;31m                     selection, ', '.join(options)))\n\u001b[0m\u001b[1;32m    985\u001b[0m \u001b[0;34m\u001b[0m\u001b[0m\n\u001b[1;32m    986\u001b[0m         \u001b[0mindices\u001b[0m \u001b[0;34m=\u001b[0m \u001b[0mnp\u001b[0m\u001b[0;34m.\u001b[0m\u001b[0marray\u001b[0m\u001b[0;34m(\u001b[0m\u001b[0matom_indices\u001b[0m\u001b[0;34m)\u001b[0m\u001b[0;34m\u001b[0m\u001b[0m\n",
      "\u001b[0;31mValueError\u001b[0m: minima is not a valid option. Selection must be one of all, alpha, minimal, heavy, water"
     ]
    }
   ],
   "source": [
    "minimal_inds = [a for a in xyz[0].topology.select_atom_indices(selection='minima')]"
   ]
  },
  {
   "cell_type": "code",
   "execution_count": 198,
   "metadata": {},
   "outputs": [
    {
     "data": {
      "text/plain": [
       "u'/home/disk2/wdd/PDZ/MSM/charm36m/Micro800_lag80/Macro20'"
      ]
     },
     "execution_count": 198,
     "metadata": {},
     "output_type": "execute_result"
    }
   ],
   "source": [
    "pwd"
   ]
  },
  {
   "cell_type": "code",
   "execution_count": 199,
   "metadata": {
    "collapsed": true
   },
   "outputs": [],
   "source": [
    "lab_traj=load_meta('macro_trajs.pickl')"
   ]
  },
  {
   "cell_type": "code",
   "execution_count": 201,
   "metadata": {},
   "outputs": [],
   "source": [
    "M = load_meta('Macromsm.pickl')"
   ]
  },
  {
   "cell_type": "code",
   "execution_count": 213,
   "metadata": {},
   "outputs": [
    {
     "name": "stdout",
     "output_type": "stream",
     "text": [
      "/home/disk2/wdd/PDZ/MSM/charm36m/Micro800_lag80/Macro25/temp\n"
     ]
    }
   ],
   "source": [
    "cd /home/disk2/wdd/PDZ/MSM/charm36m/Micro800_lag80/Macro25/temp"
   ]
  },
  {
   "cell_type": "code",
   "execution_count": 206,
   "metadata": {},
   "outputs": [],
   "source": [
    "from msmbuilder.featurizer import DihedralFeaturizer\n",
    "xyz_trj = dataset(\"./*_sample.xtc\",topology='crystal.pdb',stride=1)\n",
    "featurizer_s = DihedralFeaturizer(types=['phi', 'psi'],sincos=False)\n",
    "diheds_s = xyz_trj.fit_transform_with(featurizer_s, 'diheds_s/',fmt='dir-npy')"
   ]
  },
  {
   "cell_type": "code",
   "execution_count": 207,
   "metadata": {
    "collapsed": true
   },
   "outputs": [],
   "source": [
    "wf=open('xtc_sortname.cs','w')\n",
    "for i in range(len(xyz_trj)):\n",
    "    wf.write(str(xyz_trj.filename(i))+'\\n')\n",
    "wf.close()"
   ]
  },
  {
   "cell_type": "code",
   "execution_count": 208,
   "metadata": {},
   "outputs": [
    {
     "name": "stderr",
     "output_type": "stream",
     "text": [
      "/software/anaconda2/envs/msmb/lib/python2.7/site-packages/mdtraj-1.8.0-py2.7-linux-x86_64.egg/mdtraj/core/trajectory.py:417: UserWarning: top= kwarg ignored since file contains topology information\n",
      "  warnings.warn('top= kwarg ignored since file contains topology information')\n"
     ]
    }
   ],
   "source": [
    "xyz_c = dataset(\"./crystal.pdb\",topology='crystal.pdb',stride=1)\n",
    "featurizer_c = DihedralFeaturizer(types=['phi', 'psi'],sincos=False)\n",
    "diheds_c = xyz_c.fit_transform_with(featurizer_c, 'diheds_c/',fmt='dir-npy')"
   ]
  },
  {
   "cell_type": "code",
   "execution_count": 214,
   "metadata": {
    "collapsed": true
   },
   "outputs": [],
   "source": [
    "#function of rmsd \n",
    "def singleSD(nList,refList):\n",
    "    length=len(nList)\n",
    "    sumVar=0.0\n",
    "    for i in range(length):\n",
    "        sub=nList[i]-refList[i]\n",
    "        if np.abs(sub)>180:\n",
    "            sub=360-np.abs(sub)\n",
    "        sumVar+=sub**2\n",
    "    return ((float(sumVar)/float((length)))**0.5)"
   ]
  },
  {
   "cell_type": "code",
   "execution_count": 215,
   "metadata": {},
   "outputs": [],
   "source": [
    "crystral_dihed=diheds_c[0][0]/3.14*180\n",
    "# rmsd of dihedral angle\n",
    "wf=open('rmsd_dihed2.cs','w')\n",
    "for i in range(25):\n",
    "    allRmsd=0\n",
    "    for j in range(len(diheds_s[i])):\n",
    "        rmsd=singleSD(diheds_s[i][j]/3.14*180,crystral_dihed)\n",
    "        allRmsd+=rmsd\n",
    "    aveRmsd=allRmsd/float(len(diheds_s[i]))\n",
    "    wf.write(str(i)+'    '+str(aveRmsd)+'\\n')\n",
    "wf.close()"
   ]
  },
  {
   "cell_type": "code",
   "execution_count": 212,
   "metadata": {
    "collapsed": true
   },
   "outputs": [],
   "source": [
    "#save dihedral angle\n",
    "for i in range(25):\n",
    "    wf=open(str(i)+'_dihed.cs','w')\n",
    "    for j in range(len(diheds_s[i])):\n",
    "        for k in range(len(diheds_s[i][j])):\n",
    "            wf.write(str(diheds_s[i][j][k]/3.14*180)+'    ')\n",
    "        wf.write('\\n')\n",
    "    wf.close()"
   ]
  },
  {
   "cell_type": "code",
   "execution_count": null,
   "metadata": {
    "collapsed": true
   },
   "outputs": [],
   "source": []
  }
 ],
 "metadata": {
  "kernelspec": {
   "display_name": "Python 3",
   "language": "python",
   "name": "python3"
  }
 },
 "nbformat": 4,
 "nbformat_minor": 1
}
