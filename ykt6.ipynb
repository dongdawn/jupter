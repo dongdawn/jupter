{
 "cells": [
  {
   "cell_type": "code",
   "execution_count": 1,
   "metadata": {},
   "outputs": [
    {
     "name": "stderr",
     "output_type": "stream",
     "text": [
      "/home/dongdong/software/anaconda3/envs/py2/lib/python2.7/site-packages/sklearn/cross_validation.py:44: DeprecationWarning: This module was deprecated in version 0.18 in favor of the model_selection module into which all the refactored classes and functions are moved. Also note that the interface of the new CV iterators are different from that of this module. This module will be removed in 0.20.\n",
      "  \"This module will be removed in 0.20.\", DeprecationWarning)\n",
      "/home/dongdong/software/anaconda3/envs/py2/lib/python2.7/site-packages/sklearn/grid_search.py:43: DeprecationWarning: This module was deprecated in version 0.18 in favor of the model_selection module into which all the refactored classes and functions are moved. This module will be removed in 0.20.\n",
      "  DeprecationWarning)\n"
     ]
    }
   ],
   "source": [
    "from msmbuilder.dataset import dataset\n",
    "from msmbuilder.msm import MarkovStateModel\n",
    "import numpy as np\n",
    "from msmbuilder.msm import implied_timescales\n",
    "import matplotlib.pyplot as plt\n",
    "import matplotlib.font_manager as font_manager\n",
    "from msmbuilder.msm import MarkovStateModel"
   ]
  },
  {
   "cell_type": "code",
   "execution_count": 2,
   "metadata": {},
   "outputs": [
    {
     "name": "stdout",
     "output_type": "stream",
     "text": [
      "/scratch/gpfs/dongdong/rat_xtc\n"
     ]
    }
   ],
   "source": [
    "cd /home/dongdong/SCR/rat_xtc"
   ]
  },
  {
   "cell_type": "code",
   "execution_count": 96,
   "metadata": {},
   "outputs": [],
   "source": [
    "xyz = dataset(\"./cluster/*.xtc\",topology='./ykt6_begin.pdb',stride=5)"
   ]
  },
  {
   "cell_type": "code",
   "execution_count": 44,
   "metadata": {},
   "outputs": [],
   "source": [
    "from msmbuilder.featurizer import ContactFeaturizer\n",
    "featurizer = ContactFeaturizer()"
   ]
  },
  {
   "cell_type": "code",
   "execution_count": 45,
   "metadata": {},
   "outputs": [],
   "source": [
    "contacts=featurizer.fit_transform(xyz)"
   ]
  },
  {
   "cell_type": "code",
   "execution_count": 6,
   "metadata": {},
   "outputs": [
    {
     "data": {
      "text/plain": [
       "18528"
      ]
     },
     "execution_count": 6,
     "metadata": {},
     "output_type": "execute_result"
    }
   ],
   "source": [
    "len(contacts[0][0])"
   ]
  },
  {
   "cell_type": "code",
   "execution_count": 46,
   "metadata": {},
   "outputs": [],
   "source": [
    "from msmbuilder.decomposition import tICA\n",
    "tica_model = tICA(lag_time=2, n_components=10)"
   ]
  },
  {
   "cell_type": "code",
   "execution_count": 47,
   "metadata": {},
   "outputs": [],
   "source": [
    "tica_model = tica_model.fit(contacts)"
   ]
  },
  {
   "cell_type": "code",
   "execution_count": 48,
   "metadata": {},
   "outputs": [],
   "source": [
    "tica_trajs = tica_model.transform(contacts)"
   ]
  },
  {
   "cell_type": "code",
   "execution_count": 49,
   "metadata": {},
   "outputs": [],
   "source": [
    "from msmbuilder.cluster import MiniBatchKMeans\n",
    "clusterer = MiniBatchKMeans(n_clusters=100, random_state=42)"
   ]
  },
  {
   "cell_type": "code",
   "execution_count": 50,
   "metadata": {},
   "outputs": [],
   "source": [
    "clustered_trajs = clusterer.fit_transform(tica_trajs)"
   ]
  },
  {
   "cell_type": "code",
   "execution_count": 51,
   "metadata": {},
   "outputs": [],
   "source": [
    "sample=[]\n",
    "for cc in range(100):\n",
    "    temp=[]\n",
    "    for trj in range(len(clustered_trajs)):\n",
    "        for tt in range(len(clustered_trajs[trj])):\n",
    "            if cc ==clustered_trajs[trj][tt]:\n",
    "                temp.append(trj)\n",
    "                temp.append(tt)\n",
    "                break\n",
    "        continue\n",
    "    #print cc\n",
    "    #print temp\n",
    "    sample.append(temp)"
   ]
  },
  {
   "cell_type": "code",
   "execution_count": 54,
   "metadata": {},
   "outputs": [],
   "source": [
    "import mdtraj\n",
    "import os\n",
    "n=0\n",
    "for ss in sample:\n",
    "    temp = mdtraj.load_xtc(xyz.filename(ss[0]),top = './ykt6_begin.pdb',frame = int(ss[1]))\n",
    "    pdb_name= './cluster/state'+ str(n) +'.pdb'\n",
    "    temp.save_pdb(pdb_name)\n",
    "    n=n+1"
   ]
  },
  {
   "cell_type": "code",
   "execution_count": 35,
   "metadata": {},
   "outputs": [
    {
     "data": {
      "text/plain": [
       "True"
      ]
     },
     "execution_count": 35,
     "metadata": {},
     "output_type": "execute_result"
    }
   ],
   "source": [
    "0 in clustered_trajs[0]"
   ]
  },
  {
   "cell_type": "code",
   "execution_count": 62,
   "metadata": {},
   "outputs": [
    {
     "name": "stdout",
     "output_type": "stream",
     "text": [
      "[-0.00382548  0.00209877 -0.00045398 ..., -0.00164505 -0.0061341\n",
      "  0.00812572]\n"
     ]
    }
   ],
   "source": [
    "print tica_model.components_[0]"
   ]
  },
  {
   "cell_type": "code",
   "execution_count": 72,
   "metadata": {},
   "outputs": [
    {
     "data": {
      "text/plain": [
       "'closest-heavy'"
      ]
     },
     "execution_count": 72,
     "metadata": {},
     "output_type": "execute_result"
    }
   ],
   "source": [
    "featurizer."
   ]
  },
  {
   "cell_type": "code",
   "execution_count": 75,
   "metadata": {},
   "outputs": [],
   "source": [
    "from msmbuilder.decomposition import PCA\n",
    "pca_model = PCA(n_components=4)\n",
    "# fit and transform can be done in seperate steps:\n",
    "pca_model = pca_model.fit(contacts)\n",
    "pca_trajs = pca_model.transform(contacts)"
   ]
  },
  {
   "cell_type": "code",
   "execution_count": 76,
   "metadata": {},
   "outputs": [
    {
     "data": {
      "text/plain": [
       "array([ 0.43707001,  0.13032667,  0.11349556,  0.04900301])"
      ]
     },
     "execution_count": 76,
     "metadata": {},
     "output_type": "execute_result"
    }
   ],
   "source": [
    "pca_model.explained_variance_ratio_"
   ]
  },
  {
   "cell_type": "code",
   "execution_count": 79,
   "metadata": {},
   "outputs": [
    {
     "data": {
      "text/plain": [
       "0.015892906659812609"
      ]
     },
     "execution_count": 79,
     "metadata": {},
     "output_type": "execute_result"
    }
   ],
   "source": [
    "np.max(pca_model.components_[0])"
   ]
  },
  {
   "cell_type": "code",
   "execution_count": 94,
   "metadata": {},
   "outputs": [
    {
     "data": {
      "text/plain": [
       "18528"
      ]
     },
     "execution_count": 94,
     "metadata": {},
     "output_type": "execute_result"
    }
   ],
   "source": [
    "len(contacts[0][0])"
   ]
  },
  {
   "cell_type": "code",
   "execution_count": 102,
   "metadata": {},
   "outputs": [
    {
     "data": {
      "text/plain": [
       "{'atominds': [[1735, 1737, 1738, 1739, 1740, 1741, 1744, 1745],\n",
       "  [1760, 1762, 1763, 1764, 1765, 1766, 1767]],\n",
       " 'featuregroup': 'closest-heavy',\n",
       " 'featurizer': 'Contact',\n",
       " 'otherinfo': '20',\n",
       " 'resids': array([191, 194]),\n",
       " 'resnames': ['ASN', 'CYSH'],\n",
       " 'resseqs': [192, 195]}"
      ]
     },
     "execution_count": 102,
     "metadata": {},
     "output_type": "execute_result"
    }
   ],
   "source": [
    "featurizer.describe_features(t)[-1]"
   ]
  },
  {
   "cell_type": "code",
   "execution_count": 98,
   "metadata": {},
   "outputs": [],
   "source": [
    "import mdtraj as md\n",
    "t=md.load('cluster/ffit5.xtc',top='ykt6_begin.pdb',stride=5)"
   ]
  },
  {
   "cell_type": "code",
   "execution_count": 106,
   "metadata": {},
   "outputs": [],
   "source": [
    "pca1=pca_model.components_[0]\n",
    "pca2=pca_model.components_[1]\n",
    "tica1=tica_model.components_[0]\n",
    "tica2=tica_model.components_[1]\n",
    "wf=open('pca_tica.cs','w')\n",
    "wf.write('#contact   pca1 pca2 tica1 tica2\\n')\n",
    "n=0\n",
    "for i in range(1,193):\n",
    "    for j in range(i+3,196):     \n",
    "        wf.write(str(i)+'_'+str(j)+'    '+str(pca1[n])+'    '+str(pca2[n])+'    '+str(tica1[n])+'    '+str(tica2[n])+'\\n')\n",
    "        n+=1\n",
    "wf.close()"
   ]
  },
  {
   "cell_type": "code",
   "execution_count": null,
   "metadata": {},
   "outputs": [],
   "source": []
  }
 ],
 "metadata": {
  "kernelspec": {
   "display_name": "Python 2",
   "language": "python",
   "name": "python2"
  },
  "language_info": {
   "codemirror_mode": {
    "name": "ipython",
    "version": 2
   },
   "file_extension": ".py",
   "mimetype": "text/x-python",
   "name": "python",
   "nbconvert_exporter": "python",
   "pygments_lexer": "ipython2",
   "version": "2.7.17"
  }
 },
 "nbformat": 4,
 "nbformat_minor": 2
}
