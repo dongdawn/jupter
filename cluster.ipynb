{
 "cells": [
  {
   "cell_type": "code",
   "execution_count": 1,
   "metadata": {},
   "outputs": [
    {
     "name": "stdout",
     "output_type": "stream",
     "text": [
      "/scratch/gpfs/dongdong/cluster\n"
     ]
    }
   ],
   "source": [
    "cd /home/dongdong/SCR/cluster"
   ]
  },
  {
   "cell_type": "code",
   "execution_count": 35,
   "metadata": {},
   "outputs": [],
   "source": [
    "import numpy as np\n",
    "import sklearn.cluster as cluster\n",
    "from sklearn.preprocessing import StandardScaler"
   ]
  },
  {
   "cell_type": "code",
   "execution_count": 8,
   "metadata": {},
   "outputs": [],
   "source": [
    "data=np.loadtxt('plm.out')[:,1:]"
   ]
  },
  {
   "cell_type": "code",
   "execution_count": 36,
   "metadata": {},
   "outputs": [],
   "source": [
    "X = StandardScaler().fit_transform(data)"
   ]
  },
  {
   "cell_type": "code",
   "execution_count": 82,
   "metadata": {},
   "outputs": [
    {
     "data": {
      "text/plain": [
       "array([[  6.83796 ,   9.438016,   7.50755 ,   7.899804,  13.265936,\n",
       "          5.630607],\n",
       "       [  6.95407 ,   8.21267 ,   7.89403 ,   8.854853,  13.259849,\n",
       "          6.313131],\n",
       "       [  6.90346 ,   8.76349 ,   8.01008 ,   8.621128,  13.453388,\n",
       "          4.313604],\n",
       "       ..., \n",
       "       [  7.12295 ,   7.179439,   6.57648 ,   9.991641,  12.323055,\n",
       "          6.897952],\n",
       "       [  6.9263  ,   7.520946,   6.99803 ,   9.673736,  12.16762 ,\n",
       "          6.376927],\n",
       "       [  6.67011 ,   7.441864,   7.586245,   9.408931,  12.26711 ,\n",
       "          5.984017]])"
      ]
     },
     "execution_count": 82,
     "metadata": {},
     "output_type": "execute_result"
    }
   ],
   "source": [
    "data*np.array([10,1,5,1,1,1])"
   ]
  },
  {
   "cell_type": "code",
   "execution_count": 64,
   "metadata": {},
   "outputs": [
    {
     "data": {
      "text/plain": [
       "array([[  0.683796,   9.438016,   1.50151 ,   7.899804,  13.265936,\n",
       "          5.630607],\n",
       "       [  0.695407,   8.21267 ,   1.578806,   8.854853,  13.259849,\n",
       "          6.313131],\n",
       "       [  0.690346,   8.76349 ,   1.602016,   8.621128,  13.453388,\n",
       "          4.313604],\n",
       "       ..., \n",
       "       [  0.712295,   7.179439,   1.315296,   9.991641,  12.323055,\n",
       "          6.897952],\n",
       "       [  0.69263 ,   7.520946,   1.399606,   9.673736,  12.16762 ,\n",
       "          6.376927],\n",
       "       [  0.667011,   7.441864,   1.517249,   9.408931,  12.26711 ,\n",
       "          5.984017]])"
      ]
     },
     "execution_count": 64,
     "metadata": {},
     "output_type": "execute_result"
    }
   ],
   "source": [
    "data"
   ]
  },
  {
   "cell_type": "code",
   "execution_count": 58,
   "metadata": {},
   "outputs": [
    {
     "data": {
      "text/plain": [
       "AgglomerativeClustering(affinity='euclidean', compute_full_tree='auto',\n",
       "                        connectivity=None, distance_threshold=2,\n",
       "                        linkage='average', memory=None, n_clusters=None,\n",
       "                        pooling_func='deprecated')"
      ]
     },
     "execution_count": 58,
     "metadata": {},
     "output_type": "execute_result"
    }
   ],
   "source": [
    "cls = cluster.AgglomerativeClustering(n_clusters = None,linkage='average',distance_threshold=2)\n",
    "cls.fit(X)"
   ]
  },
  {
   "cell_type": "code",
   "execution_count": 59,
   "metadata": {},
   "outputs": [
    {
     "data": {
      "text/plain": [
       "29"
      ]
     },
     "execution_count": 59,
     "metadata": {},
     "output_type": "execute_result"
    }
   ],
   "source": [
    "len(set(cls.labels_))"
   ]
  },
  {
   "cell_type": "code",
   "execution_count": 84,
   "metadata": {},
   "outputs": [],
   "source": [
    "def cv_dist (a, b) :\n",
    "    diff = a - b\n",
    "    angle_pbc_range = len(diff)\n",
    "    if cv_dih_dim is not None :\n",
    "        angle_pbc_range = cv_dih_dim\n",
    "    for ii in range(len(diff)) :\n",
    "        value = diff[ii]\n",
    "        if ii < angle_pbc_range :\n",
    "            if value < -np.pi :\n",
    "                value += 2 * np.pi\n",
    "            elif value >= np.pi :\n",
    "                value -= 2 * np.pi\n",
    "        diff[ii] = value\n",
    "    return np.linalg.norm(diff)\n",
    "\n",
    "def mk_dist (cv) :\n",
    "    nframe = cv.shape[0]\n",
    "    dist = np.zeros([nframe, nframe])\n",
    "    for ii in range(nframe) :\n",
    "        for jj in range(ii+1, nframe) :\n",
    "            dist[ii][jj] = cv_dist(cv[ii], cv[jj])\n",
    "            dist[jj][ii] = dist[ii][jj]\n",
    "    return dist\n",
    "\n",
    "def mk_cluster (dist, distance_threshold) :\n",
    "    cls = cluster.AgglomerativeClustering(n_clusters = None,\n",
    "                                          linkage='average',\n",
    "                                          affinity = 'precomputed',\n",
    "                                          distance_threshold=distance_threshold)\n",
    "    cls.fit(dist)\n",
    "    return cls.labels_\n",
    "def sel_from_cluster (angles, distance_threshold) :\n",
    "    dist = mk_dist (angles)\n",
    "    labels = mk_cluster (dist, distance_threshold)\n",
    "    # make cluster map\n",
    "    cls_map = []\n",
    "    for ii in range(len(set(labels))) :\n",
    "        cls_map.append([])\n",
    "    for ii in range(len(labels)) :\n",
    "        cls_idx = labels[ii]\n",
    "        cls_map[cls_idx].append(ii)\n",
    "    # randomly select from cluster\n",
    "    cls_sel = []\n",
    "    np.random.seed(seed = None)\n",
    "    for ii in cls_map :\n",
    "        _ret = np.random.choice(ii, 1)\n",
    "        cls_sel.append (_ret[0])\n",
    "    cls_sel.sort()\n",
    "    return cls_sel\n"
   ]
  },
  {
   "cell_type": "code",
   "execution_count": 87,
   "metadata": {},
   "outputs": [
    {
     "data": {
      "text/plain": [
       "16"
      ]
     },
     "execution_count": 87,
     "metadata": {},
     "output_type": "execute_result"
    }
   ],
   "source": [
    "len(set(sel_from_cluster(data*np.array([10,1,5,1,1,1]),2.2)))"
   ]
  },
  {
   "cell_type": "code",
   "execution_count": 46,
   "metadata": {},
   "outputs": [
    {
     "data": {
      "text/plain": [
       "array([[ 1.22474487,  0.        ,  0.        ],\n",
       "       [ 0.        ,  1.22474487,  1.22474487],\n",
       "       [-1.22474487, -1.22474487, -1.22474487]])"
      ]
     },
     "execution_count": 46,
     "metadata": {},
     "output_type": "execute_result"
    }
   ],
   "source": [
    "StandardScaler().fit_transform(xx)"
   ]
  },
  {
   "cell_type": "code",
   "execution_count": 62,
   "metadata": {},
   "outputs": [
    {
     "data": {
      "text/plain": [
       "array([[ 0.09983342, -0.83907153,  0.86231887],\n",
       "       [ 0.        ,  0.0044257 ,  0.89200487],\n",
       "       [-0.09983342, -0.91113026,  0.03982088]])"
      ]
     },
     "execution_count": 62,
     "metadata": {},
     "output_type": "execute_result"
    }
   ],
   "source": [
    "np.append(np.sin(xx[:,:1]),np.cos(xx[:,1:]),axis=1)"
   ]
  },
  {
   "cell_type": "code",
   "execution_count": 66,
   "metadata": {},
   "outputs": [],
   "source": [
    "def preprocess(data) :\n",
    "    if cv_dih_dim is not None :\n",
    "        angle=np.append(np.sin(data[:,:cv_dih_dim]),np.cos(data[:,:cv_dih_dim]),axis=1)\n",
    "        alldata=np.append(angle,data[:,cv_dih_dim:],axis=1)\n",
    "    else:\n",
    "        alldata=data\n",
    "    return alldata\n",
    "\n",
    "def mk_cluster (data, distance_threshold) :\n",
    "    scale_data=StandardScaler().fit_transform(data)\n",
    "    cls = cluster.AgglomerativeClustering(n_clusters = None,\n",
    "                                          linkage='average',\n",
    "                                          distance_threshold=distance_threshold)\n",
    "    cls.fit(scale_data)\n",
    "    return cls.labels_\n",
    "\n",
    "def sel_from_cluster (angles, distance_threshold) :\n",
    "    labels = mk_cluster (preprocess(angles), distance_threshold)\n",
    "    # make cluster map\n",
    "    cls_map = []\n",
    "    for ii in range(len(set(labels))) :\n",
    "        cls_map.append([])\n",
    "    for ii in range(len(labels)) :\n",
    "        cls_idx = labels[ii]\n",
    "        cls_map[cls_idx].append(ii)\n",
    "    # randomly select from cluster\n",
    "    cls_sel = []\n",
    "    np.random.seed(seed = None)\n",
    "    for ii in cls_map :\n",
    "        _ret = np.random.choice(ii, 1)\n",
    "        cls_sel.append (_ret[0])\n",
    "    cls_sel.sort()\n",
    "    return cls_sel"
   ]
  },
  {
   "cell_type": "code",
   "execution_count": 75,
   "metadata": {},
   "outputs": [
    {
     "data": {
      "text/plain": [
       "17"
      ]
     },
     "execution_count": 75,
     "metadata": {},
     "output_type": "execute_result"
    }
   ],
   "source": [
    "cv_dih_dim=0\n",
    "len(sel_from_cluster(data,2.4))"
   ]
  },
  {
   "cell_type": "code",
   "execution_count": 76,
   "metadata": {},
   "outputs": [],
   "source": [
    "data2=np.loadtxt('plm2.out')[:,1:]"
   ]
  },
  {
   "cell_type": "code",
   "execution_count": 77,
   "metadata": {},
   "outputs": [
    {
     "data": {
      "text/plain": [
       "22"
      ]
     },
     "execution_count": 77,
     "metadata": {},
     "output_type": "execute_result"
    }
   ],
   "source": [
    "len(sel_from_cluster(data2,2.4))"
   ]
  },
  {
   "cell_type": "code",
   "execution_count": 83,
   "metadata": {},
   "outputs": [
    {
     "data": {
      "text/plain": [
       "array([[  0.510996,  12.772394,   2.396522,   8.323615,  10.826641,\n",
       "          5.33694 ],\n",
       "       [  0.502781,  12.120231,   2.703766,   7.998907,  10.511305,\n",
       "          4.407982],\n",
       "       [  0.506237,  11.826582,   2.474721,   7.789598,  10.820844,\n",
       "          4.54347 ],\n",
       "       ..., \n",
       "       [  0.514464,  12.489858,   3.082681,   8.019504,  10.314521,\n",
       "          5.144549],\n",
       "       [  0.52025 ,  12.087608,   2.705621,   7.91894 ,  10.429593,\n",
       "          4.560676],\n",
       "       [  0.517552,  12.692544,   2.94839 ,   7.74699 ,  10.087374,\n",
       "          4.91584 ]])"
      ]
     },
     "execution_count": 83,
     "metadata": {},
     "output_type": "execute_result"
    }
   ],
   "source": [
    "data2"
   ]
  },
  {
   "cell_type": "code",
   "execution_count": 88,
   "metadata": {},
   "outputs": [
    {
     "data": {
      "text/plain": [
       "8"
      ]
     },
     "execution_count": 88,
     "metadata": {},
     "output_type": "execute_result"
    }
   ],
   "source": [
    "len(set(sel_from_cluster(data2*np.array([10,1,5,1,1,1]),2.2)))"
   ]
  },
  {
   "cell_type": "code",
   "execution_count": null,
   "metadata": {},
   "outputs": [],
   "source": []
  }
 ],
 "metadata": {
  "kernelspec": {
   "display_name": "Python 3",
   "language": "python",
   "name": "python3"
  },
  "language_info": {
   "codemirror_mode": {
    "name": "ipython",
    "version": 3
   },
   "file_extension": ".py",
   "mimetype": "text/x-python",
   "name": "python",
   "nbconvert_exporter": "python",
   "pygments_lexer": "ipython3",
   "version": "3.6.10"
  }
 },
 "nbformat": 4,
 "nbformat_minor": 4
}
