{
 "cells": [
  {
   "cell_type": "code",
   "execution_count": 1,
   "metadata": {},
   "outputs": [
    {
     "name": "stdout",
     "output_type": "stream",
     "text": [
      "/scratch/gpfs/dongdong/chi1.run02/iter50\n"
     ]
    }
   ],
   "source": [
    "cd /home/dongdong/SCR/chi1.run02/iter50"
   ]
  },
  {
   "cell_type": "code",
   "execution_count": 3,
   "metadata": {},
   "outputs": [],
   "source": [
    "import re\n",
    "import os\n",
    "import sys\n",
    "import json\n",
    "import argparse\n",
    "import pylab\n",
    "import numpy as np\n",
    "import tensorflow as tf\n",
    "import matplotlib.pyplot as plt\n",
    "\n",
    "kbT = (8.617343E-5) * 300 \n",
    "beta = 1.0 / kbT\n",
    "f_cvt = 96.485\n",
    "\n",
    "EPSILON = 1e-8\n",
    "\n",
    "def load_graph(frozen_graph_filename, \n",
    "               prefix = 'load'):\n",
    "    # We load the protobuf file from the disk and parse it to retrieve the \n",
    "    # unserialized graph_def\n",
    "    with tf.gfile.GFile(frozen_graph_filename, \"rb\") as f:\n",
    "        graph_def = tf.GraphDef()\n",
    "        graph_def.ParseFromString(f.read())\n",
    "\n",
    "    # Then, we can use again a convenient built-in function to import a graph_def into the \n",
    "    # current default Graph\n",
    "    with tf.Graph().as_default() as graph:\n",
    "        tf.import_graph_def(\n",
    "            graph_def, \n",
    "            input_map=None, \n",
    "            return_elements=None, \n",
    "            name=prefix, \n",
    "            op_dict=None, \n",
    "            producer_op_list=None\n",
    "        )\n",
    "    return graph\n",
    "\n",
    "class Walker(object):\n",
    "    def __init__(self, fd, nw, sess):\n",
    "        self._full_dim = fd\n",
    "        self._num_walker = nw\n",
    "        self._move_scale = 0.5\n",
    "        self._sess = sess\n",
    "        self._shape = (self._num_walker, self._full_dim)\n",
    "        # absolute coordinate\n",
    "        self._position = np.random.uniform(size=self._shape) * np.pi * 2\n",
    "        self._energy = np.zeros([self._num_walker])\n",
    "        self._force = np.zeros([self._num_walker, self._full_dim])\n",
    "        self._sample_step = 20\n",
    "        self._acp_ratio_lb = 0.15\n",
    "        self._acp_ratio_ub = 0.75\n",
    "        self.max_scale = np.pi\n",
    "        self.min_scale = 0.01\n",
    "        self.inc_scale_fac = 1.25\n",
    "\n",
    "    def sample(self, compute_ef, inter_step=1):\n",
    "        acp_ratio = []\n",
    "        self._energy, self._force = compute_ef(self._sess, self._position)\n",
    "        for _ in range(inter_step):\n",
    "            position_new = np.mod(self._position + np.random.normal(scale=self._move_scale,\n",
    "                                                             size=self._shape), 2*np.pi)\n",
    "            energy_new, force_new = compute_ef(self._sess, position_new)\n",
    "            # in case of overflow\n",
    "            prob_ratio = np.exp(np.minimum(- beta * (energy_new - self._energy), 0))\n",
    "            idx = np.random.uniform(size=self._num_walker) < np.reshape(prob_ratio, [-1])\n",
    "            self._position[idx, :] = position_new[idx, :]\n",
    "            self._energy[idx] = energy_new[idx]\n",
    "            self._force[idx] = force_new[idx]\n",
    "            acp_ratio.append(np.mean(idx))\n",
    "        acp_ratio = np.mean(acp_ratio)\n",
    "        if acp_ratio > self._acp_ratio_ub:\n",
    "            # move_scale is too small\n",
    "            self._move_scale = min(\n",
    "                self._move_scale*self.inc_scale_fac,\n",
    "                self.max_scale)\n",
    "            print(\n",
    "                \"Increase move_scale to %f due to high acceptance ratio: %f\" % (\n",
    "                    self._move_scale, acp_ratio))\n",
    "            # print(self._position[:5, :, :])\n",
    "        elif acp_ratio < self._acp_ratio_lb:\n",
    "            # move_scale is too large\n",
    "            self._move_scale = max(\n",
    "                self._move_scale/self.inc_scale_fac,\n",
    "                self.min_scale)\n",
    "            print(\n",
    "                \"Decrease move_scale to %f due to low acceptance ratio: %f\" % (\n",
    "                    self._move_scale, acp_ratio))\n",
    "        return self._position, self._energy, self._force\n",
    "\n",
    "\n",
    "def compute_ef (sess, position) :\n",
    "    graph = sess.graph\n",
    "\n",
    "    inputs  = graph.get_tensor_by_name ('load/inputs:0')\n",
    "    o_energy= graph.get_tensor_by_name ('load/o_energy:0')\n",
    "    o_forces= graph.get_tensor_by_name ('load/o_forces:0')\n",
    "\n",
    "    zeros = 0.0 * position\n",
    "    data_inputs = np.concatenate ((position, zeros), axis = 1)\n",
    "    feed_dict_test = {inputs: data_inputs}\n",
    "\n",
    "    data_ret = sess.run ([o_energy, o_forces], feed_dict = feed_dict_test)\n",
    "    return data_ret[0], data_ret[1]\n"
   ]
  },
  {
   "cell_type": "code",
   "execution_count": 4,
   "metadata": {},
   "outputs": [],
   "source": [
    "def _main () :\n",
    "    parser = argparse.ArgumentParser()\n",
    "    parser.add_argument(\"-m\", \"--model\", default=[], nargs = '*', type=str, \n",
    "                        help=\"Frozen model file to test\")\n",
    "    parser.add_argument(\"-fd\", \"--full_dimension\", default = 4, type=int, \n",
    "                        help=\"The dimensionality of FES\")\n",
    "    parser.add_argument(\"-ns\", \"--num_step\", default = 1000000, type=int,\n",
    "                        help=\"number of mc step\")\n",
    "    parser.add_argument(\"-nw\", \"--num_walker\", default=2000, type=int, \n",
    "                        help=\"number of walker\")\n",
    "    args = parser.parse_args()\n",
    "\n",
    "    model = args.model \n",
    "    fd = args.full_dimension\n",
    "    ns = args.num_step\n",
    "    nw = args.num_walker\n",
    "    positons = []\n",
    "    energies = []\n",
    "    forces = []\n",
    "    graph = load_graph (model[0])\n",
    "\n",
    "    with tf.Session(graph = graph) as sess:        \n",
    "        walker = Walker(fd, nw, sess)\n",
    "        for ii in range(ns):\n",
    "            pp, ee, ff = walker.sample(compute_ef)\n",
    "            print(pp)\n",
    "            for dd in range(fd):\n",
    "                fp = open(\"angle%d.dat\" %dd, \"a\")\n",
    "                np.savetxt(fp,np.array(pp[:,dd]))"
   ]
  },
  {
   "cell_type": "code",
   "execution_count": 5,
   "metadata": {},
   "outputs": [],
   "source": [
    "graph = load_graph ('graph.000.pb')"
   ]
  },
  {
   "cell_type": "code",
   "execution_count": 54,
   "metadata": {},
   "outputs": [
    {
     "data": {
      "text/plain": [
       "'/scratch/gpfs/dongdong/pdz.run02'"
      ]
     },
     "execution_count": 54,
     "metadata": {},
     "output_type": "execute_result"
    }
   ],
   "source": [
    "pwd"
   ]
  },
  {
   "cell_type": "code",
   "execution_count": 59,
   "metadata": {},
   "outputs": [],
   "source": [
    "aa=np.random.uniform(low=-550.0, high=-500.0,size=1000)\n",
    "bb=np.random.uniform(low=0, high=20,size=1000)"
   ]
  },
  {
   "cell_type": "code",
   "execution_count": 60,
   "metadata": {},
   "outputs": [],
   "source": [
    "wf=open('test','w')\n",
    "for i in range(500):\n",
    "    wf.write(str(bb[i])+'    '+str(aa[i])+'\\n')\n",
    "wf.close()"
   ]
  },
  {
   "cell_type": "code",
   "execution_count": 12,
   "metadata": {},
   "outputs": [],
   "source": [
    "shape=(1000,3)"
   ]
  },
  {
   "cell_type": "code",
   "execution_count": 13,
   "metadata": {},
   "outputs": [],
   "source": [
    "pp=np.random.uniform(size=shape) * np.pi * 2"
   ]
  },
  {
   "cell_type": "code",
   "execution_count": 31,
   "metadata": {},
   "outputs": [
    {
     "data": {
      "text/plain": [
       "1"
      ]
     },
     "execution_count": 31,
     "metadata": {},
     "output_type": "execute_result"
    }
   ],
   "source": [
    "3//2"
   ]
  },
  {
   "cell_type": "code",
   "execution_count": 43,
   "metadata": {},
   "outputs": [],
   "source": [
    "xx = pylab.linspace(0,2* np.pi, 25)"
   ]
  },
  {
   "cell_type": "code",
   "execution_count": 18,
   "metadata": {},
   "outputs": [],
   "source": [
    "yy = pylab.linspace(0,2* np.pi, 100)"
   ]
  },
  {
   "cell_type": "code",
   "execution_count": 51,
   "metadata": {},
   "outputs": [],
   "source": [
    "delta = 2.0 * np.pi / 25"
   ]
  },
  {
   "cell_type": "code",
   "execution_count": 21,
   "metadata": {},
   "outputs": [],
   "source": [
    "def my_hist(pp, xx, yy, delta, fd):\n",
    "    my_hist = np.zeros((fd, len(xx), len(yy)))\n",
    "    for ii in range(pp.shape[0]):\n",
    "        for jj in range(fd):\n",
    "            my_hist[jj, np.int(pp[ii,jj*2+0]//delta)-50, np.int(pp[ii,jj*2+1]//delta)-50] += 1\n",
    "    my_hist /= (pp.shape[0] * delta * delta)\n",
    "    return my_hist"
   ]
  },
  {
   "cell_type": "code",
   "execution_count": 30,
   "metadata": {},
   "outputs": [
    {
     "data": {
      "text/plain": [
       "(1, 100, 100)"
      ]
     },
     "execution_count": 30,
     "metadata": {},
     "output_type": "execute_result"
    }
   ],
   "source": [
    "my_hist(pp,xx,yy,delta,3//2).shape"
   ]
  },
  {
   "cell_type": "code",
   "execution_count": 32,
   "metadata": {},
   "outputs": [],
   "source": [
    "my_hist = np.zeros((1, len(xx), len(yy)))"
   ]
  },
  {
   "cell_type": "code",
   "execution_count": 35,
   "metadata": {},
   "outputs": [
    {
     "data": {
      "text/plain": [
       "array([[ 2.23823806,  2.72752975,  0.27490474],\n",
       "       [ 2.94836915,  1.65758656,  5.05060946],\n",
       "       [ 5.46675082,  2.1744026 ,  5.39380325],\n",
       "       ..., \n",
       "       [ 3.14662569,  1.09107176,  4.11636786],\n",
       "       [ 5.30275199,  4.88408651,  3.37828574],\n",
       "       [ 5.40357811,  1.9530321 ,  3.24997643]])"
      ]
     },
     "execution_count": 35,
     "metadata": {},
     "output_type": "execute_result"
    }
   ],
   "source": [
    "pp"
   ]
  },
  {
   "cell_type": "code",
   "execution_count": 44,
   "metadata": {},
   "outputs": [
    {
     "data": {
      "text/plain": [
       "array([ 0.        ,  0.26179939,  0.52359878,  0.78539816,  1.04719755,\n",
       "        1.30899694,  1.57079633,  1.83259571,  2.0943951 ,  2.35619449,\n",
       "        2.61799388,  2.87979327,  3.14159265,  3.40339204,  3.66519143,\n",
       "        3.92699082,  4.1887902 ,  4.45058959,  4.71238898,  4.97418837,\n",
       "        5.23598776,  5.49778714,  5.75958653,  6.02138592,  6.28318531])"
      ]
     },
     "execution_count": 44,
     "metadata": {},
     "output_type": "execute_result"
    }
   ],
   "source": [
    "xx"
   ]
  },
  {
   "cell_type": "code",
   "execution_count": 55,
   "metadata": {},
   "outputs": [
    {
     "data": {
      "text/plain": [
       "1000"
      ]
     },
     "execution_count": 55,
     "metadata": {},
     "output_type": "execute_result"
    }
   ],
   "source": [
    "len(pp[:,0])"
   ]
  },
  {
   "cell_type": "code",
   "execution_count": 45,
   "metadata": {},
   "outputs": [],
   "source": [
    "my_hist = np.zeros((1, len(xx)))\n"
   ]
  },
  {
   "cell_type": "code",
   "execution_count": 62,
   "metadata": {},
   "outputs": [],
   "source": [
    "for ii in range(pp.shape[0]):   ###trj_num\n",
    "           ###cv_num\n",
    "    my_hist[0, np.int(pp[ii,0]//delta)] += 1"
   ]
  },
  {
   "cell_type": "code",
   "execution_count": 65,
   "metadata": {},
   "outputs": [
    {
     "data": {
      "text/plain": [
       "array([[ 46.18302818,  35.13926058,  31.12334508,  33.13130283,\n",
       "         41.16313382,  44.17507044,  39.15517607,  36.14323945,\n",
       "         48.19098593,  37.14721832,  47.18700706,  44.17507044,\n",
       "         37.14721832,  39.15517607,  46.18302818,  41.16313382,\n",
       "         42.16711269,  31.12334508,  40.15915494,  38.1511972 ,\n",
       "         35.13926058,  50.19894368,  43.17109156,  34.1352817 ,\n",
       "         43.17109156]])"
      ]
     },
     "execution_count": 65,
     "metadata": {},
     "output_type": "execute_result"
    }
   ],
   "source": [
    "my_hist"
   ]
  },
  {
   "cell_type": "code",
   "execution_count": 75,
   "metadata": {},
   "outputs": [],
   "source": [
    "aa=my_hist/1000.0"
   ]
  },
  {
   "cell_type": "code",
   "execution_count": 77,
   "metadata": {},
   "outputs": [],
   "source": [
    "pp_hist = np.zeros((3, len(xx)))"
   ]
  },
  {
   "cell_type": "code",
   "execution_count": 68,
   "metadata": {},
   "outputs": [],
   "source": [
    "pp_hist=(my_hist/1000.0+my_hist/1000.0)/2"
   ]
  },
  {
   "cell_type": "code",
   "execution_count": 79,
   "metadata": {},
   "outputs": [
    {
     "data": {
      "text/plain": [
       "array([ 0.,  0.,  0.,  0.,  0.,  0.,  0.,  0.,  0.,  0.,  0.,  0.,  0.,\n",
       "        0.,  0.,  0.,  0.,  0.,  0.,  0.,  0.,  0.,  0.,  0.,  0.])"
      ]
     },
     "execution_count": 79,
     "metadata": {},
     "output_type": "execute_result"
    }
   ],
   "source": [
    "pp_hist[0]"
   ]
  },
  {
   "cell_type": "code",
   "execution_count": 70,
   "metadata": {},
   "outputs": [
    {
     "data": {
      "text/plain": [
       "array([[ 3.07512125,  3.34840778,  3.46976497,  3.40724656,  3.19018794,\n",
       "         3.11957203,  3.24019711,  3.32023769,  3.03256254,  3.29283947,\n",
       "         3.05361551,  3.11957203,  3.29283947,  3.24019711,  3.07512125,\n",
       "         3.19018794,  3.16609097,  3.46976497,  3.21487995,  3.26617193,\n",
       "         3.34840778,  2.99174137,  3.14256102,  3.37739448,  3.14256102]])"
      ]
     },
     "execution_count": 70,
     "metadata": {},
     "output_type": "execute_result"
    }
   ],
   "source": [
    "-np.log(pp_hist+1e-6)"
   ]
  },
  {
   "cell_type": "code",
   "execution_count": 82,
   "metadata": {},
   "outputs": [],
   "source": [
    "aa=np.random.uniform(size=2) * np.pi * 2"
   ]
  },
  {
   "cell_type": "code",
   "execution_count": 85,
   "metadata": {},
   "outputs": [
    {
     "data": {
      "text/plain": [
       "array([ 2.46033012,  1.71172765,  2.46033012,  1.71172765])"
      ]
     },
     "execution_count": 85,
     "metadata": {},
     "output_type": "execute_result"
    }
   ],
   "source": [
    "np.append(aa,aa)"
   ]
  },
  {
   "cell_type": "code",
   "execution_count": 89,
   "metadata": {},
   "outputs": [],
   "source": [
    "def singleSD(nList,refList):\n",
    "    length=len(nList)\n",
    "    sumVar=0.0\n",
    "    for i in range(length):\n",
    "        sub=nList[i]-refList[i]\n",
    "        sumVar+=np.cos(sub)+1\n",
    "    return sumVar/2\n"
   ]
  },
  {
   "cell_type": "code",
   "execution_count": 97,
   "metadata": {},
   "outputs": [
    {
     "data": {
      "text/plain": [
       "1.0"
      ]
     },
     "execution_count": 97,
     "metadata": {},
     "output_type": "execute_result"
    }
   ],
   "source": [
    "singleSD([np.pi,0],[1/2*np.pi,1/2*np.pi])"
   ]
  },
  {
   "cell_type": "code",
   "execution_count": 109,
   "metadata": {},
   "outputs": [],
   "source": [
    "aa=np.append(np.random.uniform(size=(20,9)) * np.pi * 2 , np.random.uniform(size=(20,3)) * 3.6, axis=1)"
   ]
  },
  {
   "cell_type": "code",
   "execution_count": 111,
   "metadata": {
    "scrolled": false
   },
   "outputs": [
    {
     "data": {
      "text/plain": [
       "20"
      ]
     },
     "execution_count": 111,
     "metadata": {},
     "output_type": "execute_result"
    }
   ],
   "source": [
    "len(aa)"
   ]
  },
  {
   "cell_type": "code",
   "execution_count": 123,
   "metadata": {},
   "outputs": [
    {
     "data": {
      "text/plain": [
       "array([[ 1.80582477,  1.50184073,  2.29182126,  1.00867871,  2.49437565,\n",
       "         2.48573934,  0.78676972,  1.74008314,  0.10518247,  1.57235283,\n",
       "         0.4711027 ,  1.6977261 ],\n",
       "       [ 1.84731528,  2.46380661,  0.97026328,  2.55042023,  0.96937042,\n",
       "         0.19789753,  0.63363915,  2.20529549,  2.84412043,  0.79912297,\n",
       "         0.56602021,  0.3695279 ],\n",
       "       [ 2.22321974,  0.1476044 ,  2.65514885,  0.44162033,  1.07929454,\n",
       "         0.55799503,  1.07478204,  2.04457673,  3.02206653,  0.18704271,\n",
       "         1.23019675,  0.20924   ]])"
      ]
     },
     "execution_count": 123,
     "metadata": {},
     "output_type": "execute_result"
    }
   ],
   "source": [
    "aa[9:12]/2"
   ]
  },
  {
   "cell_type": "code",
   "execution_count": 61,
   "metadata": {},
   "outputs": [
    {
     "name": "stdout",
     "output_type": "stream",
     "text": [
      "/scratch/gpfs/dongdong/pdz.run02/mc3/iter70/000_t\n"
     ]
    }
   ],
   "source": [
    "cd /home/dongdong/SCR/pdz.run02/mc3/iter70/000_t"
   ]
  },
  {
   "cell_type": "code",
   "execution_count": 9,
   "metadata": {},
   "outputs": [
    {
     "data": {
      "image/png": "[encoded data removed]",
      "text/plain": [
       "<Figure size 367.2x288 with 2 Axes>"
      ]
     },
     "metadata": {
      "needs_background": "light"
     },
     "output_type": "display_data"
    }
   ],
   "source": [
    "from matplotlib.colors import LogNorm\n",
    "import numpy as np\n",
    "import matplotlib\n",
    "import pylab\n",
    "#matplotlib.use('agg')\n",
    "import matplotlib.pyplot as plt\n",
    "import matplotlib.font_manager as font_manager\n",
    "font_path = '/home/dongdong/tigress/calibribold.ttf'\n",
    "font_prop = font_manager.FontProperties(fname=font_path, size=24)\n",
    "leg_prop = font_manager.FontProperties(fname=font_path, size=18)\n",
    "data=np.loadtxt('/home/dongdong/SCR/pdz.run02/mc4/iter75_1/2d_step100000.dat')\n",
    "fig = plt.figure(figsize=(5.1, 4))\n",
    "ax = fig.add_subplot(111)\n",
    "cmap = plt.cm.get_cmap(\"jet_r\")\n",
    "#CS = plt.contourf(xedges[1:],yedges[1:],H,levels = np.linspace(0,1000000,11),cmap=cmap,extend=\"max\")\n",
    "#lvls = np.logspace(0,3,15)\n",
    "cmap.set_over(\"white\")\n",
    "bins=30\n",
    "xx = pylab.linspace(0,200, bins)\n",
    "yy = pylab.linspace(0,4.1-0.2, bins)\n",
    "\n",
    "CS = plt.contourf(xx,yy,data,levels = np.linspace(0,6,13),cmap=cmap,extend=\"max\")\n",
    "#CS = plt.contourf(xi,xi,np.reshape(data[:,2]/4.18,(-1,61)),cmap=cmap,extend=\"max\")\n",
    "cbar = plt.colorbar(CS)\n",
    "#plt.scatter(data_ave[:,0],data_ave[:,1],s=18)\n",
    "#plt.scatter(data_ave[:,0],data_ave[:,1],c=pcca,cmap='tab20c',s=14)\n",
    "#plt.errorbar(data_ave[:,2],data_ave[:,0],xerr=data_ave[:,3],yerr=data_ave[:,1],fmt=None)\n",
    "plt.xlabel(r'rmsd ($^\\circ$)',fontproperties=font_prop)\n",
    "plt.ylabel(r'distance (nm)',fontproperties=font_prop)\n",
    "#plt.xlabel(r'$\\phi$ (rad)')\n",
    "plt.ylim(0,4.1)\n",
    "plt.xlim(0,155)\n",
    "#leg=plt.legend(loc=1, labelspacing=0.1, prop=leg_prop, scatterpoints=1, markerscale=1, numpoints=1,handlelength=1.5)\n",
    "#leg.get_frame().set_linewidth(0.0)\n",
    "#leg.get_frame().set_alpha(0.1)\n",
    "for label in (ax.get_xticklabels() + ax.get_yticklabels()+cbar.ax.get_yticklabels()):\n",
    "    label.set_fontproperties(font_prop)\n",
    "for label in cbar.ax.get_yticklabels():\n",
    "    label.set_fontproperties(leg_prop)\n",
    "#plt.savefig('/home/dongdong/SCR/pdz.run02/mc3/2CV.png',dpi=600,bbox_inches='tight')\n",
    "    #label.set_fontsize(16)\n",
    "#plt.imshow(HH, interpolation='nearest', origin='low',extent=[xedges[0], xedges[-1], yedges[0], yedges[-1]],levels = np.linspace(1,6,20))\n",
    "plt.show()"
   ]
  },
  {
   "cell_type": "code",
   "execution_count": 92,
   "metadata": {},
   "outputs": [],
   "source": [
    "shape1 = (3, 5)\n",
    "dist1=np.random.uniform(0.3,3.8,size=shape1)"
   ]
  },
  {
   "cell_type": "code",
   "execution_count": 93,
   "metadata": {},
   "outputs": [],
   "source": [
    "alldist=[]\n",
    "dist2=np.zeros([3,5])"
   ]
  },
  {
   "cell_type": "code",
   "execution_count": 94,
   "metadata": {},
   "outputs": [],
   "source": [
    "alldist.append(dist1)\n",
    "alldist.append(dist2)"
   ]
  },
  {
   "cell_type": "code",
   "execution_count": 100,
   "metadata": {},
   "outputs": [
    {
     "data": {
      "text/plain": [
       "array([[[ 1.69725968,  1.13562155,  2.56517651,  2.35848759,  1.52947145],\n",
       "        [ 2.75598922,  1.92823249,  1.90652377,  3.5104485 ,  1.24748597],\n",
       "        [ 1.53121699,  2.47990592,  0.54854575,  3.15082416,  1.51271328]],\n",
       "\n",
       "       [[ 0.        ,  0.        ,  0.        ,  0.        ,  0.        ],\n",
       "        [ 0.        ,  0.        ,  0.        ,  0.        ,  0.        ],\n",
       "        [ 0.        ,  0.        ,  0.        ,  0.        ,  0.        ]]])"
      ]
     },
     "execution_count": 100,
     "metadata": {},
     "output_type": "execute_result"
    }
   ],
   "source": [
    "bb=np.reshape(alldist,[2,3,5])\n",
    "bb"
   ]
  },
  {
   "cell_type": "code",
   "execution_count": 101,
   "metadata": {},
   "outputs": [
    {
     "data": {
      "text/plain": [
       "array([[ 0.84862984,  0.56781078,  1.28258826,  1.1792438 ,  0.76473573],\n",
       "       [ 1.37799461,  0.96411625,  0.95326188,  1.75522425,  0.62374299],\n",
       "       [ 0.7656085 ,  1.23995296,  0.27427288,  1.57541208,  0.75635664]])"
      ]
     },
     "execution_count": 101,
     "metadata": {},
     "output_type": "execute_result"
    }
   ],
   "source": [
    "a_std=np.std(bb,axis=0)\n",
    "a_std"
   ]
  },
  {
   "cell_type": "code",
   "execution_count": 104,
   "metadata": {},
   "outputs": [
    {
     "data": {
      "text/plain": [
       "array([ 0.26515867,  0.39174945,  0.44709895])"
      ]
     },
     "execution_count": 104,
     "metadata": {},
     "output_type": "execute_result"
    }
   ],
   "source": [
    "np.std(a_std,axis=1)"
   ]
  },
  {
   "cell_type": "code",
   "execution_count": 122,
   "metadata": {},
   "outputs": [
    {
     "data": {
      "text/plain": [
       "38.68168336032734"
      ]
     },
     "execution_count": 122,
     "metadata": {},
     "output_type": "execute_result"
    }
   ],
   "source": [
    "kbT = (8.617343E-5) * 300\n",
    "beta = 1.0 / kbT\n",
    "beta"
   ]
  },
  {
   "cell_type": "code",
   "execution_count": 25,
   "metadata": {},
   "outputs": [
    {
     "data": {
      "image/png": "[encoded data removed]",
      "text/plain": [
       "<Figure size 360x288 with 1 Axes>"
      ]
     },
     "metadata": {
      "needs_background": "light"
     },
     "output_type": "display_data"
    }
   ],
   "source": [
    "xx = np.linspace(-np.pi, np.pi, 25)\n",
    "for iii in range(1,2):\n",
    "    fig = plt.figure(figsize=(5,4))\n",
    "    sub = fig.add_subplot(1,1,1)\n",
    "    data=np.loadtxt('/home/dongdong/SCR/pdz.run02/mc3/iter65/000/1CV2_index%d.dat' %iii)\n",
    "    i=1\n",
    "    for i in [3,4,5]:\n",
    "        lab=i*5/10\n",
    "        plt.plot(yy,data[i],lw=2.2,label=r'step %d $\\mathregular{\\times 10^5}$' %lab)\n",
    "    \n",
    "        \n",
    "    for label in (sub.get_xticklabels() + sub.get_yticklabels()):\n",
    "        label.set_fontproperties(font_prop)\n",
    "        label.set_fontsize(16)\n",
    "    leg=plt.legend(loc=2, labelspacing=0.1, prop=leg_prop, scatterpoints=1, markerscale=1, numpoints=1,handlelength=1,bbox_to_anchor=(1.01,1.0))\n",
    "    leg.get_frame().set_linewidth(0.0)\n",
    "    leg.get_frame().set_alpha(0.1)\n",
    "    plt.ylabel(r'free energy (kcal/mol)',fontproperties=font_prop)\n",
    "    plt.xlabel(r'angle (rad)',fontproperties=font_prop)\n",
    "    #plt.ylim(1,10000)\n",
    "    #plt.savefig('/home/dongdong/SCR/chi3.run01/mc/iter140_0/Energy_CV%d.png' %iii,dpi=600,bbox_inches='tight')\n",
    "    plt.show()"
   ]
  },
  {
   "cell_type": "code",
   "execution_count": 119,
   "metadata": {},
   "outputs": [],
   "source": [
    "alldata=np.zeros((25,25))"
   ]
  },
  {
   "cell_type": "code",
   "execution_count": 120,
   "metadata": {
    "scrolled": true
   },
   "outputs": [
    {
     "data": {
      "text/plain": [
       "array([[ 0.,  0.,  0.,  0.,  0.,  0.,  0.,  0.,  0.,  0.,  0.,  0.,  0.,\n",
       "         0.,  0.,  0.,  0.,  0.,  0.,  0.,  0.,  0.,  0.,  0.,  0.],\n",
       "       [ 0.,  0.,  0.,  0.,  0.,  0.,  0.,  0.,  0.,  0.,  0.,  0.,  0.,\n",
       "         0.,  0.,  0.,  0.,  0.,  0.,  0.,  0.,  0.,  0.,  0.,  0.],\n",
       "       [ 0.,  0.,  0.,  0.,  0.,  0.,  0.,  0.,  0.,  0.,  0.,  0.,  0.,\n",
       "         0.,  0.,  0.,  0.,  0.,  0.,  0.,  0.,  0.,  0.,  0.,  0.],\n",
       "       [ 0.,  0.,  0.,  0.,  0.,  0.,  0.,  0.,  0.,  0.,  0.,  0.,  0.,\n",
       "         0.,  0.,  0.,  0.,  0.,  0.,  0.,  0.,  0.,  0.,  0.,  0.],\n",
       "       [ 0.,  0.,  0.,  0.,  0.,  0.,  0.,  0.,  0.,  0.,  0.,  0.,  0.,\n",
       "         0.,  0.,  0.,  0.,  0.,  0.,  0.,  0.,  0.,  0.,  0.,  0.],\n",
       "       [ 0.,  0.,  0.,  0.,  0.,  0.,  0.,  0.,  0.,  0.,  0.,  0.,  0.,\n",
       "         0.,  0.,  0.,  0.,  0.,  0.,  0.,  0.,  0.,  0.,  0.,  0.],\n",
       "       [ 0.,  0.,  0.,  0.,  0.,  0.,  0.,  0.,  0.,  0.,  0.,  0.,  0.,\n",
       "         0.,  0.,  0.,  0.,  0.,  0.,  0.,  0.,  0.,  0.,  0.,  0.],\n",
       "       [ 0.,  0.,  0.,  0.,  0.,  0.,  0.,  0.,  0.,  0.,  0.,  0.,  0.,\n",
       "         0.,  0.,  0.,  0.,  0.,  0.,  0.,  0.,  0.,  0.,  0.,  0.],\n",
       "       [ 0.,  0.,  0.,  0.,  0.,  0.,  0.,  0.,  0.,  0.,  0.,  0.,  0.,\n",
       "         0.,  0.,  0.,  0.,  0.,  0.,  0.,  0.,  0.,  0.,  0.,  0.],\n",
       "       [ 0.,  0.,  0.,  0.,  0.,  0.,  0.,  0.,  0.,  0.,  0.,  0.,  0.,\n",
       "         0.,  0.,  0.,  0.,  0.,  0.,  0.,  0.,  0.,  0.,  0.,  0.],\n",
       "       [ 0.,  0.,  0.,  0.,  0.,  0.,  0.,  0.,  0.,  0.,  0.,  0.,  0.,\n",
       "         0.,  0.,  0.,  0.,  0.,  0.,  0.,  0.,  0.,  0.,  0.,  0.],\n",
       "       [ 0.,  0.,  0.,  0.,  0.,  0.,  0.,  0.,  0.,  0.,  0.,  0.,  0.,\n",
       "         0.,  0.,  0.,  0.,  0.,  0.,  0.,  0.,  0.,  0.,  0.,  0.],\n",
       "       [ 0.,  0.,  0.,  0.,  0.,  0.,  0.,  0.,  0.,  0.,  0.,  0.,  0.,\n",
       "         0.,  0.,  0.,  0.,  0.,  0.,  0.,  0.,  0.,  0.,  0.,  0.],\n",
       "       [ 0.,  0.,  0.,  0.,  0.,  0.,  0.,  0.,  0.,  0.,  0.,  0.,  0.,\n",
       "         0.,  0.,  0.,  0.,  0.,  0.,  0.,  0.,  0.,  0.,  0.,  0.],\n",
       "       [ 0.,  0.,  0.,  0.,  0.,  0.,  0.,  0.,  0.,  0.,  0.,  0.,  0.,\n",
       "         0.,  0.,  0.,  0.,  0.,  0.,  0.,  0.,  0.,  0.,  0.,  0.],\n",
       "       [ 0.,  0.,  0.,  0.,  0.,  0.,  0.,  0.,  0.,  0.,  0.,  0.,  0.,\n",
       "         0.,  0.,  0.,  0.,  0.,  0.,  0.,  0.,  0.,  0.,  0.,  0.],\n",
       "       [ 0.,  0.,  0.,  0.,  0.,  0.,  0.,  0.,  0.,  0.,  0.,  0.,  0.,\n",
       "         0.,  0.,  0.,  0.,  0.,  0.,  0.,  0.,  0.,  0.,  0.,  0.],\n",
       "       [ 0.,  0.,  0.,  0.,  0.,  0.,  0.,  0.,  0.,  0.,  0.,  0.,  0.,\n",
       "         0.,  0.,  0.,  0.,  0.,  0.,  0.,  0.,  0.,  0.,  0.,  0.],\n",
       "       [ 0.,  0.,  0.,  0.,  0.,  0.,  0.,  0.,  0.,  0.,  0.,  0.,  0.,\n",
       "         0.,  0.,  0.,  0.,  0.,  0.,  0.,  0.,  0.,  0.,  0.,  0.],\n",
       "       [ 0.,  0.,  0.,  0.,  0.,  0.,  0.,  0.,  0.,  0.,  0.,  0.,  0.,\n",
       "         0.,  0.,  0.,  0.,  0.,  0.,  0.,  0.,  0.,  0.,  0.,  0.],\n",
       "       [ 0.,  0.,  0.,  0.,  0.,  0.,  0.,  0.,  0.,  0.,  0.,  0.,  0.,\n",
       "         0.,  0.,  0.,  0.,  0.,  0.,  0.,  0.,  0.,  0.,  0.,  0.],\n",
       "       [ 0.,  0.,  0.,  0.,  0.,  0.,  0.,  0.,  0.,  0.,  0.,  0.,  0.,\n",
       "         0.,  0.,  0.,  0.,  0.,  0.,  0.,  0.,  0.,  0.,  0.,  0.],\n",
       "       [ 0.,  0.,  0.,  0.,  0.,  0.,  0.,  0.,  0.,  0.,  0.,  0.,  0.,\n",
       "         0.,  0.,  0.,  0.,  0.,  0.,  0.,  0.,  0.,  0.,  0.,  0.],\n",
       "       [ 0.,  0.,  0.,  0.,  0.,  0.,  0.,  0.,  0.,  0.,  0.,  0.,  0.,\n",
       "         0.,  0.,  0.,  0.,  0.,  0.,  0.,  0.,  0.,  0.,  0.,  0.],\n",
       "       [ 0.,  0.,  0.,  0.,  0.,  0.,  0.,  0.,  0.,  0.,  0.,  0.,  0.,\n",
       "         0.,  0.,  0.,  0.,  0.,  0.,  0.,  0.,  0.,  0.,  0.,  0.]])"
      ]
     },
     "execution_count": 120,
     "metadata": {},
     "output_type": "execute_result"
    }
   ],
   "source": [
    "fig = plt.figure(figsize=(5,4))\n",
    "sub = fig.add_subplot(1,1,1)\n",
    "for jj in [6,10,14]:\n",
    "    alldata=[]\n",
    "    for kk in range(1,2):\n",
    "        data=np.loadtxt('/home/dongdong/SCR/chi3.run01/mc/iter%d0_%d/1CV_index%d.dat' %(jj,kk,cv))\n",
    "        alldata.append(data[-1]-np.min(data[-1]))\n",
    "    ave=np.mean(alldata,axis=0)\n",
    "    sd=np.std(alldata,axis=0)\n",
    "    plt.plot(xx,ave,lw=2.2,label=r'iter%d0' %jj)\n",
    "    plt.fill_between(xx, ave - sd,ave + sd, alpha=0.4 )\n",
    "    \n",
    "for label in (sub.get_xticklabels() + sub.get_yticklabels()):\n",
    "    label.set_fontproperties(font_prop)\n",
    "    label.set_fontsize(16)\n",
    "leg=plt.legend(loc=2, labelspacing=0.1, prop=leg_prop, scatterpoints=1, markerscale=1, numpoints=1,handlelength=1,bbox_to_anchor=(1.01,1.0))\n",
    "leg.get_frame().set_linewidth(0.0)\n",
    "leg.get_frame().set_alpha(0.1)\n",
    "plt.ylabel(r'free energy (kcal/mol)',fontproperties=font_prop)\n",
    "plt.xlabel(r'angle (rad)',fontproperties=font_prop)\n",
    "#plt.ylim(1,10000)\n",
    "plt.savefig('/home/dongdong/SCR/chi3.run01/mc/Energy_CV%d_all.png' %cv,dpi=600,bbox_inches='tight')\n",
    "plt.show()"
   ]
  },
  {
   "cell_type": "code",
   "execution_count": 124,
   "metadata": {},
   "outputs": [],
   "source": [
    "def singleSD(nList,refList):\n",
    "    length=len(nList)\n",
    "    sumVar=0.0\n",
    "    for i in range(length):\n",
    "        sub=nList[i]-refList[i]\n",
    "        if np.abs(sub)>180:\n",
    "            sub=360-np.abs(sub)\n",
    "        sumVar+=sub**2\n",
    "    return ((float(sumVar)/float((length)))**0.5)\n"
   ]
  },
  {
   "cell_type": "code",
   "execution_count": 129,
   "metadata": {},
   "outputs": [
    {
     "data": {
      "text/plain": [
       "0.0"
      ]
     },
     "execution_count": 129,
     "metadata": {},
     "output_type": "execute_result"
    }
   ],
   "source": [
    "singleSD(aa[1,0:9]/3.14*180,aa[1,0:9]/3.14*180)"
   ]
  },
  {
   "cell_type": "code",
   "execution_count": 134,
   "metadata": {},
   "outputs": [],
   "source": [
    "from multiprocessing.dummy import Pool as ThreadPool"
   ]
  },
  {
   "cell_type": "code",
   "execution_count": 165,
   "metadata": {},
   "outputs": [
    {
     "data": {
      "text/plain": [
       "116.72617529928752"
      ]
     },
     "execution_count": 165,
     "metadata": {},
     "output_type": "execute_result"
    }
   ],
   "source": [
    "nList=np.array([180,0,-90,-190])\n",
    "refList=np.array([180,0,100,10])\n",
    "singleSD(nList,refList)"
   ]
  },
  {
   "cell_type": "code",
   "execution_count": 158,
   "metadata": {},
   "outputs": [],
   "source": [
    "aa=nList-refList"
   ]
  },
  {
   "cell_type": "code",
   "execution_count": 159,
   "metadata": {},
   "outputs": [],
   "source": [
    "bb=np.abs(aa)"
   ]
  },
  {
   "cell_type": "code",
   "execution_count": 160,
   "metadata": {},
   "outputs": [],
   "source": [
    "bb[bb>180]=360-bb[bb>180]"
   ]
  },
  {
   "cell_type": "code",
   "execution_count": 168,
   "metadata": {},
   "outputs": [
    {
     "data": {
      "text/plain": [
       "116.72617529928752"
      ]
     },
     "execution_count": 168,
     "metadata": {},
     "output_type": "execute_result"
    }
   ],
   "source": [
    "np.sqrt(np.mean(bb**2))"
   ]
  },
  {
   "cell_type": "code",
   "execution_count": 167,
   "metadata": {},
   "outputs": [
    {
     "data": {
      "text/plain": [
       "array([    0,     0, 28900, 25600])"
      ]
     },
     "execution_count": 167,
     "metadata": {},
     "output_type": "execute_result"
    }
   ],
   "source": []
  },
  {
   "cell_type": "code",
   "execution_count": 169,
   "metadata": {},
   "outputs": [],
   "source": [
    "def singleSD2(nList,refList):\n",
    "    aa=nList-refList\n",
    "    bb=np.abs(aa)\n",
    "    bb[bb>180]=360-bb[bb>180]\n",
    "    return np.sqrt(np.mean(bb**2))"
   ]
  },
  {
   "cell_type": "code",
   "execution_count": 170,
   "metadata": {},
   "outputs": [
    {
     "data": {
      "text/plain": [
       "116.72617529928752"
      ]
     },
     "execution_count": 170,
     "metadata": {},
     "output_type": "execute_result"
    }
   ],
   "source": [
    "singleSD2(nList,refList)"
   ]
  },
  {
   "cell_type": "code",
   "execution_count": 203,
   "metadata": {},
   "outputs": [],
   "source": [
    "aa=np.random.normal(loc=[-1,2,0.7],scale=0.1,size=(5,3))\n",
    "bb=np.random.normal(loc=[1,1,2],scale=0.2,size=(5,3))"
   ]
  },
  {
   "cell_type": "code",
   "execution_count": 204,
   "metadata": {},
   "outputs": [
    {
     "data": {
      "text/plain": [
       "array([[-0.86803731,  2.04180099,  0.765089  ],\n",
       "       [-1.10777261,  1.85161532,  0.65086491],\n",
       "       [-0.82928559,  1.91503844,  0.7016117 ],\n",
       "       [-1.12799231,  2.0322661 ,  0.66291242],\n",
       "       [-1.00225842,  2.1558654 ,  0.57236127]])"
      ]
     },
     "execution_count": 204,
     "metadata": {},
     "output_type": "execute_result"
    }
   ],
   "source": [
    "aa"
   ]
  },
  {
   "cell_type": "code",
   "execution_count": 200,
   "metadata": {},
   "outputs": [
    {
     "data": {
      "text/plain": [
       "array([[ 1.09718788,  1.23741722,  2.04502989],\n",
       "       [ 1.17017698,  0.81833002,  2.02288416],\n",
       "       [ 1.05594815,  1.09986681,  1.72349335],\n",
       "       [ 1.19548134,  1.16307183,  2.24286845],\n",
       "       [ 1.25988222,  1.10338197,  2.07098531]])"
      ]
     },
     "execution_count": 200,
     "metadata": {},
     "output_type": "execute_result"
    }
   ],
   "source": [
    "bb"
   ]
  },
  {
   "cell_type": "code",
   "execution_count": 205,
   "metadata": {},
   "outputs": [
    {
     "data": {
      "text/plain": [
       "array([[-0.86803731,  2.04180099,  0.765089  ],\n",
       "       [-1.10777261,  1.85161532,  0.65086491],\n",
       "       [-0.82928559,  1.91503844,  0.7016117 ],\n",
       "       [-1.12799231,  2.0322661 ,  0.66291242],\n",
       "       [-1.00225842,  2.1558654 ,  0.57236127],\n",
       "       [ 1.02540387,  1.40155772,  2.0700586 ],\n",
       "       [ 1.03238615,  1.04794426,  1.86039324],\n",
       "       [ 1.08837928,  0.83780326,  1.69511056],\n",
       "       [ 1.08283775,  0.78946355,  1.88409363],\n",
       "       [ 1.38928825,  0.78639642,  2.05139317]])"
      ]
     },
     "execution_count": 205,
     "metadata": {},
     "output_type": "execute_result"
    }
   ],
   "source": [
    "np.append(aa,bb,axis=0)"
   ]
  },
  {
   "cell_type": "code",
   "execution_count": 33,
   "metadata": {},
   "outputs": [
    {
     "name": "stdout",
     "output_type": "stream",
     "text": [
      "/scratch/gpfs/dongdong/pdz.run02\n"
     ]
    }
   ],
   "source": [
    "cd /home/dongdong/SCR/pdz.run02"
   ]
  },
  {
   "cell_type": "code",
   "execution_count": 36,
   "metadata": {},
   "outputs": [],
   "source": []
  },
  {
   "cell_type": "code",
   "execution_count": 45,
   "metadata": {},
   "outputs": [
    {
     "name": "stderr",
     "output_type": "stream",
     "text": [
      "/home/dongdong/software/anaconda3/envs/py3.6/lib/python3.6/site-packages/ipykernel_launcher.py:3: MatplotlibDeprecationWarning: \n",
      "The 'normed' kwarg was deprecated in Matplotlib 2.1 and will be removed in 3.1. Use 'density' instead.\n",
      "  This is separate from the ipykernel package so we can avoid doing imports until\n"
     ]
    },
    {
     "name": "stdout",
     "output_type": "stream",
     "text": [
      "0.0273706099213\n",
      "0.452728762594\n"
     ]
    },
    {
     "data": {
      "image/png": "[encoded data removed]",
      "text/plain": [
       "<Figure size 432x288 with 1 Axes>"
      ]
     },
     "metadata": {
      "needs_background": "light"
     },
     "output_type": "display_data"
    }
   ],
   "source": [
    "from scipy import stats\n",
    "data=np.loadtxt('cha01_.dat')\n",
    "plt.hist(data,bins=50,normed=True)\n",
    "xmin, xmax = np.min(data), np.max(data)\n",
    "lnspc = np.linspace(xmin, xmax, len(data))\n",
    "m, s = stats.norm.fit(data) # get mean and standard deviation  \n",
    "pdf_g = stats.norm.pdf(lnspc, m, s) # now get theoretical values in our interval  \n",
    "plt.plot(lnspc, pdf_g, label=\"Norm\") # plot it\n",
    "print(m)\n",
    "print(s)"
   ]
  },
  {
   "cell_type": "code",
   "execution_count": 42,
   "metadata": {},
   "outputs": [
    {
     "name": "stdout",
     "output_type": "stream",
     "text": [
      "0.0273706099213\n",
      "0.452728762594\n"
     ]
    }
   ],
   "source": []
  },
  {
   "cell_type": "code",
   "execution_count": 44,
   "metadata": {},
   "outputs": [
    {
     "name": "stderr",
     "output_type": "stream",
     "text": [
      "/home/dongdong/software/anaconda3/envs/py3.6/lib/python3.6/site-packages/ipykernel_launcher.py:3: MatplotlibDeprecationWarning: \n",
      "The 'normed' kwarg was deprecated in Matplotlib 2.1 and will be removed in 3.1. Use 'density' instead.\n",
      "  This is separate from the ipykernel package so we can avoid doing imports until\n"
     ]
    },
    {
     "name": "stdout",
     "output_type": "stream",
     "text": [
      "-0.102028664359\n",
      "0.593501792854\n"
     ]
    },
    {
     "data": {
      "image/png": "[encoded data removed]",
      "text/plain": [
       "<Figure size 432x288 with 1 Axes>"
      ]
     },
     "metadata": {
      "needs_background": "light"
     },
     "output_type": "display_data"
    }
   ],
   "source": [
    "from scipy import stats\n",
    "data=np.loadtxt('cha02_.dat')\n",
    "plt.hist(data,bins=50,normed=True)\n",
    "xmin, xmax = np.min(data), np.max(data)\n",
    "lnspc = np.linspace(xmin, xmax, len(data))\n",
    "m, s = stats.norm.fit(data) # get mean and standard deviation  \n",
    "pdf_g = stats.norm.pdf(lnspc, m, s) # now get theoretical values in our interval  \n",
    "plt.plot(lnspc, pdf_g, label=\"Norm\") # plot it\n",
    "print(m)\n",
    "print(s) "
   ]
  },
  {
   "cell_type": "code",
   "execution_count": 43,
   "metadata": {},
   "outputs": [
    {
     "name": "stderr",
     "output_type": "stream",
     "text": [
      "/home/dongdong/software/anaconda3/envs/py3.6/lib/python3.6/site-packages/ipykernel_launcher.py:3: MatplotlibDeprecationWarning: \n",
      "The 'normed' kwarg was deprecated in Matplotlib 2.1 and will be removed in 3.1. Use 'density' instead.\n",
      "  This is separate from the ipykernel package so we can avoid doing imports until\n"
     ]
    },
    {
     "name": "stdout",
     "output_type": "stream",
     "text": [
      "-0.12939927428\n",
      "0.436366365106\n"
     ]
    },
    {
     "data": {
      "image/png": "[encoded data removed]",
      "text/plain": [
       "<Figure size 432x288 with 1 Axes>"
      ]
     },
     "metadata": {
      "needs_background": "light"
     },
     "output_type": "display_data"
    }
   ],
   "source": [
    "from scipy import stats\n",
    "data=np.loadtxt('cha12_.dat')\n",
    "plt.hist(data,bins=50,normed=True)\n",
    "xmin, xmax = np.min(data), np.max(data)\n",
    "lnspc = np.linspace(xmin, xmax, len(data))\n",
    "m, s = stats.norm.fit(data) # get mean and standard deviation  \n",
    "pdf_g = stats.norm.pdf(lnspc, m, s) # now get theoretical values in our interval  \n",
    "plt.plot(lnspc, pdf_g, label=\"Norm\") # plot it\n",
    "print(m)\n",
    "print(s)"
   ]
  },
  {
   "cell_type": "code",
   "execution_count": 129,
   "metadata": {},
   "outputs": [],
   "source": [
    "data=np.loadtxt('/home/dongdong/SCR/pdz.run02/iter.000083/02.train/data/data.raw')"
   ]
  },
  {
   "cell_type": "code",
   "execution_count": 140,
   "metadata": {},
   "outputs": [
    {
     "name": "stderr",
     "output_type": "stream",
     "text": [
      "/home/dongdong/software/anaconda3/envs/py3.6/lib/python3.6/site-packages/ipykernel_launcher.py:1: MatplotlibDeprecationWarning: \n",
      "The 'normed' kwarg was deprecated in Matplotlib 2.1 and will be removed in 3.1. Use 'density' instead.\n",
      "  \"\"\"Entry point for launching an IPython kernel.\n"
     ]
    },
    {
     "data": {
      "text/plain": [
       "(array([  1.63313500e-05,   0.00000000e+00,   6.53254001e-05,\n",
       "          1.63313500e-05,   6.53254001e-05,   8.16567501e-05,\n",
       "          1.30650800e-04,   1.30650800e-04,   2.44970250e-04,\n",
       "          3.42958351e-04,   5.38934551e-04,   1.02887505e-03,\n",
       "          1.24118260e-03,   2.09041280e-03,   3.05396245e-03,\n",
       "          4.37680181e-03,   6.20591301e-03,   8.13301231e-03,\n",
       "          1.05663835e-02,   1.33427130e-02,   1.77031834e-02,\n",
       "          2.04958443e-02,   2.23902809e-02,   2.51829417e-02,\n",
       "          2.66037692e-02,   2.77959577e-02,   2.75999815e-02,\n",
       "          2.65874378e-02,   2.42520548e-02,   2.02835367e-02,\n",
       "          1.74092191e-02,   1.40286297e-02,   1.06480402e-02,\n",
       "          7.56141506e-03,   5.69964116e-03,   4.26248236e-03,\n",
       "          2.66201005e-03,   1.69846040e-03,   1.22485125e-03,\n",
       "          7.51242101e-04,   4.89940501e-04,   3.75621051e-04,\n",
       "          2.28638900e-04,   1.63313500e-04,   4.89940501e-05,\n",
       "          3.26627001e-05,   4.89940501e-05,   1.63313500e-05,\n",
       "          0.00000000e+00,   1.63313500e-05]),\n",
       " array([-71.0464   , -68.2525904, -65.4587808, -62.6649712, -59.8711616,\n",
       "        -57.077352 , -54.2835424, -51.4897328, -48.6959232, -45.9021136,\n",
       "        -43.108304 , -40.3144944, -37.5206848, -34.7268752, -31.9330656,\n",
       "        -29.139256 , -26.3454464, -23.5516368, -20.7578272, -17.9640176,\n",
       "        -15.170208 , -12.3763984,  -9.5825888,  -6.7887792,  -3.9949696,\n",
       "         -1.20116  ,   1.5926496,   4.3864592,   7.1802688,   9.9740784,\n",
       "         12.767888 ,  15.5616976,  18.3555072,  21.1493168,  23.9431264,\n",
       "         26.736936 ,  29.5307456,  32.3245552,  35.1183648,  37.9121744,\n",
       "         40.705984 ,  43.4997936,  46.2936032,  49.0874128,  51.8812224,\n",
       "         54.675032 ,  57.4688416,  60.2626512,  63.0564608,  65.8502704,\n",
       "         68.64408  ]),\n",
       " <a list of 50 Patch objects>)"
      ]
     },
     "execution_count": 140,
     "metadata": {},
     "output_type": "execute_result"
    },
    {
     "data": {
      "image/png": "[encoded data removed]",
      "text/plain": [
       "<Figure size 432x288 with 1 Axes>"
      ]
     },
     "metadata": {
      "needs_background": "light"
     },
     "output_type": "display_data"
    }
   ],
   "source": [
    "plt.hist(data[:,-7],bins=50,normed=True)"
   ]
  },
  {
   "cell_type": "code",
   "execution_count": null,
   "metadata": {},
   "outputs": [],
   "source": [
    "data=np.loadtxt()"
   ]
  },
  {
   "cell_type": "code",
   "execution_count": 29,
   "metadata": {},
   "outputs": [],
   "source": [
    "hh=np.random.uniform(size=(20,1)) * 3.1+0.5"
   ]
  },
  {
   "cell_type": "code",
   "execution_count": 32,
   "metadata": {},
   "outputs": [
    {
     "data": {
      "text/plain": [
       "array([[ 2.40944656],\n",
       "       [ 1.58472011],\n",
       "       [ 2.82605024],\n",
       "       [ 1.91031948],\n",
       "       [ 2.26901069],\n",
       "       [ 2.83567756],\n",
       "       [ 1.59880043],\n",
       "       [ 3.09054631],\n",
       "       [ 3.27628541],\n",
       "       [ 1.28114022],\n",
       "       [ 1.38329401],\n",
       "       [ 3.75045982],\n",
       "       [ 3.19045484],\n",
       "       [ 2.2048975 ],\n",
       "       [ 3.10508136],\n",
       "       [ 1.39528814],\n",
       "       [ 2.82022333],\n",
       "       [ 2.96564012],\n",
       "       [ 1.41935231],\n",
       "       [ 3.81624166]])"
      ]
     },
     "execution_count": 32,
     "metadata": {},
     "output_type": "execute_result"
    }
   ],
   "source": [
    "hh+np.random.normal(scale=0.2,size=(20,1),loc=0.5)"
   ]
  },
  {
   "cell_type": "code",
   "execution_count": 259,
   "metadata": {},
   "outputs": [],
   "source": [
    "aa=np.concatenate((hh,hh,hh),axis=1)"
   ]
  },
  {
   "cell_type": "code",
   "execution_count": 264,
   "metadata": {},
   "outputs": [
    {
     "data": {
      "text/plain": [
       "array([[ 3.21780359],\n",
       "       [ 1.7123689 ],\n",
       "       [ 2.16147353],\n",
       "       [ 2.78336937],\n",
       "       [ 0.59953027],\n",
       "       [ 2.7636375 ],\n",
       "       [ 3.26881336],\n",
       "       [ 1.37609316],\n",
       "       [ 2.75830971],\n",
       "       [ 3.06328804],\n",
       "       [ 1.65595548],\n",
       "       [ 0.53052593],\n",
       "       [ 1.26673966],\n",
       "       [ 1.17212748],\n",
       "       [ 3.34526895],\n",
       "       [ 0.84843914],\n",
       "       [ 0.5523349 ],\n",
       "       [ 1.93980528],\n",
       "       [ 2.02821444],\n",
       "       [ 1.69846846]])"
      ]
     },
     "execution_count": 264,
     "metadata": {},
     "output_type": "execute_result"
    }
   ],
   "source": [
    "aa[:,1].reshape(-1,1)"
   ]
  },
  {
   "cell_type": "code",
   "execution_count": 280,
   "metadata": {},
   "outputs": [],
   "source": [
    "shape11=(5,1)"
   ]
  },
  {
   "cell_type": "code",
   "execution_count": 278,
   "metadata": {},
   "outputs": [
    {
     "data": {
      "text/plain": [
       "array([[ 1.89909318],\n",
       "       [ 2.25328859],\n",
       "       [ 1.13899786],\n",
       "       [ 0.47169991],\n",
       "       [ 1.63672447]])"
      ]
     },
     "execution_count": 278,
     "metadata": {},
     "output_type": "execute_result"
    }
   ],
   "source": [
    "position_dist1=np.random.uniform(0.3,3.8,size=(5,1))\n",
    "position_dist1"
   ]
  },
  {
   "cell_type": "code",
   "execution_count": 295,
   "metadata": {},
   "outputs": [],
   "source": [
    "position_dist0=position_dist1+np.random.normal(scale=0.5,size=shape11)"
   ]
  },
  {
   "cell_type": "code",
   "execution_count": 296,
   "metadata": {},
   "outputs": [
    {
     "data": {
      "text/plain": [
       "array([[ 3.15546444],\n",
       "       [ 2.69088633],\n",
       "       [ 1.04479655],\n",
       "       [-0.11315357],\n",
       "       [ 2.04670814]])"
      ]
     },
     "execution_count": 296,
     "metadata": {},
     "output_type": "execute_result"
    }
   ],
   "source": [
    "position_dist0"
   ]
  },
  {
   "cell_type": "code",
   "execution_count": 283,
   "metadata": {},
   "outputs": [],
   "source": [
    "position_dist0[position_dist0<0.3]=0.3"
   ]
  },
  {
   "cell_type": "code",
   "execution_count": 2,
   "metadata": {},
   "outputs": [],
   "source": [
    "import numpy as np\n",
    "shape1 = (2, 1)\n",
    "position0=np.random.uniform(0.35,1,size=shape1)\n",
    "position1=np.random.uniform(5,19,size=shape1)\n",
    "position2=np.random.uniform(0,5.5,size=shape1)\n",
    "position3=np.random.uniform(2,14.5,size=shape1)\n",
    "position4=np.random.uniform(4,16,size=shape1)\n",
    "position5=np.random.uniform(0,14,size=shape1)\n",
    "position = np.concatenate((position0,position1,position2,position3,position4,position5), axis=1)\n"
   ]
  },
  {
   "cell_type": "code",
   "execution_count": 22,
   "metadata": {},
   "outputs": [
    {
     "data": {
      "text/plain": [
       "array([[  0.48732651,  15.69586253,   3.25887858,   3.37118003,\n",
       "          4.97283863,   7.99624378],\n",
       "       [  0.57335765,   7.4293407 ,   0.0281108 ,  12.04084679,\n",
       "          4.68802716,   7.80631227]])"
      ]
     },
     "execution_count": 22,
     "metadata": {},
     "output_type": "execute_result"
    }
   ],
   "source": [
    "position"
   ]
  },
  {
   "cell_type": "code",
   "execution_count": 23,
   "metadata": {},
   "outputs": [
    {
     "data": {
      "text/plain": [
       "2"
      ]
     },
     "execution_count": 23,
     "metadata": {},
     "output_type": "execute_result"
    }
   ],
   "source": [
    "position.shape[0]"
   ]
  },
  {
   "cell_type": "code",
   "execution_count": 10,
   "metadata": {},
   "outputs": [],
   "source": [
    "move_scale=np.array([0.1,1,2,3,4,5])"
   ]
  },
  {
   "cell_type": "code",
   "execution_count": 11,
   "metadata": {},
   "outputs": [
    {
     "data": {
      "text/plain": [
       "array([ 0.1,  1. ,  2. ,  3. ,  4. ,  5. ])"
      ]
     },
     "execution_count": 11,
     "metadata": {},
     "output_type": "execute_result"
    }
   ],
   "source": [
    "move_scale"
   ]
  },
  {
   "cell_type": "code",
   "execution_count": 12,
   "metadata": {},
   "outputs": [
    {
     "data": {
      "text/plain": [
       "array([[  0.20345197,   1.81007743,   1.24618104,  -4.40592085,\n",
       "         -7.57537882,  13.65109696],\n",
       "       [  0.11566184,   0.05905778,  -2.55594419,   4.91872312,\n",
       "         -0.46217503,  -5.73512901]])"
      ]
     },
     "execution_count": 12,
     "metadata": {},
     "output_type": "execute_result"
    }
   ],
   "source": [
    "np.random.normal(scale=move_scale,size=(2,6))"
   ]
  },
  {
   "cell_type": "code",
   "execution_count": 17,
   "metadata": {},
   "outputs": [
    {
     "data": {
      "text/plain": [
       "0.10000000000000001"
      ]
     },
     "execution_count": 17,
     "metadata": {},
     "output_type": "execute_result"
    }
   ],
   "source": [
    "np.mod(0.1,1)\n"
   ]
  },
  {
   "cell_type": "code",
   "execution_count": 25,
   "metadata": {},
   "outputs": [],
   "source": [
    "my_hist = np.random.normal(scale=2,size=(6,20))"
   ]
  },
  {
   "cell_type": "code",
   "execution_count": 26,
   "metadata": {},
   "outputs": [
    {
     "data": {
      "text/plain": [
       "array([[ 1.09478461,  1.47064141, -0.56420133, -0.71603566, -1.7345364 ,\n",
       "         2.63613232,  0.39930858, -0.33728606, -0.14709241, -0.88913445,\n",
       "         1.74237553, -2.1710165 ,  1.36903436,  1.39061535,  2.42498032,\n",
       "         0.72680228,  0.20631925, -0.48048933, -4.70417634,  1.58707192],\n",
       "       [-1.35542755,  2.35668662, -3.36147566,  1.1810772 ,  0.85331876,\n",
       "        -1.12251284,  0.68815626,  0.88186368, -0.29410267, -1.15221574,\n",
       "         1.46458825,  1.15509661,  0.47604526, -1.34742602, -0.87149586,\n",
       "        -1.39458459,  2.64375006, -1.11703957, -2.16811742, -0.90087624],\n",
       "       [ 1.22638762, -2.26570433,  1.0715839 , -0.39776134,  1.11190391,\n",
       "        -2.53108307, -0.71448139, -0.91156748,  1.3690436 ,  3.2519139 ,\n",
       "        -2.80357123,  5.35429224,  1.23966806,  0.65369691, -2.31520865,\n",
       "         2.96735149,  4.66434394,  0.6196747 ,  3.27009952,  1.47546229],\n",
       "       [-0.81436034,  0.33052194, -0.63337049,  1.62570187,  0.53070958,\n",
       "         1.67960269,  1.82500779, -3.70144014,  0.2926607 , -0.01742687,\n",
       "         2.03801109,  1.63712004, -1.38739099,  0.08116373, -0.26427296,\n",
       "        -1.61733937, -2.08332945,  0.95307687, -0.66539907, -0.87293484],\n",
       "       [-0.17940213, -2.02855717, -3.62702592,  2.39567534,  1.56770161,\n",
       "        -1.25466831,  1.91356401, -2.46594045,  2.08785938, -0.82633723,\n",
       "         1.09155588,  0.38938067, -0.76381842,  1.0160667 ,  1.21277845,\n",
       "         4.07246527,  2.07058322,  0.63094464,  0.68912433, -1.21492152],\n",
       "       [ 0.69394137,  0.33875271,  0.00544228,  1.42676353,  0.72509568,\n",
       "        -1.61653947, -2.21559576,  3.86290456, -1.90447255, -1.21387452,\n",
       "         2.52066772, -2.05733766, -0.74919271,  3.53506884, -2.66867836,\n",
       "         1.90760123, -2.42154573,  1.00948059, -3.41633511, -1.35815034]])"
      ]
     },
     "execution_count": 26,
     "metadata": {},
     "output_type": "execute_result"
    }
   ],
   "source": [
    "my_hist"
   ]
  },
  {
   "cell_type": "code",
   "execution_count": 20,
   "metadata": {},
   "outputs": [],
   "source": [
    "allrange=np.array([1,19,5.5,14.5,16,14])\n",
    "delta=allrange/(20)"
   ]
  },
  {
   "cell_type": "code",
   "execution_count": 28,
   "metadata": {},
   "outputs": [
    {
     "data": {
      "text/plain": [
       "array([[ 0.1 ],\n",
       "       [ 1.9 ],\n",
       "       [ 0.55],\n",
       "       [ 1.45],\n",
       "       [ 1.6 ],\n",
       "       [ 1.4 ]])"
      ]
     },
     "execution_count": 28,
     "metadata": {},
     "output_type": "execute_result"
    }
   ],
   "source": [
    "delta.reshape(-1,1)*position.shape[0]"
   ]
  },
  {
   "cell_type": "code",
   "execution_count": 29,
   "metadata": {},
   "outputs": [
    {
     "data": {
      "text/plain": [
       "array([[  1.09478461e+01,   1.47064141e+01,  -5.64201333e+00,\n",
       "         -7.16035663e+00,  -1.73453640e+01,   2.63613232e+01,\n",
       "          3.99308576e+00,  -3.37286064e+00,  -1.47092414e+00,\n",
       "         -8.89134455e+00,   1.74237553e+01,  -2.17101650e+01,\n",
       "          1.36903436e+01,   1.39061535e+01,   2.42498032e+01,\n",
       "          7.26802281e+00,   2.06319252e+00,  -4.80489327e+00,\n",
       "         -4.70417634e+01,   1.58707192e+01],\n",
       "       [ -7.13382922e-01,   1.24036138e+00,  -1.76919772e+00,\n",
       "          6.21619579e-01,   4.49115138e-01,  -5.90796232e-01,\n",
       "          3.62187505e-01,   4.64138780e-01,  -1.54790878e-01,\n",
       "         -6.06429335e-01,   7.70835923e-01,   6.07945586e-01,\n",
       "          2.50550136e-01,  -7.09171589e-01,  -4.58682030e-01,\n",
       "         -7.33991891e-01,   1.39144740e+00,  -5.87915564e-01,\n",
       "         -1.14111443e+00,  -4.74145391e-01],\n",
       "       [  2.22979568e+00,  -4.11946241e+00,   1.94833436e+00,\n",
       "         -7.23202437e-01,   2.02164347e+00,  -4.60196922e+00,\n",
       "         -1.29905708e+00,  -1.65739542e+00,   2.48917017e+00,\n",
       "          5.91257072e+00,  -5.09740224e+00,   9.73507679e+00,\n",
       "          2.25394193e+00,   1.18853983e+00,  -4.20947028e+00,\n",
       "          5.39518454e+00,   8.48062535e+00,   1.12668126e+00,\n",
       "          5.94563549e+00,   2.68265872e+00],\n",
       "       [ -5.61627819e-01,   2.27946168e-01,  -4.36807237e-01,\n",
       "          1.12117370e+00,   3.66006607e-01,   1.15834668e+00,\n",
       "          1.25862606e+00,  -2.55271734e+00,   2.01834968e-01,\n",
       "         -1.20185331e-02,   1.40552489e+00,   1.12904830e+00,\n",
       "         -9.56821372e-01,   5.59749839e-02,  -1.82257213e-01,\n",
       "         -1.11540646e+00,  -1.43677893e+00,   6.57294395e-01,\n",
       "         -4.58895913e-01,  -6.02024025e-01],\n",
       "       [ -1.12126331e-01,  -1.26784823e+00,  -2.26689120e+00,\n",
       "          1.49729709e+00,   9.79813508e-01,  -7.84167696e-01,\n",
       "          1.19597751e+00,  -1.54121278e+00,   1.30491211e+00,\n",
       "         -5.16460767e-01,   6.82222424e-01,   2.43362917e-01,\n",
       "         -4.77386513e-01,   6.35041686e-01,   7.57986534e-01,\n",
       "          2.54529079e+00,   1.29411451e+00,   3.94340399e-01,\n",
       "          4.30702709e-01,  -7.59325949e-01],\n",
       "       [  4.95672407e-01,   2.41966220e-01,   3.88734582e-03,\n",
       "          1.01911681e+00,   5.17925483e-01,  -1.15467105e+00,\n",
       "         -1.58256840e+00,   2.75921754e+00,  -1.36033753e+00,\n",
       "         -8.67053231e-01,   1.80047694e+00,  -1.46952690e+00,\n",
       "         -5.35137648e-01,   2.52504917e+00,  -1.90619883e+00,\n",
       "          1.36257231e+00,  -1.72967552e+00,   7.21057564e-01,\n",
       "         -2.44023937e+00,  -9.70107384e-01]])"
      ]
     },
     "execution_count": 29,
     "metadata": {},
     "output_type": "execute_result"
    }
   ],
   "source": [
    "my_hist/=delta.reshape(-1,1)*position.shape[0]\n",
    "my_hist"
   ]
  },
  {
   "cell_type": "code",
   "execution_count": 30,
   "metadata": {},
   "outputs": [
    {
     "data": {
      "text/plain": [
       "array([ 10.9478461 ,  14.70641408,  -5.64201333,  -7.16035663,\n",
       "       -17.34536401,  26.3613232 ,   3.99308576,  -3.37286064,\n",
       "        -1.47092414,  -8.89134455,  17.4237553 , -21.71016499,\n",
       "        13.69034364,  13.90615349,  24.2498032 ,   7.26802281,\n",
       "         2.06319252,  -4.80489327, -47.04176341,  15.8707192 ])"
      ]
     },
     "execution_count": 30,
     "metadata": {},
     "output_type": "execute_result"
    }
   ],
   "source": [
    "my_hist[0]"
   ]
  },
  {
   "cell_type": "code",
   "execution_count": null,
   "metadata": {},
   "outputs": [],
   "source": []
  }
 ],
 "metadata": {
  "kernelspec": {
   "display_name": "Python 3",
   "language": "python",
   "name": "python3"
  },
  "language_info": {
   "codemirror_mode": {
    "name": "ipython",
    "version": 3
   },
   "file_extension": ".py",
   "mimetype": "text/x-python",
   "name": "python",
   "nbconvert_exporter": "python",
   "pygments_lexer": "ipython3",
   "version": "3.6.10"
  }
 },
 "nbformat": 4,
 "nbformat_minor": 4
}
