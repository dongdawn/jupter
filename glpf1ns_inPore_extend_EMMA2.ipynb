{
 "cells": [
  {
   "cell_type": "code",
   "execution_count": 41,
   "metadata": {
    "collapsed": true
   },
   "outputs": [],
   "source": [
    "import pyemma.msm as msm\n",
    "import numpy as np\n",
    "import matplotlib\n",
    "matplotlib.use('pdf')\n",
    "import pyemma.plots as mplt\n",
    "import matplotlib.pyplot as plt\n",
    "import tables"
   ]
  },
  {
   "cell_type": "code",
   "execution_count": 42,
   "metadata": {},
   "outputs": [
    {
     "name": "stdout",
     "output_type": "stream",
     "text": [
      "/home/disk2/wdd/glpf/msm1nsinPore_extend\n"
     ]
    }
   ],
   "source": [
    "cd /home/disk2/wdd/glpf/msm1nsinPore_extend"
   ]
  },
  {
   "cell_type": "code",
   "execution_count": 77,
   "metadata": {
    "collapsed": true
   },
   "outputs": [],
   "source": [
    "import glob\n",
    "import numpy as np\n",
    "import mdtraj.io as mdio\n",
    "from msmbuilder.io import save_meta,load_meta\n",
    "def label(z):\n",
    "    rangeBin=np.arange(20,70.25,0.25)\n",
    "    if z>70:\n",
    "        lab=len(rangeBin)\n",
    "    else:\n",
    "        for i in range(len(rangeBin)):\n",
    "            if z<=rangeBin[i]:\n",
    "                lab=i\n",
    "                break\n",
    "    return lab\n",
    "allLabel2=[]\n",
    "files=glob.glob('traj/*.cs')\n",
    "wf=open('filename2.cs','w')\n",
    "for ff in files:\n",
    "    wf.write(str(ff)+'\\n')\n",
    "    data=np.loadtxt(ff)\n",
    "    dataz=data[:,1]\n",
    "    lab=[]\n",
    "    for z in dataz:\n",
    "        lab.append(label(z))\n",
    "    lab2=np.array(lab)\n",
    "    allLabel2.append(lab2)\n",
    "wf.close()\n"
   ]
  },
  {
   "cell_type": "code",
   "execution_count": 78,
   "metadata": {},
   "outputs": [
    {
     "name": "stdout",
     "output_type": "stream",
     "text": [
      "/home/disk2/wdd/glpf/msm1nsinPore_extend/EMMA\n"
     ]
    }
   ],
   "source": [
    "cd EMMA/"
   ]
  },
  {
   "cell_type": "code",
   "execution_count": 5,
   "metadata": {},
   "outputs": [
    {
     "name": "stdout",
     "output_type": "stream",
     "text": [
      "estimating BayesianMSM: 100% (19/19) [#############################] eta 00:00 /"
     ]
    },
    {
     "data": {
      "text/plain": [
       "<matplotlib.axes._subplots.AxesSubplot at 0x7fbf39d82ed0>"
      ]
     },
     "execution_count": 5,
     "metadata": {},
     "output_type": "execute_result"
    }
   ],
   "source": [
    "lagtimes = range(1,20)\n",
    "its = msm.timescales_msm(allLabel2, lags=lagtimes, nits=20,errors='bayes', n_jobs=-1)\n",
    "mplt.plot_implied_timescales(its, show_mean=False, ylog=True, dt=10, units='ps', linewidth=2)"
   ]
  },
  {
   "cell_type": "code",
   "execution_count": 6,
   "metadata": {
    "collapsed": true
   },
   "outputs": [],
   "source": [
    "plt.savefig('impliedtimescales_errorbar.png',dpi=600,bbox_inches='tight') "
   ]
  },
  {
   "cell_type": "code",
   "execution_count": 143,
   "metadata": {
    "collapsed": true
   },
   "outputs": [],
   "source": [
    "msm.timescal"
   ]
  },
  {
   "cell_type": "code",
   "execution_count": 1,
   "metadata": {},
   "outputs": [
    {
     "ename": "NameError",
     "evalue": "name 'plt' is not defined",
     "output_type": "error",
     "traceback": [
      "\u001b[0;31m---------------------------------------------------------------------------\u001b[0m",
      "\u001b[0;31mNameError\u001b[0m                                 Traceback (most recent call last)",
      "\u001b[0;32m<ipython-input-1-ca849670cc4e>\u001b[0m in \u001b[0;36m<module>\u001b[0;34m\u001b[0m\n\u001b[1;32m      2\u001b[0m \u001b[0mfont_path\u001b[0m \u001b[0;34m=\u001b[0m \u001b[0;34m'/home/disk2/wdd/msm/calibribold.ttf'\u001b[0m\u001b[0;34m\u001b[0m\u001b[0;34m\u001b[0m\u001b[0m\n\u001b[1;32m      3\u001b[0m \u001b[0mfont_prop\u001b[0m \u001b[0;34m=\u001b[0m \u001b[0mfont_manager\u001b[0m\u001b[0;34m.\u001b[0m\u001b[0mFontProperties\u001b[0m\u001b[0;34m(\u001b[0m\u001b[0mfname\u001b[0m\u001b[0;34m=\u001b[0m\u001b[0mfont_path\u001b[0m\u001b[0;34m,\u001b[0m \u001b[0msize\u001b[0m\u001b[0;34m=\u001b[0m\u001b[0;36m20\u001b[0m\u001b[0;34m)\u001b[0m\u001b[0;34m\u001b[0m\u001b[0;34m\u001b[0m\u001b[0m\n\u001b[0;32m----> 4\u001b[0;31m \u001b[0mfig\u001b[0m \u001b[0;34m=\u001b[0m \u001b[0mplt\u001b[0m\u001b[0;34m.\u001b[0m\u001b[0mfigure\u001b[0m\u001b[0;34m(\u001b[0m\u001b[0mfigsize\u001b[0m\u001b[0;34m=\u001b[0m\u001b[0;34m(\u001b[0m\u001b[0;36m5\u001b[0m\u001b[0;34m,\u001b[0m\u001b[0;36m4\u001b[0m\u001b[0;34m)\u001b[0m\u001b[0;34m)\u001b[0m\u001b[0;34m\u001b[0m\u001b[0;34m\u001b[0m\u001b[0m\n\u001b[0m\u001b[1;32m      5\u001b[0m \u001b[0msub\u001b[0m \u001b[0;34m=\u001b[0m \u001b[0mfig\u001b[0m\u001b[0;34m.\u001b[0m\u001b[0madd_subplot\u001b[0m\u001b[0;34m(\u001b[0m\u001b[0;36m1\u001b[0m\u001b[0;34m,\u001b[0m\u001b[0;36m1\u001b[0m\u001b[0;34m,\u001b[0m\u001b[0;36m1\u001b[0m\u001b[0;34m)\u001b[0m\u001b[0;34m\u001b[0m\u001b[0;34m\u001b[0m\u001b[0m\n\u001b[1;32m      6\u001b[0m \u001b[0mmplt\u001b[0m\u001b[0;34m.\u001b[0m\u001b[0mplot_implied_timescales\u001b[0m\u001b[0;34m(\u001b[0m\u001b[0mits\u001b[0m\u001b[0;34m,\u001b[0m \u001b[0mshow_mean\u001b[0m\u001b[0;34m=\u001b[0m\u001b[0;32mFalse\u001b[0m\u001b[0;34m,\u001b[0m \u001b[0mylog\u001b[0m\u001b[0;34m=\u001b[0m\u001b[0;32mTrue\u001b[0m\u001b[0;34m,\u001b[0m \u001b[0mdt\u001b[0m\u001b[0;34m=\u001b[0m\u001b[0;36m10\u001b[0m\u001b[0;34m,\u001b[0m \u001b[0munits\u001b[0m\u001b[0;34m=\u001b[0m\u001b[0;34m'ps'\u001b[0m\u001b[0;34m,\u001b[0m \u001b[0mlinewidth\u001b[0m\u001b[0;34m=\u001b[0m\u001b[0;36m1.6\u001b[0m\u001b[0;34m)\u001b[0m\u001b[0;34m\u001b[0m\u001b[0;34m\u001b[0m\u001b[0m\n",
      "\u001b[0;31mNameError\u001b[0m: name 'plt' is not defined"
     ]
    }
   ],
   "source": [
    "import matplotlib.font_manager as font_manager\n",
    "font_path = '/home/disk2/wdd/msm/calibribold.ttf'\n",
    "font_prop = font_manager.FontProperties(fname=font_path, size=20)\n",
    "fig = plt.figure(figsize=(5,4))\n",
    "sub = fig.add_subplot(1,1,1)\n",
    "mplt.plot_implied_timescales(its, show_mean=False, ylog=True, dt=10, units='ps', linewidth=1.6)\n",
    "for label in (sub.get_xticklabels() + sub.get_yticklabels()):\n",
    "    label.set_fontproperties(font_prop)\n",
    "    label.set_fontsize(16)\n",
    "plt.xlabel(r'lag time (ps)',fontproperties=font_prop)\n",
    "plt.ylabel(r'implied timescales (ps)',fontproperties=font_prop)\n",
    "plt.ylim(1,10000000)\n",
    "plt.semilogy()\n",
    "plt.savefig('impliedtimescales_EMMA.png',dpi=600,bbox_inches='tight')\n",
    "plt.show()"
   ]
  },
  {
   "cell_type": "code",
   "execution_count": 137,
   "metadata": {},
   "outputs": [
    {
     "name": "stdout",
     "output_type": "stream",
     "text": [
      "Sampling MSMs: 100% (100/100) [####################################] eta 00:00 -"
     ]
    }
   ],
   "source": [
    "msm_lag = 11\n",
    "M11 = msm.bayesian_markov_model(allLabel2, msm_lag)"
   ]
  },
  {
   "cell_type": "code",
   "execution_count": 11,
   "metadata": {},
   "outputs": [
    {
     "name": "stdout",
     "output_type": "stream",
     "text": [
      "estimating BayesianMSM: 100% (3/3) [###############################] eta 01:29 -"
     ]
    }
   ],
   "source": [
    "ck_macro = M.cktest(8,mlags=4,n_jobs=6)"
   ]
  },
  {
   "cell_type": "code",
   "execution_count": 12,
   "metadata": {
    "collapsed": true
   },
   "outputs": [],
   "source": [
    "mplt.plot_cktest?"
   ]
  },
  {
   "cell_type": "code",
   "execution_count": 53,
   "metadata": {},
   "outputs": [
    {
     "data": {
      "text/plain": [
       "(<matplotlib.figure.Figure at 0x7fbf381e1510>,\n",
       " array([[<matplotlib.axes._subplots.AxesSubplot object at 0x7fbf392d0d50>,\n",
       "         <matplotlib.axes._subplots.AxesSubplot object at 0x7fbf380fafd0>],\n",
       "        [<matplotlib.axes._subplots.AxesSubplot object at 0x7fbf392f1cd0>,\n",
       "         <matplotlib.axes._subplots.AxesSubplot object at 0x7fbf38131a50>],\n",
       "        [<matplotlib.axes._subplots.AxesSubplot object at 0x7fbf291c00d0>,\n",
       "         <matplotlib.axes._subplots.AxesSubplot object at 0x7fbf2919c550>],\n",
       "        [<matplotlib.axes._subplots.AxesSubplot object at 0x7fbf291176d0>,\n",
       "         <matplotlib.axes._subplots.AxesSubplot object at 0x7fbf290f49d0>]], dtype=object))"
      ]
     },
     "execution_count": 53,
     "metadata": {},
     "output_type": "execute_result"
    }
   ],
   "source": [
    "mplt.plot_cktest(ck_macro, diag=True, figsize=(6,5), layout=(4,2), padding_top=0.1, y01=True, padding_between=0.16, dt=10, units='ps')"
   ]
  },
  {
   "cell_type": "code",
   "execution_count": 54,
   "metadata": {
    "collapsed": true
   },
   "outputs": [],
   "source": [
    "plt.savefig('ck8_EMMA.png',dpi=600,bbox_inches='tight')"
   ]
  },
  {
   "cell_type": "code",
   "execution_count": 17,
   "metadata": {
    "collapsed": true
   },
   "outputs": [],
   "source": [
    "ck_memberships=np.array(np.mat(np.eye(202,202,dtype=int)))"
   ]
  },
  {
   "cell_type": "code",
   "execution_count": 18,
   "metadata": {},
   "outputs": [
    {
     "name": "stdout",
     "output_type": "stream",
     "text": [
      "Sampling MSMs: 100% (100/100) [####################################] eta 00:00 \\"
     ]
    },
    {
     "name": "stderr",
     "output_type": "stream",
     "text": [
      "/software/anaconda2/envs/msmb/lib/python2.7/site-packages/progress_reporter/reporter.py:159: UserWarning: This should not happen. An caller pretended to have achieved more work than registered\n",
      "  warnings.warn(\"This should not happen. An caller pretended to have \"\n"
     ]
    },
    {
     "name": "stdout",
     "output_type": "stream",
     "text": [
      "estimating BayesianMSM: 100% (3/3) [###############################] eta --:-- \\"
     ]
    },
    {
     "name": "stderr",
     "output_type": "stream",
     "text": [
      "/software/anaconda2/envs/msmb/lib/python2.7/site-packages/pyemma/util/statistics.py:60: UserWarning: confidence interval for constant data is not meaningful\n",
      "  warnings.warn('confidence interval for constant data is not meaningful')\n"
     ]
    }
   ],
   "source": [
    "ck_micro = M.cktest(9, memberships=ck_memberships,mlags=4,n_jobs=6)"
   ]
  },
  {
   "cell_type": "code",
   "execution_count": 19,
   "metadata": {},
   "outputs": [
    {
     "data": {
      "text/plain": [
       "(<matplotlib.figure.Figure at 0x7fbf39415f50>,\n",
       " array([[<matplotlib.axes._subplots.AxesSubplot object at 0x7fbf394159d0>,\n",
       "         <matplotlib.axes._subplots.AxesSubplot object at 0x7fbf3ccacb50>,\n",
       "         <matplotlib.axes._subplots.AxesSubplot object at 0x7fbf39eee810>],\n",
       "        [<matplotlib.axes._subplots.AxesSubplot object at 0x7fbf3ccfd390>,\n",
       "         <matplotlib.axes._subplots.AxesSubplot object at 0x7fbf39f85950>,\n",
       "         <matplotlib.axes._subplots.AxesSubplot object at 0x7fbf39fac350>],\n",
       "        [<matplotlib.axes._subplots.AxesSubplot object at 0x7fbf39e84510>,\n",
       "         <matplotlib.axes._subplots.AxesSubplot object at 0x7fbf39fb5bd0>,\n",
       "         <matplotlib.axes._subplots.AxesSubplot object at 0x7fbf3cd48050>]], dtype=object))"
      ]
     },
     "execution_count": 19,
     "metadata": {},
     "output_type": "execute_result"
    }
   ],
   "source": [
    "mplt.plot_cktest(ck_micro, diag=True, figsize=(6,5), layout=(3,3), padding_top=0.1, y01=True, padding_between=0.2, dt=10, units='ps')\n",
    "plt.savefig('ck202micro_EMMA.png',dpi=600,bbox_inches='tight')"
   ]
  },
  {
   "cell_type": "code",
   "execution_count": 126,
   "metadata": {},
   "outputs": [
    {
     "data": {
      "text/plain": [
       "<msmtools.analysis.dense.pcca.PCCA instance at 0x7f7195acc758>"
      ]
     },
     "execution_count": 126,
     "metadata": {},
     "output_type": "execute_result"
    }
   ],
   "source": [
    "M10.pcca(8)"
   ]
  },
  {
   "cell_type": "code",
   "execution_count": 139,
   "metadata": {},
   "outputs": [],
   "source": [
    "p0=range(177,202)\n",
    "p1=range(148,177)\n",
    "p2=range(127,148)\n",
    "p3=range(111,127)\n",
    "p4=range(91,111)\n",
    "p5=range(63,91)\n",
    "p6=range(27,63)\n",
    "p7=range(0,27)\n",
    "tpt01=tpt(M11,p0,p1)\n",
    "tpt12=tpt(M11,p1,p2)\n",
    "tpt23=tpt(M11,p2,p3)\n",
    "tpt34=tpt(M11,p3,p4)\n",
    "tpt45=tpt(M11,p4,p5)\n",
    "tpt56=tpt(M11,p5,p6)\n",
    "tpt67=tpt(M11,p6,p7)\n",
    "tpt76=tpt(M11,p7,p6)\n",
    "tpt65=tpt(M11,p6,p5)\n",
    "tpt54=tpt(M11,p5,p4)\n",
    "tpt43=tpt(M11,p4,p3)\n",
    "tpt32=tpt(M11,p3,p2)\n",
    "tpt21=tpt(M11,p2,p1)\n",
    "tpt10=tpt(M11,p1,p0)"
   ]
  },
  {
   "cell_type": "code",
   "execution_count": 140,
   "metadata": {},
   "outputs": [
    {
     "name": "stdout",
     "output_type": "stream",
     "text": [
      "0.490474739287\n",
      "0.1267930446\n",
      "0.0226551205047\n",
      "0.00185399855123\n",
      "0.0563437723651\n",
      "0.0305259971593\n",
      "0.172541359582\n",
      "0.381826424148\n",
      "0.0393988251878\n",
      "0.051013616638\n",
      "0.00141416193279\n",
      "0.023046368195\n",
      "0.0904527889309\n",
      "0.230013882473\n"
     ]
    }
   ],
   "source": [
    "print tpt01.rate*100\n",
    "print tpt12.rate*100\n",
    "print tpt23.rate*100\n",
    "print tpt34.rate*100\n",
    "print tpt45.rate*100\n",
    "print tpt56.rate*100\n",
    "print tpt67.rate*100\n",
    "print tpt76.rate*100\n",
    "print tpt65.rate*100\n",
    "print tpt54.rate*100\n",
    "print tpt43.rate*100\n",
    "print tpt32.rate*100\n",
    "print tpt21.rate*100\n",
    "print tpt10.rate*100"
   ]
  },
  {
   "cell_type": "code",
   "execution_count": 138,
   "metadata": {},
   "outputs": [
    {
     "name": "stdout",
     "output_type": "stream",
     "text": [
      "[7 7 7 7 7 7 7 7 7 7 7 7 7 7 7 7 7 7 7 7 7 7 7 7 7 7 7 7 7 7 5 5 5 5 5 5 5\n",
      " 5 5 5 5 5 5 5 5 5 5 5 5 5 5 5 5 5 5 5 5 5 5 5 5 5 5 3 3 3 3 3 3 3 3 3 3 3\n",
      " 3 3 3 3 3 3 3 3 3 3 3 3 3 3 3 3 3 2 2 2 2 2 2 2 2 2 2 2 2 2 2 2 2 2 2 2 2\n",
      " 0 0 0 0 0 0 0 0 0 0 0 0 0 0 0 0 1 1 1 1 1 1 1 1 1 1 1 1 1 1 1 1 1 1 1 1 1\n",
      " 4 4 4 4 4 4 4 4 4 4 4 4 4 4 4 4 4 4 4 4 4 4 4 4 4 4 4 4 4 6 6 6 6 6 6 6 6\n",
      " 6 6 6 6 6 6 6 6 6 6 6 6 6 6 6 6 6]\n"
     ]
    }
   ],
   "source": [
    "wf=open('Populations_lag11.dat','w')\n",
    "for h in M11.pi:\n",
    "    wf.write(str(float(h))+'\\n')\n",
    "wf.close()\n",
    "\n",
    "M11.pcca(8)\n",
    "print M11.metastable_assignments"
   ]
  },
  {
   "cell_type": "code",
   "execution_count": 24,
   "metadata": {},
   "outputs": [
    {
     "name": "stderr",
     "output_type": "stream",
     "text": [
      "/software/anaconda2/envs/msmb/lib/python2.7/site-packages/msmbuilder-3.8.0-py2.7-linux-x86_64.egg/msmbuilder/io/io.py:54: BackupWarning: allLabelmacro.pickl exists. Moving it to allLabelmacro.pickl.bak.1\n",
      "  BackupWarning)\n"
     ]
    }
   ],
   "source": [
    "from msmbuilder.io import save_meta,load_meta\n",
    "mapp=M.metastable_assignments\n",
    "allLabelmacro=[]\n",
    "for i in range(len(allLabel2)):\n",
    "    temp=[]\n",
    "    for j in range(len(allLabel2[i])):\n",
    "        if allLabel2[i][j]==202:\n",
    "            temp.append(mapp[201])\n",
    "        else:\n",
    "            temp.append(mapp[allLabel2[i][j]])\n",
    "    temp2=np.array(temp)\n",
    "    allLabelmacro.append(temp2)\n",
    "save_meta(allLabelmacro,'allLabelmacro.pickl')"
   ]
  },
  {
   "cell_type": "code",
   "execution_count": 28,
   "metadata": {},
   "outputs": [
    {
     "name": "stdout",
     "output_type": "stream",
     "text": [
      "Sampling MSMs: 100% (100/100) [####################################] eta 00:01 \\"
     ]
    }
   ],
   "source": [
    "from msmbuilder.io import save_meta,load_meta\n",
    "allLabelmacro=load_meta('allLabelmacro.pickl')\n",
    "msm_lag = 8\n",
    "macro_M = msm.bayesian_markov_model(allLabelmacro, msm_lag)"
   ]
  },
  {
   "cell_type": "code",
   "execution_count": 146,
   "metadata": {},
   "outputs": [
    {
     "name": "stdout",
     "output_type": "stream",
     "text": [
      "8.0 step\n"
     ]
    }
   ],
   "source": [
    "print M.timestep_model"
   ]
  },
  {
   "cell_type": "code",
   "execution_count": 6,
   "metadata": {},
   "outputs": [
    {
     "data": {
      "text/plain": [
       "array([[  7.13582810e-01,   2.73444354e-01,   1.28762327e-02,\n",
       "          9.66027969e-05,   0.00000000e+00,   0.00000000e+00,\n",
       "          0.00000000e+00,   0.00000000e+00],\n",
       "       [  2.16896874e-02,   8.82011340e-01,   1.68787070e-04,\n",
       "          0.00000000e+00,   9.58869369e-02,   0.00000000e+00,\n",
       "          2.43248196e-04,   0.00000000e+00],\n",
       "       [  9.54771184e-04,   1.57784860e-04,   9.60106243e-01,\n",
       "          3.87812006e-02,   0.00000000e+00,   0.00000000e+00,\n",
       "          0.00000000e+00,   0.00000000e+00],\n",
       "       [  5.46619304e-06,   0.00000000e+00,   2.95941608e-02,\n",
       "          9.52094478e-01,   0.00000000e+00,   1.82867892e-02,\n",
       "          0.00000000e+00,   1.91063318e-05],\n",
       "       [  0.00000000e+00,   4.77388595e-02,   0.00000000e+00,\n",
       "          0.00000000e+00,   8.02928331e-01,   0.00000000e+00,\n",
       "          1.49332809e-01,   0.00000000e+00],\n",
       "       [  0.00000000e+00,   0.00000000e+00,   0.00000000e+00,\n",
       "          1.80431382e-02,   0.00000000e+00,   8.76107008e-01,\n",
       "          0.00000000e+00,   1.05849854e-01],\n",
       "       [  0.00000000e+00,   4.84671363e-05,   0.00000000e+00,\n",
       "          0.00000000e+00,   5.97640985e-02,   0.00000000e+00,\n",
       "          9.40177768e-01,   9.66601970e-06],\n",
       "       [  0.00000000e+00,   0.00000000e+00,   0.00000000e+00,\n",
       "          5.38513202e-06,   0.00000000e+00,   3.02367205e-02,\n",
       "          9.75393633e-06,   9.69748140e-01]])"
      ]
     },
     "execution_count": 6,
     "metadata": {},
     "output_type": "execute_result"
    }
   ],
   "source": [
    "macro_M.transition_matrix"
   ]
  },
  {
   "cell_type": "code",
   "execution_count": 8,
   "metadata": {},
   "outputs": [],
   "source": [
    "wf=open('Populations.dat','w')\n",
    "for h in macro_M.pi:\n",
    "    wf.write(str(float(h))+'\\n')\n",
    "wf.close()\n",
    "wf=open('tProb.mtx','w')\n",
    "wf.write('%%MatrixMarket matrix coordinate real general\\n%\\n')\n",
    "wf.write(str(len(macro_M.transition_matrix))+' '+str(len(macro_M.transition_matrix[0]))+' '+str(len(macro_M.transition_matrix)*len(macro_M.transition_matrix[0]))+'\\n')\n",
    "for i in range(len(macro_M.transition_matrix)):\n",
    "    for j in range(len(macro_M.transition_matrix[i])):\n",
    "        wf.write(str(i+1)+' '+str(j+1)+' '+str(macro_M.transition_matrix[i][j])+'\\n')\n",
    "wf.close()"
   ]
  },
  {
   "cell_type": "code",
   "execution_count": 11,
   "metadata": {},
   "outputs": [],
   "source": [
    "wf=open('mfpt.dat','w')\n",
    "for i in range(8):\n",
    "    for j in range(8):\n",
    "        wf.write(str(macro_M.mfpt(i,j)*0.01)+'    ')\n",
    "    wf.write('\\n')\n",
    "wf.close()"
   ]
  },
  {
   "cell_type": "code",
   "execution_count": 6,
   "metadata": {},
   "outputs": [],
   "source": [
    "matrix = macro_M.transition_matrix\n",
    "wf=open('matrix.dat','w')\n",
    "for h in matrix:\n",
    "    for l in h:\n",
    "        wf.write(str(l)+'    ')\n",
    "    wf.write('\\n')\n",
    "wf.close()"
   ]
  },
  {
   "cell_type": "code",
   "execution_count": 30,
   "metadata": {},
   "outputs": [],
   "source": [
    "matrix =macro_M.count_matrix_full\n",
    "wf=open('new_count_matrix.dat','w')\n",
    "new_matrix=np.zeros(shape=(8,8))\n",
    "new_index=[6,4,1,0,2,3,5,7]\n",
    "for i in range(8):\n",
    "    for j in range(8):\n",
    "        new_matrix[i][j]=matrix[new_index[i]][new_index[j]]\n",
    "for h in new_matrix:\n",
    "    for l in h:\n",
    "        wf.write(str(l)+'    ')\n",
    "    wf.write('\\n')\n",
    "wf.close()"
   ]
  },
  {
   "cell_type": "code",
   "execution_count": 24,
   "metadata": {},
   "outputs": [],
   "source": [
    "matrix = macro_M.transition_matrix\n",
    "wf=open('new_matrix.dat','w')\n",
    "new_matrix=np.zeros(shape=(8,8))\n",
    "new_index=[6,4,1,0,2,3,5,7]\n",
    "for i in range(8):\n",
    "    for j in range(8):\n",
    "        new_matrix[i][j]=matrix[new_index[i]][new_index[j]]\n",
    "for h in new_matrix:\n",
    "    for l in h:\n",
    "        wf.write(str(l)+'    ')\n",
    "    wf.write('\\n')\n",
    "wf.close()"
   ]
  },
  {
   "cell_type": "code",
   "execution_count": 25,
   "metadata": {},
   "outputs": [],
   "source": [
    "mfpt = np.loadtxt('mfpt.dat')\n",
    "wf=open('new_mfpt.dat','w')\n",
    "new_mfpt=np.zeros(shape=(8,8))\n",
    "new_index=[6,4,1,0,2,3,5,7]\n",
    "for i in range(8):\n",
    "    for j in range(8):\n",
    "        new_mfpt[i][j]=mfpt[new_index[i]][new_index[j]]\n",
    "for h in new_mfpt:\n",
    "    for l in h:\n",
    "        wf.write(str(l)+'    ')\n",
    "    wf.write('\\n')\n",
    "wf.close()"
   ]
  },
  {
   "cell_type": "code",
   "execution_count": 75,
   "metadata": {},
   "outputs": [
    {
     "data": {
      "text/plain": [
       "array([ 0.00467344,  0.05891853,  0.06302687,  0.08259257,  0.11834211,\n",
       "        0.08370788,  0.29570194,  0.29303665])"
      ]
     },
     "execution_count": 75,
     "metadata": {},
     "output_type": "execute_result"
    }
   ],
   "source": [
    "macro_M."
   ]
  },
  {
   "cell_type": "code",
   "execution_count": 26,
   "metadata": {},
   "outputs": [
    {
     "data": {
      "text/plain": [
       "7.60253617452"
      ]
     },
     "execution_count": 26,
     "metadata": {},
     "output_type": "execute_result"
    }
   ],
   "source": [
    "6.15651233103+1.44602384349"
   ]
  },
  {
   "cell_type": "code",
   "execution_count": 49,
   "metadata": {},
   "outputs": [
    {
     "data": {
      "text/plain": [
       "1.668217859251782e-05"
      ]
     },
     "execution_count": 49,
     "metadata": {},
     "output_type": "execute_result"
    }
   ],
   "source": [
    "1/macro_M.mfpt(5,7)"
   ]
  },
  {
   "cell_type": "code",
   "execution_count": 33,
   "metadata": {},
   "outputs": [],
   "source": [
    "from pyemma.msm import tpt"
   ]
  },
  {
   "cell_type": "code",
   "execution_count": 69,
   "metadata": {},
   "outputs": [],
   "source": [
    "a=tpt(macro_M,[5],[6])"
   ]
  },
  {
   "cell_type": "code",
   "execution_count": 73,
   "metadata": {},
   "outputs": [
    {
     "data": {
      "text/plain": [
       "0.0015787284983089836"
      ]
     },
     "execution_count": 73,
     "metadata": {},
     "output_type": "execute_result"
    }
   ],
   "source": [
    "a.rate*100"
   ]
  },
  {
   "cell_type": "code",
   "execution_count": 71,
   "metadata": {},
   "outputs": [],
   "source": [
    "b=tpt(macro_M,[6],[5])"
   ]
  },
  {
   "cell_type": "code",
   "execution_count": 74,
   "metadata": {},
   "outputs": [
    {
     "data": {
      "text/plain": [
       "0.0016844550690756244"
      ]
     },
     "execution_count": 74,
     "metadata": {},
     "output_type": "execute_result"
    }
   ],
   "source": [
    "b.rate*100"
   ]
  },
  {
   "cell_type": "code",
   "execution_count": 46,
   "metadata": {
    "collapsed": true
   },
   "outputs": [],
   "source": [
    "lagtimes = range(1,20)\n",
    "its_macro = msm.timescales_msm(allLabelmacro, lags=lagtimes, nits=7,errors='bayes', n_jobs=-1)\n",
    "fig = plt.figure(figsize=(5,4))\n",
    "sub = fig.add_subplot(1,1,1)\n",
    "mplt.plot_implied_timescales(its_macro, show_mean=False, ylog=True, dt=10, units='ps', linewidth=2.2)\n",
    "for label in (sub.get_xticklabels() + sub.get_yticklabels()):\n",
    "    label.set_fontproperties(font_prop)\n",
    "    label.set_fontsize(16)\n",
    "plt.xlabel(r'lag time (ps)',fontproperties=font_prop)\n",
    "plt.ylabel(r'implied timescales (ps)',fontproperties=font_prop)\n",
    "plt.ylim(1,10000000)\n",
    "plt.semilogy()\n",
    "plt.savefig('impliedtimescales_EMMA_macro.png',dpi=600,bbox_inches='tight')\n",
    "plt.show()"
   ]
  },
  {
   "cell_type": "code",
   "execution_count": 50,
   "metadata": {},
   "outputs": [
    {
     "name": "stdout",
     "output_type": "stream",
     "text": [
      "estimating BayesianMSM: 100% (3/3) [###############################] eta --:-- -"
     ]
    }
   ],
   "source": [
    "ck_memberships=np.array(np.mat(np.eye(8,8,dtype=int)))\n",
    "ck_ = macro_M.cktest(8, memberships=ck_memberships,mlags=4,n_jobs=6)"
   ]
  },
  {
   "cell_type": "code",
   "execution_count": 55,
   "metadata": {},
   "outputs": [
    {
     "data": {
      "text/plain": [
       "(<matplotlib.figure.Figure at 0x7fbf28f284d0>,\n",
       " array([[<matplotlib.axes._subplots.AxesSubplot object at 0x7fbf28f1db90>,\n",
       "         <matplotlib.axes._subplots.AxesSubplot object at 0x7fbf38112ad0>],\n",
       "        [<matplotlib.axes._subplots.AxesSubplot object at 0x7fbf306a9550>,\n",
       "         <matplotlib.axes._subplots.AxesSubplot object at 0x7fbf3064bc90>],\n",
       "        [<matplotlib.axes._subplots.AxesSubplot object at 0x7fbf301c2c50>,\n",
       "         <matplotlib.axes._subplots.AxesSubplot object at 0x7fbf30629150>],\n",
       "        [<matplotlib.axes._subplots.AxesSubplot object at 0x7fbf305a5110>,\n",
       "         <matplotlib.axes._subplots.AxesSubplot object at 0x7fbf30503690>]], dtype=object))"
      ]
     },
     "execution_count": 55,
     "metadata": {},
     "output_type": "execute_result"
    }
   ],
   "source": [
    "mplt.plot_cktest(ck_, diag=True, figsize=(6,5), layout=(4,2), padding_top=0.1, y01=True, padding_between=0.16, dt=10, units='ps')"
   ]
  },
  {
   "cell_type": "code",
   "execution_count": 56,
   "metadata": {
    "collapsed": true
   },
   "outputs": [],
   "source": [
    "plt.savefig('ck_pcca-macro_EMMA.png',dpi=600,bbox_inches='tight')"
   ]
  },
  {
   "cell_type": "code",
   "execution_count": 57,
   "metadata": {
    "collapsed": true
   },
   "outputs": [],
   "source": [
    "plt.scatter?"
   ]
  },
  {
   "cell_type": "code",
   "execution_count": 86,
   "metadata": {
    "collapsed": true
   },
   "outputs": [],
   "source": [
    "tpt75=msm.tpt(macro_M,[7],[5])\n",
    "tpt57=msm.tpt(macro_M,[5],[7])"
   ]
  },
  {
   "cell_type": "code",
   "execution_count": 87,
   "metadata": {},
   "outputs": [
    {
     "data": {
      "text/plain": [
       "284.15493181365429"
      ]
     },
     "execution_count": 87,
     "metadata": {},
     "output_type": "execute_result"
    }
   ],
   "source": [
    "tpt75.mfpt\n"
   ]
  },
  {
   "cell_type": "code",
   "execution_count": 98,
   "metadata": {
    "collapsed": true
   },
   "outputs": [],
   "source": [
    "tpt53=msm.tpt(macro_M,[5],[3])\n",
    "tpt35=msm.tpt(macro_M,[3],[5])"
   ]
  },
  {
   "cell_type": "code",
   "execution_count": 97,
   "metadata": {},
   "outputs": [
    {
     "data": {
      "text/plain": [
       "0.00018933334415187773"
      ]
     },
     "execution_count": 97,
     "metadata": {},
     "output_type": "execute_result"
    }
   ],
   "source": [
    "tpt53.total_flux"
   ]
  },
  {
   "cell_type": "code",
   "execution_count": 99,
   "metadata": {},
   "outputs": [
    {
     "data": {
      "text/plain": [
       "0.00018933334415186415"
      ]
     },
     "execution_count": 99,
     "metadata": {},
     "output_type": "execute_result"
    }
   ],
   "source": [
    "tpt35.total_flux"
   ]
  },
  {
   "cell_type": "code",
   "execution_count": 104,
   "metadata": {},
   "outputs": [
    {
     "data": {
      "text/plain": [
       "0.0011080963639094326"
      ]
     },
     "execution_count": 104,
     "metadata": {},
     "output_type": "execute_result"
    }
   ],
   "source": [
    "tpt75.total_flux"
   ]
  },
  {
   "cell_type": "code",
   "execution_count": 103,
   "metadata": {},
   "outputs": [
    {
     "data": {
      "text/plain": [
       "0.0011080963639094139"
      ]
     },
     "execution_count": 103,
     "metadata": {},
     "output_type": "execute_result"
    }
   ],
   "source": [
    "tpt57.total_flux"
   ]
  },
  {
   "cell_type": "code",
   "execution_count": 110,
   "metadata": {
    "collapsed": true
   },
   "outputs": [],
   "source": [
    "tpt32=msm.tpt(macro_M,[3],[2])\n",
    "tpt23=msm.tpt(macro_M,[2],[3])"
   ]
  },
  {
   "cell_type": "code",
   "execution_count": 111,
   "metadata": {},
   "outputs": [
    {
     "data": {
      "text/plain": [
       "0.00030592585563429396"
      ]
     },
     "execution_count": 111,
     "metadata": {},
     "output_type": "execute_result"
    }
   ],
   "source": [
    "tpt32.total_flux"
   ]
  },
  {
   "cell_type": "code",
   "execution_count": 112,
   "metadata": {
    "collapsed": true
   },
   "outputs": [],
   "source": [
    "tpt20=msm.tpt(macro_M,[2],[0])\n",
    "tpt02=msm.tpt(macro_M,[0],[2])"
   ]
  },
  {
   "cell_type": "code",
   "execution_count": 113,
   "metadata": {},
   "outputs": [
    {
     "data": {
      "text/plain": [
       "9.161405456456862e-06"
      ]
     },
     "execution_count": 113,
     "metadata": {},
     "output_type": "execute_result"
    }
   ],
   "source": [
    "tpt20.total_flux"
   ]
  },
  {
   "cell_type": "code",
   "execution_count": 108,
   "metadata": {
    "collapsed": true
   },
   "outputs": [],
   "source": [
    "tpt01=msm.tpt(macro_M,[0],[1])\n",
    "tpt10=msm.tpt(macro_M,[1],[0])"
   ]
  },
  {
   "cell_type": "code",
   "execution_count": 109,
   "metadata": {},
   "outputs": [
    {
     "data": {
      "text/plain": [
       "0.00016106093971120079"
      ]
     },
     "execution_count": 109,
     "metadata": {},
     "output_type": "execute_result"
    }
   ],
   "source": [
    "tpt01.total_flux"
   ]
  },
  {
   "cell_type": "code",
   "execution_count": 123,
   "metadata": {},
   "outputs": [
    {
     "data": {
      "text/plain": [
       "8.4985800692739908e-05"
      ]
     },
     "execution_count": 123,
     "metadata": {},
     "output_type": "execute_result"
    }
   ],
   "source": [
    "tpt01.rate-tpt10.rate"
   ]
  },
  {
   "cell_type": "code",
   "execution_count": 122,
   "metadata": {},
   "outputs": [
    {
     "data": {
      "text/plain": [
       "1.9029350598522365e-06"
      ]
     },
     "execution_count": 122,
     "metadata": {},
     "output_type": "execute_result"
    }
   ],
   "source": [
    "tpt02.rate-tpt20.rate"
   ]
  },
  {
   "cell_type": "code",
   "execution_count": 117,
   "metadata": {},
   "outputs": [
    {
     "data": {
      "text/plain": [
       "0.00028514016452531435"
      ]
     },
     "execution_count": 117,
     "metadata": {},
     "output_type": "execute_result"
    }
   ],
   "source": [
    "tpt10.rate"
   ]
  },
  {
   "cell_type": "code",
   "execution_count": 124,
   "metadata": {
    "collapsed": true
   },
   "outputs": [],
   "source": [
    "tpt67=msm.tpt(macro_M,[6],[7])"
   ]
  },
  {
   "cell_type": "code",
   "execution_count": 127,
   "metadata": {},
   "outputs": [
    {
     "data": {
      "text/plain": [
       "1.6682178592514337e-05"
      ]
     },
     "execution_count": 127,
     "metadata": {},
     "output_type": "execute_result"
    }
   ],
   "source": [
    "tpt67.rate"
   ]
  },
  {
   "cell_type": "code",
   "execution_count": 101,
   "metadata": {},
   "outputs": [],
   "source": [
    "rran=range(0.0,0.2,0.01)+np.arange(0.2,0.6,0.02)"
   ]
  },
  {
   "cell_type": "code",
   "execution_count": 117,
   "metadata": {},
   "outputs": [],
   "source": [
    "rran=(np.arange(0,20)/100.0)"
   ]
  },
  {
   "cell_type": "code",
   "execution_count": 119,
   "metadata": {},
   "outputs": [
    {
     "data": {
      "text/plain": [
       "array([ 0.2 ,  0.22,  0.24,  0.26,  0.28,  0.3 ,  0.32,  0.34,  0.36,\n",
       "        0.38,  0.4 ,  0.42,  0.44,  0.46,  0.48,  0.5 ,  0.52,  0.54,\n",
       "        0.56,  0.58])"
      ]
     },
     "execution_count": 119,
     "metadata": {},
     "output_type": "execute_result"
    }
   ],
   "source": [
    "np.arange(0.2,0.6,0.02)"
   ]
  },
  {
   "cell_type": "code",
   "execution_count": null,
   "metadata": {
    "collapsed": true
   },
   "outputs": [],
   "source": []
  }
 ],
 "metadata": {
  "kernelspec": {
   "display_name": "Python 3",
   "language": "python",
   "name": "python3"
  },
  "language_info": {
   "codemirror_mode": {
    "name": "ipython",
    "version": 3
   },
   "file_extension": ".py",
   "mimetype": "text/x-python",
   "name": "python",
   "nbconvert_exporter": "python",
   "pygments_lexer": "ipython3",
   "version": "3.6.10"
  }
 },
 "nbformat": 4,
 "nbformat_minor": 1
}
