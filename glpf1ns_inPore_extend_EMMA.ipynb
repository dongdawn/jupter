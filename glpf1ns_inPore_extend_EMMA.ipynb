{
 "cells": [
  {
   "cell_type": "code",
   "execution_count": 1,
   "metadata": {},
   "outputs": [],
   "source": [
    "import pyemma.msm as msm\n",
    "import numpy as np\n",
    "import matplotlib\n",
    "matplotlib.use('pdf')\n",
    "import pyemma.plots as mplt\n",
    "import matplotlib.pyplot as plt\n",
    "import tables"
   ]
  },
  {
   "cell_type": "code",
   "execution_count": 52,
   "metadata": {},
   "outputs": [
    {
     "name": "stdout",
     "output_type": "stream",
     "text": [
      "/home/disk2/wdd/glpf/msm1nsinPore_extend\n"
     ]
    }
   ],
   "source": [
    "cd /home/disk2/wdd/glpf/msm1nsinPore_extend"
   ]
  },
  {
   "cell_type": "code",
   "execution_count": 53,
   "metadata": {
    "collapsed": true
   },
   "outputs": [],
   "source": [
    "import glob\n",
    "import numpy as np\n",
    "import mdtraj.io as mdio\n",
    "from msmbuilder.io import save_meta,load_meta\n",
    "def label(z):\n",
    "    rangeBin=np.arange(20,70.25,0.25)\n",
    "    if z>70:\n",
    "        lab=len(rangeBin)\n",
    "    else:\n",
    "        for i in range(len(rangeBin)):\n",
    "            if z<=rangeBin[i]:\n",
    "                lab=i\n",
    "                break\n",
    "    return lab\n",
    "allLabel2=[]\n",
    "files=glob.glob('traj/*.cs')\n",
    "wf=open('filename2.cs','w')\n",
    "for ff in files:\n",
    "    wf.write(str(ff)+'\\n')\n",
    "    data=np.loadtxt(ff)\n",
    "    dataz=data[:,1]\n",
    "    lab=[]\n",
    "    for z in dataz:\n",
    "        lab.append(label(z))\n",
    "    lab2=np.array(lab)\n",
    "    allLabel2.append(lab2)\n",
    "wf.close()\n"
   ]
  },
  {
   "cell_type": "code",
   "execution_count": 83,
   "metadata": {},
   "outputs": [
    {
     "data": {
      "text/plain": [
       "u'/home/disk2/wdd/glpf/msm1nsinPore_extend/EMMA'"
      ]
     },
     "execution_count": 83,
     "metadata": {},
     "output_type": "execute_result"
    }
   ],
   "source": [
    "pwd"
   ]
  },
  {
   "cell_type": "code",
   "execution_count": 87,
   "metadata": {},
   "outputs": [
    {
     "name": "stdout",
     "output_type": "stream",
     "text": [
      "estimating BayesianMSM: 100% (19/19) [#############################] eta 00:00 |"
     ]
    },
    {
     "ename": "AttributeError",
     "evalue": "'module' object has no attribute 'savefig'",
     "output_type": "error",
     "traceback": [
      "\u001b[0;31m\u001b[0m",
      "\u001b[0;31mAttributeError\u001b[0mTraceback (most recent call last)",
      "\u001b[0;32m<ipython-input-87-6a590e7a6564>\u001b[0m in \u001b[0;36m<module>\u001b[0;34m()\u001b[0m\n\u001b[1;32m      2\u001b[0m \u001b[0mits\u001b[0m \u001b[0;34m=\u001b[0m \u001b[0mmsm\u001b[0m\u001b[0;34m.\u001b[0m\u001b[0mtimescales_msm\u001b[0m\u001b[0;34m(\u001b[0m\u001b[0mallLabel2\u001b[0m\u001b[0;34m,\u001b[0m \u001b[0mlags\u001b[0m\u001b[0;34m=\u001b[0m\u001b[0mlagtimes\u001b[0m\u001b[0;34m,\u001b[0m \u001b[0mnits\u001b[0m\u001b[0;34m=\u001b[0m\u001b[0;36m20\u001b[0m\u001b[0;34m,\u001b[0m\u001b[0merrors\u001b[0m\u001b[0;34m=\u001b[0m\u001b[0;34m'bayes'\u001b[0m\u001b[0;34m,\u001b[0m \u001b[0mn_jobs\u001b[0m\u001b[0;34m=\u001b[0m\u001b[0;34m-\u001b[0m\u001b[0;36m1\u001b[0m\u001b[0;34m)\u001b[0m\u001b[0;34m\u001b[0m\u001b[0m\n\u001b[1;32m      3\u001b[0m \u001b[0mmplt\u001b[0m\u001b[0;34m.\u001b[0m\u001b[0mplot_implied_timescales\u001b[0m\u001b[0;34m(\u001b[0m\u001b[0mits\u001b[0m\u001b[0;34m,\u001b[0m \u001b[0mshow_mean\u001b[0m\u001b[0;34m=\u001b[0m\u001b[0mFalse\u001b[0m\u001b[0;34m,\u001b[0m \u001b[0mylog\u001b[0m\u001b[0;34m=\u001b[0m\u001b[0mTrue\u001b[0m\u001b[0;34m,\u001b[0m \u001b[0mdt\u001b[0m\u001b[0;34m=\u001b[0m\u001b[0;36m0.1\u001b[0m\u001b[0;34m,\u001b[0m \u001b[0munits\u001b[0m\u001b[0;34m=\u001b[0m\u001b[0;34m'ns'\u001b[0m\u001b[0;34m,\u001b[0m \u001b[0mlinewidth\u001b[0m\u001b[0;34m=\u001b[0m\u001b[0;36m2\u001b[0m\u001b[0;34m)\u001b[0m\u001b[0;34m\u001b[0m\u001b[0m\n\u001b[0;32m----> 4\u001b[0;31m \u001b[0mmplt\u001b[0m\u001b[0;34m.\u001b[0m\u001b[0msavefig\u001b[0m\u001b[0;34m(\u001b[0m\u001b[0;34m'impliedtimescales_errorba2r.png'\u001b[0m\u001b[0;34m)\u001b[0m\u001b[0;34m\u001b[0m\u001b[0m\n\u001b[0m\u001b[1;32m      5\u001b[0m \u001b[0mplt\u001b[0m\u001b[0;34m.\u001b[0m\u001b[0msavefig\u001b[0m\u001b[0;34m(\u001b[0m\u001b[0;34m'impliedtimescales_errorbar.png'\u001b[0m\u001b[0;34m,\u001b[0m\u001b[0mdpi\u001b[0m\u001b[0;34m=\u001b[0m\u001b[0;36m600\u001b[0m\u001b[0;34m,\u001b[0m\u001b[0mbbox_inches\u001b[0m\u001b[0;34m=\u001b[0m\u001b[0;34m'tight'\u001b[0m\u001b[0;34m)\u001b[0m\u001b[0;34m\u001b[0m\u001b[0m\n",
      "\u001b[0;31mAttributeError\u001b[0m: 'module' object has no attribute 'savefig'"
     ]
    }
   ],
   "source": [
    "lagtimes = range(1,20)\n",
    "its = msm.timescales_msm(allLabel2, lags=lagtimes, nits=20,errors='bayes', n_jobs=-1)\n",
    "mplt.plot_implied_timescales(its, show_mean=False, ylog=True, dt=0.1, units='ns', linewidth=2)\n",
    "plt.savefig('impliedtimescales_errorbar.png',dpi=600,bbox_inches='tight') "
   ]
  },
  {
   "cell_type": "code",
   "execution_count": 60,
   "metadata": {},
   "outputs": [
    {
     "name": "stdout",
     "output_type": "stream",
     "text": [
      "Sampling MSMs: 100% (100/100) [####################################] eta 00:01 /"
     ]
    }
   ],
   "source": [
    "msm_lag = 10\n",
    "M = msm.bayesian_markov_model(allLabel2, msm_lag)"
   ]
  },
  {
   "cell_type": "code",
   "execution_count": 88,
   "metadata": {},
   "outputs": [],
   "source": [
    "plt.savefig('impliedtimescales_errorbar.png',dpi=600,bbox_inches='tight')"
   ]
  },
  {
   "cell_type": "code",
   "execution_count": 90,
   "metadata": {},
   "outputs": [],
   "source": [
    "plt.show()"
   ]
  },
  {
   "cell_type": "code",
   "execution_count": 65,
   "metadata": {},
   "outputs": [
    {
     "data": {
      "text/plain": [
       "array([7, 7, 7, 7, 7, 7, 7, 7, 7, 7, 7, 7, 7, 7, 7, 7, 7, 7, 7, 7, 7, 7, 7,\n",
       "       7, 7, 7, 7, 7, 7, 7, 7, 7, 7, 5, 5, 5, 5, 5, 5, 5, 5, 5, 5, 5, 5, 5,\n",
       "       5, 5, 5, 5, 5, 5, 5, 5, 5, 5, 5, 5, 5, 5, 5, 5, 5, 5, 3, 3, 3, 3, 3,\n",
       "       3, 3, 3, 3, 3, 3, 3, 3, 3, 3, 3, 3, 3, 3, 3, 3, 3, 3, 3, 3, 3, 3, 2,\n",
       "       2, 2, 2, 2, 2, 2, 2, 2, 2, 2, 2, 2, 2, 2, 2, 2, 2, 2, 2, 2, 0, 0, 0,\n",
       "       0, 0, 0, 0, 0, 0, 0, 0, 0, 0, 0, 0, 1, 1, 1, 1, 1, 1, 1, 1, 1, 1, 1,\n",
       "       1, 1, 1, 1, 1, 1, 1, 1, 1, 4, 4, 4, 4, 4, 4, 4, 4, 4, 4, 4, 4, 4, 4,\n",
       "       4, 4, 4, 4, 4, 4, 4, 4, 4, 4, 4, 4, 4, 4, 4, 4, 4, 4, 4, 6, 6, 6, 6,\n",
       "       6, 6, 6, 6, 6, 6, 6, 6, 6, 6, 6, 6, 6, 6, 6, 6, 6, 6])"
      ]
     },
     "execution_count": 65,
     "metadata": {},
     "output_type": "execute_result"
    }
   ],
   "source": [
    "M.metastable_assignments"
   ]
  },
  {
   "cell_type": "code",
   "execution_count": 21,
   "metadata": {},
   "outputs": [
    {
     "data": {
      "text/plain": [
       "(<matplotlib.figure.Figure at 0x7f22d2f36e90>,\n",
       " array([[<matplotlib.axes._subplots.AxesSubplot object at 0x7f22d2f36050>,\n",
       "         <matplotlib.axes._subplots.AxesSubplot object at 0x7f22e42348d0>],\n",
       "        [<matplotlib.axes._subplots.AxesSubplot object at 0x7f22d3e896d0>,\n",
       "         <matplotlib.axes._subplots.AxesSubplot object at 0x7f22d352b4d0>],\n",
       "        [<matplotlib.axes._subplots.AxesSubplot object at 0x7f22d3e087d0>,\n",
       "         <matplotlib.axes._subplots.AxesSubplot object at 0x7f22d3e12190>],\n",
       "        [<matplotlib.axes._subplots.AxesSubplot object at 0x7f22e4464e10>,\n",
       "         <matplotlib.axes._subplots.AxesSubplot object at 0x7f22e4294550>]], dtype=object))"
      ]
     },
     "execution_count": 21,
     "metadata": {},
     "output_type": "execute_result"
    }
   ],
   "source": [
    "mplt.plot_cktest(ck, diag=True, figsize=(7,7), layout=(4,2), padding_top=0.1, y01=True, padding_between=0.3, dt=10, units='ps')"
   ]
  },
  {
   "cell_type": "code",
   "execution_count": 22,
   "metadata": {
    "collapsed": true
   },
   "outputs": [],
   "source": [
    "plt.savefig('ck-be.png',dpi=600,bbox_inches='tight')"
   ]
  },
  {
   "cell_type": "code",
   "execution_count": 16,
   "metadata": {},
   "outputs": [
    {
     "data": {
      "text/plain": [
       "<msmtools.analysis.dense.pcca.PCCA instance at 0x7f46bd2f9638>"
      ]
     },
     "execution_count": 16,
     "metadata": {},
     "output_type": "execute_result"
    }
   ],
   "source": [
    "M.pcca(8)"
   ]
  },
  {
   "cell_type": "code",
   "execution_count": 47,
   "metadata": {},
   "outputs": [
    {
     "data": {
      "text/plain": [
       "202"
      ]
     },
     "execution_count": 47,
     "metadata": {},
     "output_type": "execute_result"
    }
   ],
   "source": [
    "len(M.metastable_assignments)"
   ]
  },
  {
   "cell_type": "code",
   "execution_count": 74,
   "metadata": {},
   "outputs": [],
   "source": [
    "from msmbuilder.io import save_meta,load_meta\n",
    "mapp=M.metastable_assignments\n",
    "allLabelmacro=[]\n",
    "for i in range(len(allLabel2)):\n",
    "    temp=[]\n",
    "    for j in range(len(allLabel2[i])):\n",
    "        if allLabel2[i][j]==202:\n",
    "            temp.append(mapp[201])\n",
    "        else:\n",
    "            temp.append(mapp[allLabel2[i][j]])\n",
    "    temp2=np.array(temp)\n",
    "    allLabelmacro.append(temp2)\n",
    "save_meta(allLabelmacro,'allLabelmacro.pickl')"
   ]
  },
  {
   "cell_type": "code",
   "execution_count": 73,
   "metadata": {},
   "outputs": [
    {
     "data": {
      "text/plain": [
       "u'/home/disk2/wdd/glpf/msm1nsinPore_extend/EMMA'"
      ]
     },
     "execution_count": 73,
     "metadata": {},
     "output_type": "execute_result"
    }
   ],
   "source": [
    "pwd"
   ]
  },
  {
   "cell_type": "code",
   "execution_count": 51,
   "metadata": {},
   "outputs": [
    {
     "data": {
      "text/plain": [
       "array([[  6.10767947e-14,   6.69290208e-02,   1.94076644e-02, ...,\n",
       "          1.14444141e-02,   9.66070540e-13,   7.75380442e-01],\n",
       "       [  1.18871414e-04,   6.82702038e-02,   1.97224310e-02, ...,\n",
       "          3.72370873e-02,   1.07580812e-03,   7.52850990e-01],\n",
       "       [  1.33430841e-04,   6.84426029e-02,   1.97629849e-02, ...,\n",
       "          4.04724833e-02,   1.21681111e-03,   7.50025661e-01],\n",
       "       ..., \n",
       "       [  8.30622589e-05,   5.62925947e-02,   2.97975029e-04, ...,\n",
       "          1.51746867e-04,   6.61583834e-01,   4.76571336e-05],\n",
       "       [  9.25012751e-05,   5.79663384e-02,   3.12007859e-04, ...,\n",
       "          1.41202034e-04,   6.65966034e-01,   4.30037038e-05],\n",
       "       [  1.66633050e-04,   7.74463115e-02,   4.68781541e-04, ...,\n",
       "          3.12119727e-06,   7.20026092e-01,   0.00000000e+00]])"
      ]
     },
     "execution_count": 51,
     "metadata": {},
     "output_type": "execute_result"
    }
   ],
   "source": [
    "M.metastable_memberships"
   ]
  },
  {
   "cell_type": "code",
   "execution_count": 44,
   "metadata": {},
   "outputs": [
    {
     "data": {
      "text/plain": [
       "(8, 202)"
      ]
     },
     "execution_count": 44,
     "metadata": {},
     "output_type": "execute_result"
    }
   ],
   "source": [
    "M.metastable_distributions.shape"
   ]
  },
  {
   "cell_type": "code",
   "execution_count": 53,
   "metadata": {},
   "outputs": [],
   "source": [
    "ck_memberships=np.array(np.mat(np.eye(202,202,dtype=int)))"
   ]
  },
  {
   "cell_type": "code",
   "execution_count": 54,
   "metadata": {},
   "outputs": [
    {
     "data": {
      "text/plain": [
       "array([[1, 0, 0, ..., 0, 0, 0],\n",
       "       [0, 1, 0, ..., 0, 0, 0],\n",
       "       [0, 0, 1, ..., 0, 0, 0],\n",
       "       ..., \n",
       "       [0, 0, 0, ..., 1, 0, 0],\n",
       "       [0, 0, 0, ..., 0, 1, 0],\n",
       "       [0, 0, 0, ..., 0, 0, 1]])"
      ]
     },
     "execution_count": 54,
     "metadata": {},
     "output_type": "execute_result"
    }
   ],
   "source": [
    "ck_memberships"
   ]
  },
  {
   "cell_type": "code",
   "execution_count": 56,
   "metadata": {},
   "outputs": [
    {
     "name": "stdout",
     "output_type": "stream",
     "text": [
      "estimating BayesianMSM: 100% (3/3) [###############################] eta --:-- \\"
     ]
    }
   ],
   "source": [
    "ck_micro = M.cktest(9, memberships=ck_memberships,mlags=4,n_jobs=6)"
   ]
  },
  {
   "cell_type": "code",
   "execution_count": 57,
   "metadata": {},
   "outputs": [
    {
     "data": {
      "text/plain": [
       "(<matplotlib.figure.Figure at 0x7f22e43df8d0>,\n",
       " array([[<matplotlib.axes._subplots.AxesSubplot object at 0x7f22d38c0b90>,\n",
       "         <matplotlib.axes._subplots.AxesSubplot object at 0x7f22e40f8f90>,\n",
       "         <matplotlib.axes._subplots.AxesSubplot object at 0x7f22d3801b10>],\n",
       "        [<matplotlib.axes._subplots.AxesSubplot object at 0x7f22d3c18ed0>,\n",
       "         <matplotlib.axes._subplots.AxesSubplot object at 0x7f22d3674850>,\n",
       "         <matplotlib.axes._subplots.AxesSubplot object at 0x7f22d3833990>],\n",
       "        [<matplotlib.axes._subplots.AxesSubplot object at 0x7f22e40c0bd0>,\n",
       "         <matplotlib.axes._subplots.AxesSubplot object at 0x7f22e429a790>,\n",
       "         <matplotlib.axes._subplots.AxesSubplot object at 0x7f22d2d5df10>]], dtype=object))"
      ]
     },
     "execution_count": 57,
     "metadata": {},
     "output_type": "execute_result"
    }
   ],
   "source": [
    "mplt.plot_cktest(ck_micro, diag=True, figsize=(6,5), layout=(3,3), padding_top=0.1, y01=True, padding_between=0.3, dt=10, units='ps')"
   ]
  },
  {
   "cell_type": "code",
   "execution_count": 58,
   "metadata": {
    "collapsed": true
   },
   "outputs": [],
   "source": [
    "plt.savefig('ck-micro9.png',dpi=600,bbox_inches='tight')"
   ]
  },
  {
   "cell_type": "code",
   "execution_count": 75,
   "metadata": {},
   "outputs": [
    {
     "data": {
      "text/plain": [
       "array([[  6.51924860e-01,   1.98470250e-02,   1.99209738e-02, ...,\n",
       "          7.95478818e-07,   7.79879514e-07,   5.90282234e-05],\n",
       "       [  5.31236947e-01,   1.94790506e-02,   2.01598877e-02, ...,\n",
       "          2.24232359e-07,   2.23340356e-07,   2.77122359e-05],\n",
       "       [  5.14908755e-01,   1.94677143e-02,   2.02403296e-02, ...,\n",
       "          2.07557364e-07,   2.06779222e-07,   2.62021661e-05],\n",
       "       ..., \n",
       "       [  2.34921554e-05,   2.47399989e-07,   2.37144294e-07, ...,\n",
       "          1.56495991e-02,   1.47091696e-02,   5.12523380e-01],\n",
       "       [  2.44410156e-05,   2.61496624e-07,   2.50714193e-07, ...,\n",
       "          1.56093798e-02,   1.47030720e-02,   5.24427803e-01],\n",
       "       [  5.22658572e-05,   9.16720784e-07,   8.97585540e-07, ...,\n",
       "          1.53666005e-02,   1.48167290e-02,   6.60837395e-01]])"
      ]
     },
     "execution_count": 75,
     "metadata": {},
     "output_type": "execute_result"
    }
   ],
   "source": [
    "ck_micro.predictions[3]"
   ]
  },
  {
   "cell_type": "code",
   "execution_count": 74,
   "metadata": {},
   "outputs": [
    {
     "data": {
      "text/plain": [
       "array([[  6.64866916e-01,   1.98041239e-02,   1.97138430e-02, ...,\n",
       "          2.90285524e-07,   1.18265934e-06,   1.88006476e-05],\n",
       "       [  4.95759577e-01,   2.63852240e-02,   2.90866227e-02, ...,\n",
       "          7.78632669e-15,   7.40703678e-15,   3.33196889e-05],\n",
       "       [  4.74268753e-01,   2.79531682e-02,   3.07555916e-02, ...,\n",
       "          7.80299935e-15,   7.34527603e-15,   2.49726604e-13],\n",
       "       ..., \n",
       "       [  8.51790539e-06,   9.12536796e-15,   9.51690714e-15, ...,\n",
       "          2.32465596e-02,   2.27212600e-02,   4.72428277e-01],\n",
       "       [  3.68265216e-05,   9.21412094e-15,   9.50794119e-15, ...,\n",
       "          2.41115990e-02,   2.26675544e-02,   4.88738116e-01],\n",
       "       [  1.75799397e-05,   1.24460068e-06,   9.70665546e-15, ...,\n",
       "          1.50547318e-02,   1.46764070e-02,   6.86829469e-01]])"
      ]
     },
     "execution_count": 74,
     "metadata": {},
     "output_type": "execute_result"
    }
   ],
   "source": [
    "ck_micro.estimates[3]"
   ]
  },
  {
   "cell_type": "code",
   "execution_count": 70,
   "metadata": {},
   "outputs": [
    {
     "data": {
      "text/plain": [
       "(4, 202, 202)"
      ]
     },
     "execution_count": 70,
     "metadata": {},
     "output_type": "execute_result"
    }
   ],
   "source": [
    "ck_micro.predictions.shape"
   ]
  },
  {
   "cell_type": "code",
   "execution_count": 77,
   "metadata": {},
   "outputs": [
    {
     "data": {
      "text/plain": [
       "<msmtools.analysis.dense.pcca.PCCA instance at 0x7f22e4342560>"
      ]
     },
     "execution_count": 77,
     "metadata": {},
     "output_type": "execute_result"
    }
   ],
   "source": [
    "M.pcca(8)"
   ]
  },
  {
   "cell_type": "code",
   "execution_count": 79,
   "metadata": {},
   "outputs": [
    {
     "data": {
      "text/plain": [
       "array([[  6.03153683e-13,   4.38567373e-05,   5.09786416e-05, ...,\n",
       "          2.77754587e-05,   2.91479308e-05,   1.85846559e-03],\n",
       "       [  9.13496633e-02,   3.48121482e-03,   3.61409267e-03, ...,\n",
       "          2.60165378e-03,   2.52450718e-03,   1.19380901e-01],\n",
       "       [  4.03816880e-02,   1.53312931e-03,   1.59090417e-03, ...,\n",
       "          2.09940787e-05,   2.07150026e-05,   1.10159849e-03],\n",
       "       ..., \n",
       "       [  1.48453769e-02,   1.80459816e-03,   2.03113038e-03, ...,\n",
       "          6.66535294e-06,   5.84449345e-06,   4.57257160e-06],\n",
       "       [  6.03158138e-13,   2.50936777e-05,   2.93917745e-05, ...,\n",
       "          1.39866270e-02,   1.32673045e-02,   5.07705914e-01],\n",
       "       [  4.32905838e-01,   1.57034390e-02,   1.62007459e-02, ...,\n",
       "          9.00974030e-07,   7.66112813e-07,   0.00000000e+00]])"
      ]
     },
     "execution_count": 79,
     "metadata": {},
     "output_type": "execute_result"
    }
   ],
   "source": [
    "M.metastable_distributions"
   ]
  },
  {
   "cell_type": "code",
   "execution_count": 80,
   "metadata": {},
   "outputs": [
    {
     "name": "stdout",
     "output_type": "stream",
     "text": [
      "05-06-18 17:11:48 pyemma.msm.estimators.bayesian_msm.BayesianMSM[0] WARNING  Requested coarse-grained model with 8 metastable states at lag=10.The ratio of relaxation timescales between 8 and 9 states is only 1.03081393049 while we recommend at least 1.5. It is possible that the resulting HMM is inaccurate. Handle with caution.\n"
     ]
    }
   ],
   "source": [
    "hmm=M.coarse_grain(8)"
   ]
  },
  {
   "cell_type": "code",
   "execution_count": 81,
   "metadata": {},
   "outputs": [
    {
     "data": {
      "text/plain": [
       "array([ 0.05875921,  0.07829717,  0.06893122,  0.09186817,  0.12461267,\n",
       "        0.15685981,  0.16237643,  0.25829533])"
      ]
     },
     "execution_count": 81,
     "metadata": {},
     "output_type": "execute_result"
    }
   ],
   "source": [
    "hmm.stationary_distribution"
   ]
  },
  {
   "cell_type": "code",
   "execution_count": 82,
   "metadata": {},
   "outputs": [
    {
     "name": "stdout",
     "output_type": "stream",
     "text": [
      "05-06-18 20:00:26 pyemma.msm.estimators.bayesian_msm.BayesianMSM[0] WARNING  Requested coarse-grained model with 9 metastable states at lag=10.The ratio of relaxation timescales between 9 and 10 states is only 1.13691823002 while we recommend at least 1.5. It is possible that the resulting HMM is inaccurate. Handle with caution.\n"
     ]
    }
   ],
   "source": [
    "hmm9=M.coarse_grain(9)"
   ]
  },
  {
   "cell_type": "code",
   "execution_count": 83,
   "metadata": {},
   "outputs": [
    {
     "data": {
      "text/plain": [
       "array([ 0.05873388,  0.07826362,  0.05295488,  0.04213205,  0.06647642,\n",
       "        0.12455948,  0.15643232,  0.162307  ,  0.25814036])"
      ]
     },
     "execution_count": 83,
     "metadata": {},
     "output_type": "execute_result"
    }
   ],
   "source": []
  },
  {
   "cell_type": "code",
   "execution_count": 84,
   "metadata": {
    "collapsed": true
   },
   "outputs": [],
   "source": [
    "hmm10=M.coarse_grain(10)"
   ]
  },
  {
   "cell_type": "code",
   "execution_count": 85,
   "metadata": {},
   "outputs": [
    {
     "data": {
      "text/plain": [
       "array([ 0.05873426,  0.07826537,  0.05236669,  0.0418224 ,  0.06642131,\n",
       "        0.08279537,  0.14030819,  0.124561  ,  0.19241593,  0.16230947])"
      ]
     },
     "execution_count": 85,
     "metadata": {},
     "output_type": "execute_result"
    }
   ],
   "source": [
    "hmm10.stationary_distribution"
   ]
  },
  {
   "cell_type": "code",
   "execution_count": 86,
   "metadata": {},
   "outputs": [
    {
     "data": {
      "text/plain": [
       "array([[  9.65342191e-001,   3.38335457e-002,   0.00000000e+000,\n",
       "          9.89242734e-172,   7.76976032e-004,   0.00000000e+000,\n",
       "          0.00000000e+000,   4.30634445e-005,   0.00000000e+000,\n",
       "          4.22340432e-006],\n",
       "       [  2.53903907e-002,   8.89032771e-001,   0.00000000e+000,\n",
       "          0.00000000e+000,   0.00000000e+000,   0.00000000e+000,\n",
       "          0.00000000e+000,   8.08628211e-002,   0.00000000e+000,\n",
       "          4.71401689e-003],\n",
       "       [  0.00000000e+000,   0.00000000e+000,   9.58523500e-001,\n",
       "          2.65481329e-002,   5.59087202e-004,   1.43692799e-002,\n",
       "          1.08971579e-014,   0.00000000e+000,   0.00000000e+000,\n",
       "          0.00000000e+000],\n",
       "       [  1.38926598e-171,   0.00000000e+000,   3.32414645e-002,\n",
       "          9.47092024e-001,   1.96388035e-002,   2.77077216e-005,\n",
       "          0.00000000e+000,   0.00000000e+000,   0.00000000e+000,\n",
       "          0.00000000e+000],\n",
       "       [  6.87055272e-004,   0.00000000e+000,   4.40785441e-004,\n",
       "          1.23656386e-002,   9.86506521e-001,   6.45461333e-213,\n",
       "          0.00000000e+000,   0.00000000e+000,   0.00000000e+000,\n",
       "          0.00000000e+000],\n",
       "       [  0.00000000e+000,   0.00000000e+000,   9.08832969e-003,\n",
       "          1.39959931e-005,   5.17811404e-213,   9.53120505e-001,\n",
       "          3.76252523e-002,   0.00000000e+000,   1.51917472e-004,\n",
       "          0.00000000e+000],\n",
       "       [  0.00000000e+000,   0.00000000e+000,   4.06710462e-015,\n",
       "          0.00000000e+000,   0.00000000e+000,   2.22025292e-002,\n",
       "          9.02020081e-001,   0.00000000e+000,   7.57773894e-002,\n",
       "          3.02429609e-283],\n",
       "       [  2.03057093e-005,   5.08085051e-002,   0.00000000e+000,\n",
       "          0.00000000e+000,   0.00000000e+000,   0.00000000e+000,\n",
       "          0.00000000e+000,   8.36789288e-001,   0.00000000e+000,\n",
       "          1.12381901e-001],\n",
       "       [  0.00000000e+000,   0.00000000e+000,   0.00000000e+000,\n",
       "          0.00000000e+000,   0.00000000e+000,   6.53691378e-005,\n",
       "          5.52562800e-002,   0.00000000e+000,   9.44665029e-001,\n",
       "          1.33217614e-005],\n",
       "       [  1.52830588e-006,   2.27309134e-003,   0.00000000e+000,\n",
       "          0.00000000e+000,   0.00000000e+000,   0.00000000e+000,\n",
       "          2.61434843e-283,   8.62451336e-002,   1.57927880e-005,\n",
       "          9.11464454e-001]])"
      ]
     },
     "execution_count": 86,
     "metadata": {},
     "output_type": "execute_result"
    }
   ],
   "source": [
    "hmm10.transition_matrix"
   ]
  },
  {
   "cell_type": "code",
   "execution_count": 89,
   "metadata": {},
   "outputs": [
    {
     "data": {
      "text/plain": [
       "array([8, 8, 8, 8, 8, 8, 8, 8, 8, 8, 6, 6, 6, 6, 6, 6, 6, 6, 6, 6, 6, 6, 6,\n",
       "       6, 6, 6, 6, 6, 6, 6, 6, 6, 6, 6, 6, 6, 5, 5, 5, 5, 5, 5, 5, 5, 5, 5,\n",
       "       5, 5, 5, 5, 5, 5, 5, 5, 5, 5, 5, 5, 5, 5, 5, 5, 2, 2, 2, 2, 2, 2, 2,\n",
       "       2, 2, 2, 2, 2, 2, 2, 2, 2, 2, 2, 2, 3, 3, 3, 3, 3, 3, 3, 3, 3, 3, 3,\n",
       "       3, 4, 4, 4, 4, 4, 4, 4, 4, 4, 4, 4, 4, 4, 4, 4, 4, 4, 4, 0, 0, 0, 0,\n",
       "       0, 0, 0, 0, 0, 0, 0, 0, 0, 0, 0, 0, 0, 0, 0, 0, 0, 0, 0, 0, 0, 0, 0,\n",
       "       0, 0, 0, 0, 0, 0, 0, 0, 0, 0, 0, 0, 1, 1, 1, 1, 1, 1, 1, 1, 1, 1, 1,\n",
       "       1, 1, 1, 1, 1, 1, 1, 1, 1, 1, 1, 1, 1, 7, 7, 7, 7, 7, 7, 7, 7, 7, 7,\n",
       "       7, 7, 7, 7, 7, 7, 7, 7, 7, 7, 7, 7, 7, 7, 9, 9, 9, 9])"
      ]
     },
     "execution_count": 89,
     "metadata": {},
     "output_type": "execute_result"
    }
   ],
   "source": [
    "hmm10.metastable_assignments"
   ]
  },
  {
   "cell_type": "code",
   "execution_count": 99,
   "metadata": {},
   "outputs": [
    {
     "data": {
      "text/plain": [
       "163.65955803676255"
      ]
     },
     "execution_count": 99,
     "metadata": {},
     "output_type": "execute_result"
    }
   ],
   "source": [
    "hmm10.mfpt(9,7)"
   ]
  },
  {
   "cell_type": "code",
   "execution_count": 100,
   "metadata": {},
   "outputs": [
    {
     "data": {
      "text/plain": [
       "474.37354225492589"
      ]
     },
     "execution_count": 100,
     "metadata": {},
     "output_type": "execute_result"
    }
   ],
   "source": [
    "hmm10.mfpt(7,1)"
   ]
  },
  {
   "cell_type": "code",
   "execution_count": 101,
   "metadata": {},
   "outputs": [
    {
     "data": {
      "text/plain": [
       "2002.8295122554732"
      ]
     },
     "execution_count": 101,
     "metadata": {},
     "output_type": "execute_result"
    }
   ],
   "source": [
    "hmm10.mfpt(1,0)"
   ]
  },
  {
   "cell_type": "code",
   "execution_count": 102,
   "metadata": {},
   "outputs": [
    {
     "data": {
      "text/plain": [
       "88701.174611238559"
      ]
     },
     "execution_count": 102,
     "metadata": {},
     "output_type": "execute_result"
    }
   ],
   "source": [
    "hmm10.mfpt(0,4)"
   ]
  },
  {
   "cell_type": "code",
   "execution_count": 103,
   "metadata": {},
   "outputs": [
    {
     "data": {
      "text/plain": [
       "5629.5535381738"
      ]
     },
     "execution_count": 103,
     "metadata": {},
     "output_type": "execute_result"
    }
   ],
   "source": [
    "hmm10.mfpt(4,3)"
   ]
  },
  {
   "cell_type": "code",
   "execution_count": 104,
   "metadata": {},
   "outputs": [
    {
     "data": {
      "text/plain": [
       "599.39896260615615"
      ]
     },
     "execution_count": 104,
     "metadata": {},
     "output_type": "execute_result"
    }
   ],
   "source": [
    "hmm10.mfpt(9,1)"
   ]
  },
  {
   "cell_type": "code",
   "execution_count": 107,
   "metadata": {},
   "outputs": [
    {
     "name": "stdout",
     "output_type": "stream",
     "text": [
      "05-06-18 21:39:54 pyemma.msm.estimators.maximum_likelihood_hmsm.MaximumLikelihoodHMSM[1] WARNING  Ignored error during estimation: 'BayesianMSM' object has no attribute '_is_estimated'\n",
      "05-06-18 21:39:55 pyemma.msm.estimators.maximum_likelihood_hmsm.MaximumLikelihoodHMSM[1] WARNING  Ignored error during estimation: 'BayesianMSM' object has no attribute '_is_estimated'\n",
      "05-06-18 21:39:55 pyemma.msm.estimators.maximum_likelihood_hmsm.MaximumLikelihoodHMSM[1] WARNING  Ignored error during estimation: 'BayesianMSM' object has no attribute '_is_estimated'\n",
      "estimating MaximumLikelihoodHMSM: 100% (3/3) [#####################] eta --:-- |"
     ]
    }
   ],
   "source": [
    "ck_macro10_hmm=hmm10.cktest(mlags=4,n_jobs=6)"
   ]
  },
  {
   "cell_type": "code",
   "execution_count": 108,
   "metadata": {},
   "outputs": [
    {
     "data": {
      "text/plain": [
       "(<matplotlib.figure.Figure at 0x7f22e43f42d0>,\n",
       " array([[<matplotlib.axes._subplots.AxesSubplot object at 0x7f22d2d5fa50>,\n",
       "         <matplotlib.axes._subplots.AxesSubplot object at 0x7f22d3df4690>,\n",
       "         <matplotlib.axes._subplots.AxesSubplot object at 0x7f22e4110310>],\n",
       "        [<matplotlib.axes._subplots.AxesSubplot object at 0x7f22b4c05390>,\n",
       "         <matplotlib.axes._subplots.AxesSubplot object at 0x7f22d2ef2590>,\n",
       "         <matplotlib.axes._subplots.AxesSubplot object at 0x7f22d2ed8cd0>],\n",
       "        [<matplotlib.axes._subplots.AxesSubplot object at 0x7f22e4171390>,\n",
       "         <matplotlib.axes._subplots.AxesSubplot object at 0x7f22e4108550>,\n",
       "         <matplotlib.axes._subplots.AxesSubplot object at 0x7f22e4079cd0>],\n",
       "        [<matplotlib.axes._subplots.AxesSubplot object at 0x7f22d2efb5d0>,\n",
       "         <matplotlib.axes._subplots.AxesSubplot object at 0x7f22e4143a10>,\n",
       "         <matplotlib.axes._subplots.AxesSubplot object at 0x7f22d36b5210>]], dtype=object))"
      ]
     },
     "execution_count": 108,
     "metadata": {},
     "output_type": "execute_result"
    }
   ],
   "source": [
    "mplt.plot_cktest(ck_macro10_hmm, diag=True, figsize=(6,5), layout=(4,3), padding_top=0.1, y01=True, padding_between=0.3, dt=10, units='ps')"
   ]
  },
  {
   "cell_type": "code",
   "execution_count": 109,
   "metadata": {
    "collapsed": true
   },
   "outputs": [],
   "source": [
    "plt.savefig('ck-macro10-hmm.png',dpi=600,bbox_inches='tight')"
   ]
  },
  {
   "cell_type": "code",
   "execution_count": 110,
   "metadata": {},
   "outputs": [
    {
     "data": {
      "text/plain": [
       "u'/home/disk2/wdd/glpf/msm1nsinPore_extend/EMMA'"
      ]
     },
     "execution_count": 110,
     "metadata": {},
     "output_type": "execute_result"
    }
   ],
   "source": [
    "pwd"
   ]
  },
  {
   "cell_type": "code",
   "execution_count": 113,
   "metadata": {},
   "outputs": [],
   "source": [
    "hM = msm.bayesian_hidden_markov_model?"
   ]
  },
  {
   "cell_type": "code",
   "execution_count": 7,
   "metadata": {},
   "outputs": [
    {
     "name": "stderr",
     "output_type": "stream",
     "text": [
      "/software/anaconda2/envs/msmb/lib/python2.7/site-packages/msmtools/analysis/dense/decomposition.py:540: ImaginaryEigenValueWarning: Using eigenvalues with non-zero imaginary part\n",
      "  warnings.warn('Using eigenvalues with non-zero imaginary part', ImaginaryEigenValueWarning)\n"
     ]
    },
    {
     "name": "stdout",
     "output_type": "stream",
     "text": [
      "Sampling HMSMs: 100% (100/100) [###################################] eta 00:00 /"
     ]
    }
   ],
   "source": [
    "hM = msm.bayesian_hidden_markov_model(allLabel2,10,10)"
   ]
  },
  {
   "cell_type": "code",
   "execution_count": 9,
   "metadata": {},
   "outputs": [
    {
     "name": "stdout",
     "output_type": "stream",
     "text": [
      "estimating BayesianHMSM: 100% (3/3) [##############################] eta 00:00 /"
     ]
    },
    {
     "name": "stderr",
     "output_type": "stream",
     "text": [
      "/software/anaconda2/envs/msmb/lib/python2.7/site-packages/pyemma/util/statistics.py:60: UserWarning: confidence interval for constant data is not meaningful\n",
      "  warnings.warn('confidence interval for constant data is not meaningful')\n"
     ]
    }
   ],
   "source": [
    "ck_bhm=hM.cktest(mlags=4,n_jobs=6)"
   ]
  },
  {
   "cell_type": "code",
   "execution_count": 10,
   "metadata": {},
   "outputs": [
    {
     "data": {
      "text/plain": [
       "(<matplotlib.figure.Figure at 0x7f47570d4f50>,\n",
       " array([[<matplotlib.axes._subplots.AxesSubplot object at 0x7f45f99c9a90>,\n",
       "         <matplotlib.axes._subplots.AxesSubplot object at 0x7f45f9a0f150>,\n",
       "         <matplotlib.axes._subplots.AxesSubplot object at 0x7f45f9a45190>],\n",
       "        [<matplotlib.axes._subplots.AxesSubplot object at 0x7f45f9a8a1d0>,\n",
       "         <matplotlib.axes._subplots.AxesSubplot object at 0x7f45f9ad1450>,\n",
       "         <matplotlib.axes._subplots.AxesSubplot object at 0x7f45f9b037d0>],\n",
       "        [<matplotlib.axes._subplots.AxesSubplot object at 0x7f45f9a08590>,\n",
       "         <matplotlib.axes._subplots.AxesSubplot object at 0x7f45f9b9f8d0>,\n",
       "         <matplotlib.axes._subplots.AxesSubplot object at 0x7f45f9be5110>],\n",
       "        [<matplotlib.axes._subplots.AxesSubplot object at 0x7f45f9c10810>,\n",
       "         <matplotlib.axes._subplots.AxesSubplot object at 0x7f45f9ca6dd0>,\n",
       "         <matplotlib.axes._subplots.AxesSubplot object at 0x7f45f9ada410>]], dtype=object))"
      ]
     },
     "execution_count": 10,
     "metadata": {},
     "output_type": "execute_result"
    }
   ],
   "source": [
    "mplt.plot_cktest(ck_bhm, diag=True, figsize=(6,5), layout=(4,3), padding_top=0.1, y01=True, padding_between=0.3, dt=10, units='ps')"
   ]
  },
  {
   "cell_type": "code",
   "execution_count": 11,
   "metadata": {
    "collapsed": true
   },
   "outputs": [],
   "source": [
    "plt.savefig('ck-bhm.png',dpi=600,bbox_inches='tight')"
   ]
  },
  {
   "cell_type": "code",
   "execution_count": 21,
   "metadata": {},
   "outputs": [
    {
     "data": {
      "text/plain": [
       "array([ 0.05859112,  0.07727644,  0.05123045,  0.04195905,  0.06569449,\n",
       "        0.08177913,  0.13938719,  0.12497057,  0.19395097,  0.1651606 ])"
      ]
     },
     "execution_count": 21,
     "metadata": {},
     "output_type": "execute_result"
    }
   ],
   "source": [
    "hM.pi"
   ]
  },
  {
   "cell_type": "code",
   "execution_count": 23,
   "metadata": {
    "collapsed": true
   },
   "outputs": [],
   "source": [
    "from msmbuilder.io import save_meta,load_meta"
   ]
  },
  {
   "cell_type": "code",
   "execution_count": 24,
   "metadata": {
    "collapsed": true
   },
   "outputs": [],
   "source": [
    "macro8=load_meta('/home/disk2/wdd/glpf/msm1nsinPore_extend/lag10/macro8/Macromsm10_traj.pickl')"
   ]
  },
  {
   "cell_type": "code",
   "execution_count": 29,
   "metadata": {},
   "outputs": [
    {
     "name": "stdout",
     "output_type": "stream",
     "text": [
      "Sampling MSMs: 100% (100/100) [####################################] eta 00:00 \\"
     ]
    }
   ],
   "source": [
    "msm_lag = 10\n",
    "macro_MSM = msm.bayesian_markov_model(macro8, msm_lag)"
   ]
  },
  {
   "cell_type": "code",
   "execution_count": 30,
   "metadata": {
    "collapsed": true
   },
   "outputs": [],
   "source": [
    "ck_memberships=np.array(np.mat(np.eye(8,8,dtype=int)))"
   ]
  },
  {
   "cell_type": "code",
   "execution_count": 75,
   "metadata": {},
   "outputs": [
    {
     "name": "stdout",
     "output_type": "stream",
     "text": [
      "estimating BayesianMSM: 100% (3/3) [###############################] eta --:-- -"
     ]
    }
   ],
   "source": [
    "ck_macro = macro_MSM.cktest(8,mlags=4,n_jobs=6)"
   ]
  },
  {
   "cell_type": "code",
   "execution_count": 76,
   "metadata": {},
   "outputs": [
    {
     "data": {
      "text/plain": [
       "(<matplotlib.figure.Figure at 0x7f4752d357d0>,\n",
       " array([[<matplotlib.axes._subplots.AxesSubplot object at 0x7f468cb72e10>,\n",
       "         <matplotlib.axes._subplots.AxesSubplot object at 0x7f45f99c7490>],\n",
       "        [<matplotlib.axes._subplots.AxesSubplot object at 0x7f45f9b08590>,\n",
       "         <matplotlib.axes._subplots.AxesSubplot object at 0x7f46e2432e10>],\n",
       "        [<matplotlib.axes._subplots.AxesSubplot object at 0x7f46c628ed10>,\n",
       "         <matplotlib.axes._subplots.AxesSubplot object at 0x7f45f9c2a550>],\n",
       "        [<matplotlib.axes._subplots.AxesSubplot object at 0x7f46c628d890>,\n",
       "         <matplotlib.axes._subplots.AxesSubplot object at 0x7f45fbcf49d0>]], dtype=object))"
      ]
     },
     "execution_count": 76,
     "metadata": {},
     "output_type": "execute_result"
    }
   ],
   "source": [
    "mplt.plot_cktest(ck_macro, diag=True, figsize=(6,5), layout=(4,2), padding_top=0.1, y01=True, padding_between=0.3, dt=10, units='ps')"
   ]
  },
  {
   "cell_type": "code",
   "execution_count": 78,
   "metadata": {},
   "outputs": [],
   "source": [
    "plt.savefig('ck-macro8.png',dpi=600,bbox_inches='tight')"
   ]
  },
  {
   "cell_type": "code",
   "execution_count": 77,
   "metadata": {},
   "outputs": [
    {
     "data": {
      "text/plain": [
       "u'/home/disk2/wdd/glpf/msm1nsinPore_extend/EMMA'"
      ]
     },
     "execution_count": 77,
     "metadata": {},
     "output_type": "execute_result"
    }
   ],
   "source": [
    "pwd"
   ]
  },
  {
   "cell_type": "code",
   "execution_count": 2,
   "metadata": {
    "collapsed": true
   },
   "outputs": [],
   "source": [
    "mplt.plot_implied_timescales?"
   ]
  },
  {
   "cell_type": "code",
   "execution_count": null,
   "metadata": {
    "collapsed": true
   },
   "outputs": [],
   "source": []
  }
 ],
 "metadata": {
  "kernelspec": {
   "display_name": "Python 3",
   "language": "python",
   "name": "python3"
  },
  "language_info": {
   "codemirror_mode": {
    "name": "ipython",
    "version": 3
   },
   "file_extension": ".py",
   "mimetype": "text/x-python",
   "name": "python",
   "nbconvert_exporter": "python",
   "pygments_lexer": "ipython3",
   "version": "3.6.10"
  }
 },
 "nbformat": 4,
 "nbformat_minor": 1
}
