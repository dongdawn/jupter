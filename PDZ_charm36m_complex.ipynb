{
 "cells": [
  {
   "cell_type": "code",
   "execution_count": 1,
   "metadata": {
    "collapsed": false
   },
   "outputs": [
    {
     "name": "stdout",
     "output_type": "stream",
     "text": [
      "/home/disk2/wdd/PDZ/complex/charmm36\n"
     ]
    }
   ],
   "source": [
    "cd /home/disk2/wdd/PDZ/complex/charmm36"
   ]
  },
  {
   "cell_type": "code",
   "execution_count": 3,
   "metadata": {
    "collapsed": false
   },
   "outputs": [
    {
     "name": "stderr",
     "output_type": "stream",
     "text": [
      "/software/anaconda2/envs/msmb/lib/python2.7/site-packages/sklearn/cross_validation.py:44: DeprecationWarning: This module was deprecated in version 0.18 in favor of the model_selection module into which all the refactored classes and functions are moved. Also note that the interface of the new CV iterators are different from that of this module. This module will be removed in 0.20.\n",
      "  \"This module will be removed in 0.20.\", DeprecationWarning)\n",
      "/software/anaconda2/envs/msmb/lib/python2.7/site-packages/sklearn/grid_search.py:43: DeprecationWarning: This module was deprecated in version 0.18 in favor of the model_selection module into which all the refactored classes and functions are moved. This module will be removed in 0.20.\n",
      "  DeprecationWarning)\n"
     ]
    }
   ],
   "source": [
    "from msmbuilder.dataset import dataset\n",
    "from msmbuilder.cluster import KCenters\n",
    "import matplotlib.pyplot as plt\n",
    "import matplotlib.font_manager as font_manager\n",
    "import numpy as np\n",
    "font_path = '/home/disk2/wdd/msm/calibribold.ttf'\n",
    "font_prop = font_manager.FontProperties(fname=font_path, size=20)"
   ]
  },
  {
   "cell_type": "code",
   "execution_count": 3,
   "metadata": {
    "collapsed": true
   },
   "outputs": [],
   "source": [
    "xyz = dataset(\"chainB_fit.xtc\",topology='crystal.pdb',stride=1)"
   ]
  },
  {
   "cell_type": "code",
   "execution_count": 4,
   "metadata": {
    "collapsed": true
   },
   "outputs": [],
   "source": [
    "from msmbuilder.featurizer import DihedralFeaturizer"
   ]
  },
  {
   "cell_type": "code",
   "execution_count": 6,
   "metadata": {
    "collapsed": true
   },
   "outputs": [],
   "source": [
    "featurizer_s = DihedralFeaturizer(types=['phi', 'psi'],sincos=False)"
   ]
  },
  {
   "cell_type": "code",
   "execution_count": 7,
   "metadata": {
    "collapsed": true
   },
   "outputs": [],
   "source": [
    "diheds_s = xyz.fit_transform_with(featurizer_s, 'diheds_s/',fmt='dir-npy')"
   ]
  },
  {
   "cell_type": "code",
   "execution_count": 8,
   "metadata": {
    "collapsed": false
   },
   "outputs": [
    {
     "name": "stderr",
     "output_type": "stream",
     "text": [
      "/software/anaconda2/envs/msmb/lib/python2.7/site-packages/mdtraj-1.8.0-py2.7-linux-x86_64.egg/mdtraj/core/trajectory.py:417: UserWarning: top= kwarg ignored since file contains topology information\n",
      "  warnings.warn('top= kwarg ignored since file contains topology information')\n"
     ]
    }
   ],
   "source": [
    "xyz_c = dataset(\"./crystal.pdb\",topology='crystal.pdb',stride=1)\n",
    "featurizer_c = DihedralFeaturizer(types=['phi', 'psi'],sincos=False)\n",
    "diheds_c = xyz_c.fit_transform_with(featurizer_c, 'diheds_c/',fmt='dir-npy')"
   ]
  },
  {
   "cell_type": "code",
   "execution_count": 9,
   "metadata": {
    "collapsed": true
   },
   "outputs": [],
   "source": [
    "crystral_dihed=diheds_c[0][0]/3.14*180"
   ]
  },
  {
   "cell_type": "code",
   "execution_count": 25,
   "metadata": {
    "collapsed": true
   },
   "outputs": [],
   "source": [
    "def singleSD(nList,refList):\n",
    "    length=len(nList)\n",
    "    sumVar=0.0\n",
    "    for i in range(length):\n",
    "        sub=nList[i]-refList[i]\n",
    "        if np.abs(sub)>180:\n",
    "            sub=360-np.abs(sub)\n",
    "        sumVar+=sub**2\n",
    "    return ((float(sumVar)/float((length)))**0.5)"
   ]
  },
  {
   "cell_type": "code",
   "execution_count": 26,
   "metadata": {
    "collapsed": false
   },
   "outputs": [],
   "source": [
    "wf=open('rmsd_dihed_astime.cs','w')\n",
    "for j in range(len(diheds_s[0])):\n",
    "    rmsd=singleSD(diheds_s[0][j]/3.14*180,crystral_dihed)\n",
    "    wf.write(str(j)+'    '+str(rmsd)+'\\n')\n",
    "wf.close()"
   ]
  },
  {
   "cell_type": "code",
   "execution_count": 18,
   "metadata": {
    "collapsed": false
   },
   "outputs": [
    {
     "data": {
      "text/plain": [
       "array([ -87.95825958, -161.84442139, -141.13569641,  -96.23635101,\n",
       "       -108.44166565, -172.94238281,  171.81871033,  128.89372253,\n",
       "        124.20461273], dtype=float32)"
      ]
     },
     "execution_count": 18,
     "metadata": {},
     "output_type": "execute_result"
    }
   ],
   "source": [
    "diheds_s[0][1066]/3.14*180"
   ]
  },
  {
   "cell_type": "code",
   "execution_count": 19,
   "metadata": {
    "collapsed": false
   },
   "outputs": [
    {
     "data": {
      "text/plain": [
       "array([ -66.08190155, -116.97480774, -118.61222076,  -93.16132355,\n",
       "       -128.53196716,  135.35375977,  139.0592041 ,  124.88666534,\n",
       "        136.34594727], dtype=float32)"
      ]
     },
     "execution_count": 19,
     "metadata": {},
     "output_type": "execute_result"
    }
   ],
   "source": [
    "diheds_s[0][1070]/3.14*180"
   ]
  },
  {
   "cell_type": "code",
   "execution_count": 20,
   "metadata": {
    "collapsed": false
   },
   "outputs": [
    {
     "data": {
      "text/plain": [
       "array([ -60.02958679, -139.56974792, -129.19688416,  -89.59128571,\n",
       "       -128.53622437,  148.59483337,  129.79824829,  135.33282471,\n",
       "        132.82144165], dtype=float32)"
      ]
     },
     "execution_count": 20,
     "metadata": {},
     "output_type": "execute_result"
    }
   ],
   "source": [
    "crystral_dihed"
   ]
  },
  {
   "cell_type": "code",
   "execution_count": 27,
   "metadata": {
    "collapsed": false
   },
   "outputs": [
    {
     "name": "stdout",
     "output_type": "stream",
     "text": [
      "/home/disk2/wdd/PDZ/complex/amber03ws\n"
     ]
    }
   ],
   "source": [
    "cd /home/disk2/wdd/PDZ/complex/amber03ws/"
   ]
  },
  {
   "cell_type": "code",
   "execution_count": 33,
   "metadata": {
    "collapsed": true
   },
   "outputs": [],
   "source": [
    "xyz = dataset(\"chainB_fit.xtc\",topology='cry.pdb',stride=1)"
   ]
  },
  {
   "cell_type": "code",
   "execution_count": 34,
   "metadata": {
    "collapsed": true
   },
   "outputs": [],
   "source": [
    "featurizer_s = DihedralFeaturizer(types=['phi', 'psi'],sincos=False)"
   ]
  },
  {
   "cell_type": "code",
   "execution_count": 36,
   "metadata": {
    "collapsed": false
   },
   "outputs": [],
   "source": [
    "diheds_s = xyz.fit_transform_with(featurizer_s, 'diheds_s/',fmt='dir-npy')"
   ]
  },
  {
   "cell_type": "code",
   "execution_count": 31,
   "metadata": {
    "collapsed": true
   },
   "outputs": [],
   "source": [
    "xyz_c = dataset(\"./crystal.pdb\",topology='crystal.pdb',stride=1)\n",
    "featurizer_c = DihedralFeaturizer(types=['phi', 'psi'],sincos=False)\n",
    "diheds_c = xyz_c.fit_transform_with(featurizer_c, 'diheds_c/',fmt='dir-npy')"
   ]
  },
  {
   "cell_type": "code",
   "execution_count": 37,
   "metadata": {
    "collapsed": false
   },
   "outputs": [],
   "source": [
    "wf=open('rmsd_dihed_astime.cs','w')\n",
    "for j in range(len(diheds_s[0])):\n",
    "    rmsd=singleSD(diheds_s[0][j]/3.14*180,crystral_dihed)\n",
    "    wf.write(str(j)+'    '+str(rmsd)+'\\n')\n",
    "wf.close()"
   ]
  },
  {
   "cell_type": "code",
   "execution_count": 4,
   "metadata": {
    "collapsed": false
   },
   "outputs": [],
   "source": [
    "import MDAnalysis as mda\n",
    "from MDAnalysis.analysis import contacts\n",
    "t_ref=mda.Universe('begin.pdb',top='begin.pdb')\n",
    "group1=t_ref.select_atoms('segid A and (name C* or name N* or name O* or name S*)')\n",
    "trjname=\"c_fit.xtc\"\n",
    "u=mda.Universe(\"begin.pdb\",trjname)\n",
    "filename='Q_heavyatoms.cs'\n",
    "wf=open(filename,'w')\n",
    "sel2='segid B and (name C* or name N* or name O* or name S*)'\n",
    "group2=t_ref.select_atoms(sel2)\n",
    "nc=contacts.Contacts(u,selection=(\"segid A and (name C* or name N* or name O* or name S*)\",sel2),refgroup=(group1,group2),method='soft_cut')\n",
    "nc.run()\n",
    "bound=nc.timeseries[:,1]\n",
    "for b in bound:\n",
    "     wf.write(str(b)+'\\n')\n",
    "wf.close()"
   ]
  },
  {
   "cell_type": "code",
   "execution_count": 11,
   "metadata": {
    "collapsed": false
   },
   "outputs": [
    {
     "data": {
      "image/png": "[encoded data removed]",
      "text/plain": [
       "<matplotlib.figure.Figure at 0x7f4d938f0650>"
      ]
     },
     "metadata": {},
     "output_type": "display_data"
    }
   ],
   "source": [
    "import seaborn as sns\n",
    "sns.set(color_codes=True)\n",
    "import numpy as np\n",
    "import matplotlib.pyplot as plt\n",
    "import matplotlib.font_manager as font_manager\n",
    "font_path = '/home/disk2/wdd/msm/calibribold.ttf'\n",
    "font_prop = font_manager.FontProperties(fname=font_path, size=24)\n",
    "leg_prop = font_manager.FontProperties(fname=font_path, size=17)\n",
    "time_step = 0.01\n",
    "fig, ax = plt.subplots(figsize=(5.7,4.7))\n",
    "data = np.loadtxt('Q_heavyatoms.cs')\n",
    "#print len(data)\n",
    "time = np.arange(len(data))*time_step\n",
    "ax.plot(time,data)\n",
    "#ax.set_ylabel('rmsd ($^\\circ$)',fontproperties=font_prop)\n",
    "ax.set_ylabel('Q',fontproperties=font_prop)\n",
    "ax.set_xlabel('time (ns)',fontproperties=font_prop)\n",
    "plt.ylim(-0.1,1.1)\n",
    "#plt.xlim(0,1000)\n",
    "#ax.set_xticks(np.linspace(0,1200,7))\n",
    "#ax.set_xticklabels([0,200,400,600,800,1000])\n",
    "#leg=plt.legend(loc='center left', labelspacing=0.1, prop=leg_prop, scatterpoints=1, markerscale=1, numpoints=1,handlelength=1.3,bbox_to_anchor=(1,0.5))\n",
    "#leg.get_frame().set_linewidth(0.0)\n",
    "#leg.get_frame().set_alpha(0.1)\n",
    "for label in (ax.get_xticklabels() + ax.get_yticklabels()):\n",
    "    label.set_fontproperties(font_prop)\n",
    "    label.set_fontsize(16)\n",
    "plt.savefig(\"Q.png\",dpi=600,bbox_inches='tight')\n",
    "plt.show()"
   ]
  },
  {
   "cell_type": "code",
   "execution_count": 4,
   "metadata": {
    "collapsed": false
   },
   "outputs": [],
   "source": [
    "data = np.loadtxt('Q_heavyatoms.cs')"
   ]
  },
  {
   "cell_type": "code",
   "execution_count": 10,
   "metadata": {
    "collapsed": false
   },
   "outputs": [
    {
     "name": "stdout",
     "output_type": "stream",
     "text": [
      "0.742162891855\n"
     ]
    }
   ],
   "source": [
    "num=0\n",
    "for i in range(len(data)):\n",
    "    if data[i]>=0.87:\n",
    "        num+=1\n",
    "print num/20001.0"
   ]
  },
  {
   "cell_type": "code",
   "execution_count": 11,
   "metadata": {
    "collapsed": true
   },
   "outputs": [],
   "source": [
    "mfpt=np.loadtxt('crystal_macro_trajs_mfpt.dat')"
   ]
  },
  {
   "cell_type": "code",
   "execution_count": 13,
   "metadata": {
    "collapsed": false
   },
   "outputs": [],
   "source": [
    "newQ=[]\n",
    "for j in range(len(mfpt)):\n",
    "    if mfpt[j]==0.0:\n",
    "        newQ.append(data[j])"
   ]
  },
  {
   "cell_type": "code",
   "execution_count": 17,
   "metadata": {
    "collapsed": false
   },
   "outputs": [
    {
     "data": {
      "text/plain": [
       "0.9050786896516646"
      ]
     },
     "execution_count": 17,
     "metadata": {},
     "output_type": "execute_result"
    }
   ],
   "source": [
    "np.mean(newQ)"
   ]
  },
  {
   "cell_type": "code",
   "execution_count": null,
   "metadata": {
    "collapsed": true
   },
   "outputs": [],
   "source": []
  }
 ],
 "metadata": {
  "kernelspec": {
   "display_name": "Python [msmb]",
   "language": "python",
   "name": "Python [msmb]"
  },
  "language_info": {
   "codemirror_mode": {
    "name": "ipython",
    "version": 2
   },
   "file_extension": ".py",
   "mimetype": "text/x-python",
   "name": "python",
   "nbconvert_exporter": "python",
   "pygments_lexer": "ipython2",
   "version": "2.7.13"
  }
 },
 "nbformat": 4,
 "nbformat_minor": 0
}
