{
 "cells": [
  {
   "cell_type": "code",
   "execution_count": 45,
   "metadata": {},
   "outputs": [],
   "source": [
    "from rdkit.Chem import AllChem\n",
    "from rdkit import Chem\n",
    "template = AllChem.MolFromSmiles(\"N12N=CN=C2N=C(C=C1c1ccccc1)C\")\n",
    "mol = AllChem.MolFromPDBFile('/home/dongdong/SCR/test/lig1.pdb')\n",
    "newMol = AllChem.AssignBondOrdersFromTemplate(template, mol)\n",
    "print(Chem.MolToMolBlock(newMol),file=open('/home/dongdong/SCR/test/lig.mol','w'))"
   ]
  },
  {
   "cell_type": "code",
   "execution_count": 3,
   "metadata": {},
   "outputs": [],
   "source": []
  },
  {
   "cell_type": "code",
   "execution_count": 27,
   "metadata": {},
   "outputs": [],
   "source": []
  },
  {
   "cell_type": "code",
   "execution_count": 28,
   "metadata": {},
   "outputs": [
    {
     "data": {
      "text/plain": [
       "2"
      ]
     },
     "execution_count": 28,
     "metadata": {},
     "output_type": "execute_result"
    }
   ],
   "source": [
    "len([1 for b in template.GetBonds() if b.GetBondTypeAsDouble() == 1.0])"
   ]
  },
  {
   "cell_type": "code",
   "execution_count": 29,
   "metadata": {},
   "outputs": [
    {
     "data": {
      "text/plain": [
       "9"
      ]
     },
     "execution_count": 29,
     "metadata": {},
     "output_type": "execute_result"
    }
   ],
   "source": [
    "len([1 for b in mol.GetBonds() if b.GetBondTypeAsDouble() == 1.0])"
   ]
  },
  {
   "cell_type": "code",
   "execution_count": 41,
   "metadata": {},
   "outputs": [],
   "source": []
  },
  {
   "cell_type": "code",
   "execution_count": 32,
   "metadata": {},
   "outputs": [
    {
     "data": {
      "text/plain": [
       "2"
      ]
     },
     "execution_count": 32,
     "metadata": {},
     "output_type": "execute_result"
    }
   ],
   "source": [
    "len([1 for b in newMol.GetBonds() if b.GetBondTypeAsDouble() == 1.0])"
   ]
  },
  {
   "cell_type": "code",
   "execution_count": 33,
   "metadata": {},
   "outputs": [],
   "source": [
    "from rdkit import Chem"
   ]
  },
  {
   "cell_type": "code",
   "execution_count": 34,
   "metadata": {},
   "outputs": [],
   "source": [
    "new2=Chem.AddHs(newMol)"
   ]
  },
  {
   "cell_type": "code",
   "execution_count": 35,
   "metadata": {},
   "outputs": [
    {
     "data": {
      "text/plain": [
       "<rdkit.Chem.rdchem.Mol at 0x2acc2b121c10>"
      ]
     },
     "execution_count": 35,
     "metadata": {},
     "output_type": "execute_result"
    }
   ],
   "source": [
    "new2"
   ]
  },
  {
   "cell_type": "code",
   "execution_count": 42,
   "metadata": {},
   "outputs": [
    {
     "name": "stdout",
     "output_type": "stream",
     "text": [
      "UNNAMED\n",
      "     RDKit          3D\n",
      "\n",
      " 16 18  0  0  0  0  0  0  0  0999 V2000\n",
      "    1.9660    0.4500   13.5770 C   0  0  0  0  0  0  0  0  0  0  0  0\n",
      "    1.9360   -0.6700   12.7890 C   0  0  0  0  0  0  0  0  0  0  0  0\n",
      "    2.5930   -0.6890   11.5780 C   0  0  0  0  0  0  0  0  0  0  0  0\n",
      "    3.2650    0.3900   11.1640 N   0  0  0  0  0  0  0  0  0  0  0  0\n",
      "    3.9640    0.6420   10.0610 N   0  0  0  0  0  0  0  0  0  0  0  0\n",
      "    4.4340    1.9140   10.1520 C   0  0  0  0  0  0  0  0  0  0  0  0\n",
      "    4.0130    2.4240   11.3140 N   0  0  0  0  0  0  0  0  0  0  0  0\n",
      "    3.2800    1.4870   11.9600 C   0  0  0  0  0  0  0  0  0  0  0  0\n",
      "    2.6350    1.5100   13.1540 N   0  0  0  0  0  0  0  0  0  0  0  0\n",
      "    2.5520   -1.8980   10.7270 C   0  0  0  0  0  0  0  0  0  0  0  0\n",
      "    1.6580   -2.0680    9.7020 C   0  0  0  0  0  0  0  0  0  0  0  0\n",
      "    1.6240   -3.2180    8.9210 C   0  0  0  0  0  0  0  0  0  0  0  0\n",
      "    2.5330   -4.2130    9.2020 C   0  0  0  0  0  0  0  0  0  0  0  0\n",
      "    3.4650   -4.0860   10.2360 C   0  0  0  0  0  0  0  0  0  0  0  0\n",
      "    3.4520   -2.9260   10.9780 C   0  0  0  0  0  0  0  0  0  0  0  0\n",
      "    1.2340    0.4260   14.8920 C   0  0  0  0  0  0  0  0  0  0  0  0\n",
      "  1  2  1  0\n",
      "  1  9  2  0\n",
      "  1 16  1  0\n",
      "  2  3  2  0\n",
      "  3 10  1  0\n",
      "  3  4  1  0\n",
      "  4  5  1  0\n",
      "  4  8  1  0\n",
      "  5  6  2  0\n",
      "  6  7  1  0\n",
      "  7  8  2  0\n",
      "  8  9  1  0\n",
      " 10 11  2  0\n",
      " 10 15  1  0\n",
      " 11 12  1  0\n",
      " 12 13  2  0\n",
      " 13 14  1  0\n",
      " 14 15  2  0\n",
      "M  END\n",
      "\n"
     ]
    }
   ],
   "source": [
    "print(Chem.MolToMolBlock(newMol))"
   ]
  },
  {
   "cell_type": "code",
   "execution_count": 4,
   "metadata": {},
   "outputs": [],
   "source": [
    "import numpy as np\n",
    "x=np.array([1,2,2,2,1,1,2])"
   ]
  },
  {
   "cell_type": "code",
   "execution_count": 51,
   "metadata": {},
   "outputs": [
    {
     "data": {
      "text/plain": [
       "6"
      ]
     },
     "execution_count": 51,
     "metadata": {},
     "output_type": "execute_result"
    }
   ],
   "source": [
    "(~x[:-1] & x[1:]).sum()"
   ]
  },
  {
   "cell_type": "code",
   "execution_count": 5,
   "metadata": {},
   "outputs": [
    {
     "data": {
      "text/plain": [
       "array([2, 2, 2, 1, 1, 2])"
      ]
     },
     "execution_count": 5,
     "metadata": {},
     "output_type": "execute_result"
    }
   ],
   "source": [
    "x[1:]"
   ]
  },
  {
   "cell_type": "code",
   "execution_count": 6,
   "metadata": {},
   "outputs": [
    {
     "data": {
      "text/plain": [
       "array([-2, -3, -3, -3, -2, -2])"
      ]
     },
     "execution_count": 6,
     "metadata": {},
     "output_type": "execute_result"
    }
   ],
   "source": [
    "~x[:-1]"
   ]
  },
  {
   "cell_type": "code",
   "execution_count": 65,
   "metadata": {},
   "outputs": [
    {
     "data": {
      "text/plain": [
       "3"
      ]
     },
     "execution_count": 65,
     "metadata": {},
     "output_type": "execute_result"
    }
   ],
   "source": [
    "np.count_nonzero(~x[:-1] & x[1:])"
   ]
  },
  {
   "cell_type": "code",
   "execution_count": 7,
   "metadata": {},
   "outputs": [
    {
     "data": {
      "text/plain": [
       "array([2, 0, 0, 1, 0, 2])"
      ]
     },
     "execution_count": 7,
     "metadata": {},
     "output_type": "execute_result"
    }
   ],
   "source": [
    "~x[:-1] & x[1:]"
   ]
  },
  {
   "cell_type": "code",
   "execution_count": 10,
   "metadata": {},
   "outputs": [
    {
     "data": {
      "text/plain": [
       "array([0, 3, 5])"
      ]
     },
     "execution_count": 10,
     "metadata": {},
     "output_type": "execute_result"
    }
   ],
   "source": [
    "np.argwhere(np.diff(x)).squeeze()"
   ]
  },
  {
   "cell_type": "code",
   "execution_count": 9,
   "metadata": {},
   "outputs": [
    {
     "data": {
      "text/plain": [
       "0"
      ]
     },
     "execution_count": 9,
     "metadata": {},
     "output_type": "execute_result"
    }
   ],
   "source": [
    "2 & -3"
   ]
  },
  {
   "cell_type": "code",
   "execution_count": null,
   "metadata": {},
   "outputs": [],
   "source": []
  }
 ],
 "metadata": {
  "kernelspec": {
   "display_name": "Python 3",
   "language": "python",
   "name": "python3"
  },
  "language_info": {
   "codemirror_mode": {
    "name": "ipython",
    "version": 3
   },
   "file_extension": ".py",
   "mimetype": "text/x-python",
   "name": "python",
   "nbconvert_exporter": "python",
   "pygments_lexer": "ipython3",
   "version": "3.6.10"
  }
 },
 "nbformat": 4,
 "nbformat_minor": 4
}
