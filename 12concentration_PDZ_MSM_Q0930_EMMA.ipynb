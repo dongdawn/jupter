{
 "cells": [
  {
   "cell_type": "code",
   "execution_count": 1,
   "metadata": {
    "collapsed": true
   },
   "outputs": [],
   "source": [
    "import pyemma.msm as msm\n",
    "import numpy as np\n",
    "import matplotlib\n",
    "matplotlib.use('pdf')\n",
    "import pyemma.plots as mplt\n",
    "import matplotlib.pyplot as plt\n",
    "import tables"
   ]
  },
  {
   "cell_type": "code",
   "execution_count": 2,
   "metadata": {
    "collapsed": true
   },
   "outputs": [],
   "source": [
    "from msmbuilder.io import save_meta,load_meta"
   ]
  },
  {
   "cell_type": "code",
   "execution_count": 3,
   "metadata": {},
   "outputs": [
    {
     "name": "stdout",
     "output_type": "stream",
     "text": [
      "/home/disk2/wdd/PDZ/12concentration_MSM_Q0930/kcenters_micro400lag400_2\n"
     ]
    }
   ],
   "source": [
    "cd /home/disk2/wdd/PDZ/12concentration_MSM_Q0930/kcenters_micro400lag400_2"
   ]
  },
  {
   "cell_type": "code",
   "execution_count": 4,
   "metadata": {
    "collapsed": true
   },
   "outputs": [],
   "source": [
    "clustered_trajs=load_meta('clustered_trajs.pickl')"
   ]
  },
  {
   "cell_type": "code",
   "execution_count": 5,
   "metadata": {},
   "outputs": [
    {
     "data": {
      "text/plain": [
       "756"
      ]
     },
     "execution_count": 5,
     "metadata": {},
     "output_type": "execute_result"
    }
   ],
   "source": [
    "len(clustered_trajs)"
   ]
  },
  {
   "cell_type": "code",
   "execution_count": 6,
   "metadata": {},
   "outputs": [
    {
     "name": "stdout",
     "output_type": "stream",
     "text": [
      "Sampling MSMs: 100% (100/100) [####################################] eta 00:01 /"
     ]
    }
   ],
   "source": [
    "msm_lag = 400\n",
    "m400 = msm.bayesian_markov_model(clustered_trajs, msm_lag,dt_traj='100 ps')"
   ]
  },
  {
   "cell_type": "code",
   "execution_count": 7,
   "metadata": {},
   "outputs": [
    {
     "data": {
      "text/plain": [
       "array([  1.02650918e-01,   1.95902480e-03,   8.40088246e-06,\n",
       "         9.80132013e-06,   4.15501349e-06,   1.41235976e-06,\n",
       "         1.23429792e-06,   2.63681988e-02,   2.26087901e-04,\n",
       "         1.01316378e-03,   1.43792697e-04,   1.52917016e-04,\n",
       "         4.33595862e-03,   1.38919144e-05,   4.12709244e-04,\n",
       "         1.26088092e-06,   3.04897677e-04,   9.01625575e-06,\n",
       "         1.15185203e-03,   9.59073352e-05,   2.69022052e-04,\n",
       "         5.70725479e-06,   3.42344972e-04,   6.82124092e-06,\n",
       "         1.00168708e-04,   1.38038070e-03,   1.19426128e-05,\n",
       "         1.64229857e-06,   7.33030008e-06,   1.92170101e-04,\n",
       "         1.15918880e-04,   1.69877088e-06,   8.59774765e-04,\n",
       "         5.01244972e-05,   5.66189895e-06,   1.43231061e-03,\n",
       "         7.59067648e-06,   1.63101296e-04,   2.08786098e-04,\n",
       "         3.42746567e-04,   3.67147036e-05,   2.73630815e-04,\n",
       "         1.22662931e-04,   3.42489378e-04,   1.20386493e-04,\n",
       "         2.86891311e-05,   1.69165379e-03,   1.19297356e-04,\n",
       "         3.45669449e-04,   8.45822753e-05,   2.32713430e-04,\n",
       "         2.69713525e-04,   1.96513309e-03,   3.61782840e-05,\n",
       "         1.16800364e-02,   7.60340178e-05,   2.63263679e-04,\n",
       "         4.65815629e-04,   6.30981087e-05,   4.39355224e-05,\n",
       "         1.40573741e-04,   2.47317535e-04,   1.20365361e-04,\n",
       "         4.74045715e-05,   2.83154009e-04,   1.44851704e-04,\n",
       "         1.65898698e-04,   1.79366340e-04,   2.50899443e-04,\n",
       "         6.79082243e-05,   1.35276091e-04,   7.57224999e-04,\n",
       "         3.16535725e-05,   1.81513318e-04,   2.63431808e-03,\n",
       "         1.95753548e-03,   2.97099401e-04,   2.14538317e-04,\n",
       "         5.38237130e-05,   2.77031815e-04,   1.35933494e-04,\n",
       "         9.17773005e-02,   6.36739177e-04,   2.51478851e-04,\n",
       "         7.83861401e-04,   5.25295910e-04,   1.64937013e-02,\n",
       "         1.38281073e-05,   1.35377722e-05,   1.05118029e-06,\n",
       "         4.89000342e-04,   1.53738199e-04,   7.59597346e-07,\n",
       "         2.61520693e-06,   2.81058366e-06,   2.72363663e-05,\n",
       "         8.01329892e-06,   5.06171154e-04,   1.51073017e-04,\n",
       "         9.13310052e-04,   3.32801751e-05,   1.79526495e-05,\n",
       "         3.26985665e-03,   7.22778381e-05,   3.62814646e-04,\n",
       "         2.59093004e-05,   4.75336209e-04,   1.52646239e-02,\n",
       "         4.76816943e-04,   5.08428030e-04,   1.38624533e-04,\n",
       "         1.83508883e-03,   2.49484474e-06,   2.27557982e-04,\n",
       "         1.07281829e-01,   1.12267125e-04,   9.94504193e-05,\n",
       "         1.96718446e-04,   2.44130129e-04,   2.85089865e-04,\n",
       "         1.47174787e-04,   3.79833467e-04,   2.15405981e-06,\n",
       "         4.06710284e-06,   3.40217343e-04,   7.07703609e-05,\n",
       "         4.97353112e-04,   6.69259266e-04,   3.21673052e-04,\n",
       "         1.34310241e-06,   1.18590998e-03,   9.10041636e-05,\n",
       "         4.80051592e-05,   7.05434072e-05,   1.57634871e-07,\n",
       "         9.56254348e-04,   8.31193297e-05,   9.25470713e-05,\n",
       "         1.27352777e-04,   1.16407873e-04,   2.56553313e-04,\n",
       "         7.11935519e-06,   1.80187879e-04,   8.98121289e-05,\n",
       "         7.40344972e-03,   2.74107961e-03,   4.71297921e-04,\n",
       "         1.57401626e-04,   1.49951069e-04,   3.18148733e-04,\n",
       "         7.29628144e-05,   2.03957391e-02,   2.50594154e-04,\n",
       "         2.48497603e-04,   1.13240055e-04,   3.00864537e-04,\n",
       "         2.32404927e-04,   6.99796959e-05,   9.80345262e-05,\n",
       "         1.67838173e-04,   6.39048789e-05,   1.74740934e-03,\n",
       "         5.89416917e-05,   9.88163649e-05,   3.44206955e-04,\n",
       "         1.66735511e-04,   2.92676505e-04,   8.17813169e-05,\n",
       "         1.21240519e-05,   1.83446690e-04,   4.66761237e-06,\n",
       "         1.22697315e-06,   3.80752281e-04,   8.04621466e-05,\n",
       "         5.51295628e-04,   5.40187177e-04,   2.92845628e-04,\n",
       "         9.31146744e-05,   5.86635059e-05,   3.97463352e-04,\n",
       "         3.10566510e-03,   7.06568147e-06,   9.97688640e-06,\n",
       "         4.40824250e-05,   1.89153100e-04,   8.76430600e-03,\n",
       "         1.43842765e-01,   1.22708872e-04,   1.85605900e-03,\n",
       "         7.46644241e-05,   9.41945769e-05,   1.48113690e-04,\n",
       "         1.01644572e-05,   2.10075493e-04,   2.62463594e-04,\n",
       "         8.14990834e-04,   4.28069545e-04,   1.05656256e-02,\n",
       "         6.53328626e-04,   2.57405293e-04,   6.44977474e-04,\n",
       "         2.01134662e-04,   7.84765856e-04,   3.47507642e-05,\n",
       "         9.87534974e-05,   2.41362972e-03,   2.08100945e-05,\n",
       "         4.19624910e-05,   1.13798869e-04,   4.63965037e-04,\n",
       "         1.20308233e-03,   1.96842534e-04,   4.93235691e-05,\n",
       "         6.77189596e-02,   1.24884951e-04,   5.35022962e-05,\n",
       "         1.34248198e-04,   1.49507501e-04,   1.67548147e-04,\n",
       "         7.62400063e-04,   3.08047908e-04,   1.72090411e-06,\n",
       "         7.46804244e-03,   5.92431238e-05,   4.80554242e-05,\n",
       "         1.05348683e-05,   8.75112914e-05,   9.56352125e-05,\n",
       "         7.20573780e-06,   6.19207335e-04,   2.32522328e-03,\n",
       "         5.87280098e-04,   2.36406568e-04,   2.14001234e-04,\n",
       "         5.94996580e-04,   2.32008026e-04,   1.26432565e-03,\n",
       "         5.03251874e-04,   1.36769404e-05,   8.89756377e-04,\n",
       "         5.60804092e-04,   4.37058073e-06,   9.88591848e-04,\n",
       "         8.41182175e-04,   6.58701876e-05,   5.71313903e-05,\n",
       "         3.92080663e-03,   1.28002290e-04,   3.85818212e-05,\n",
       "         4.05049767e-05,   1.42663402e-04,   4.81339166e-06,\n",
       "         1.73638314e-03,   3.52059754e-03,   1.82894449e-04,\n",
       "         5.08363552e-05,   5.29654511e-04,   7.83502851e-05,\n",
       "         4.07297727e-05,   1.40841710e-03,   4.10750275e-04,\n",
       "         3.88991054e-04,   1.00556843e-04,   1.79664276e-04,\n",
       "         8.21364259e-04,   4.44542533e-04,   2.52148575e-06,\n",
       "         5.14533383e-02,   1.24244753e-05,   1.29238726e-05,\n",
       "         8.02806450e-04,   4.06220950e-04,   1.32886539e-02,\n",
       "         4.33720387e-03,   2.95129127e-04,   5.70130050e-04,\n",
       "         1.98495978e-05,   2.99011139e-05,   2.21286825e-04,\n",
       "         9.58244551e-06,   2.70043292e-03,   9.13423328e-05,\n",
       "         2.28347254e-06,   4.58042253e-06,   3.66774153e-04,\n",
       "         1.20698023e-03,   1.22093966e-04,   4.21358359e-04,\n",
       "         1.54524682e-04,   3.87873612e-03,   1.44994104e-04,\n",
       "         2.21983308e-04,   1.74332990e-04,   4.09118134e-05,\n",
       "         8.42068080e-06,   6.55613207e-05,   6.27864759e-05,\n",
       "         8.86502452e-04,   3.66993679e-05,   3.87266460e-04,\n",
       "         5.15791513e-05,   3.27638424e-04,   3.25623301e-04,\n",
       "         2.38512363e-04,   9.56208313e-05,   5.16587867e-04,\n",
       "         6.53256737e-05,   1.14155351e-04,   3.13561782e-04,\n",
       "         7.22869063e-04,   5.25007681e-05,   1.20888689e-04,\n",
       "         1.34963140e-04,   4.06223886e-04,   3.23689750e-05,\n",
       "         1.11563293e-03,   1.95104173e-04,   3.53415379e-04,\n",
       "         7.08409274e-05,   4.25079132e-04,   5.64815371e-02,\n",
       "         7.90088281e-05,   8.63118726e-04,   1.10284041e-04,\n",
       "         4.25462995e-04,   1.39177108e-04,   6.69839748e-05,\n",
       "         6.62553983e-04,   2.72866682e-05,   3.71534876e-05,\n",
       "         5.03883891e-06,   1.52721004e-02,   2.34190682e-04,\n",
       "         8.09574971e-06,   2.13662400e-04,   8.14991557e-04,\n",
       "         8.73020213e-05,   2.29985058e-04,   5.19310258e-04,\n",
       "         2.43461021e-04,   1.40323431e-04,   2.31235851e-04,\n",
       "         5.87296698e-06,   1.06966997e-03,   3.67480168e-06,\n",
       "         1.37606584e-03,   1.06841474e-04,   1.83394211e-03,\n",
       "         1.74693990e-04,   1.43151642e-04,   6.48248985e-05,\n",
       "         2.67257460e-06,   2.29848203e-05,   1.00314282e-04,\n",
       "         1.09733073e-05,   5.95446852e-03,   1.05226142e-04,\n",
       "         3.74800884e-04,   2.40564994e-04,   1.39188463e-05,\n",
       "         1.00770169e-04,   4.61724413e-02,   7.07315790e-03,\n",
       "         8.74725418e-05,   4.71849590e-05,   1.30772179e-04,\n",
       "         2.08138494e-07,   2.92435368e-04,   6.66613768e-05,\n",
       "         1.13288775e-04,   1.70371956e-03,   1.38553762e-04,\n",
       "         2.82752732e-05,   9.89757241e-04,   5.31609546e-05,\n",
       "         1.09524758e-04,   2.37377179e-04,   2.70774361e-04,\n",
       "         4.19915544e-04,   1.44162387e-04,   2.89904072e-04,\n",
       "         1.01210497e-03,   1.39214747e-04,   9.96780849e-05,\n",
       "         1.52810192e-03,   1.29698697e-04,   1.96325486e-02,\n",
       "         2.99869778e-04,   3.34043170e-04,   5.06259770e-04,\n",
       "         3.20622321e-04,   7.56997035e-05,   4.99913702e-05,\n",
       "         3.32902008e-06,   2.14325811e-03,   1.17390311e-04,\n",
       "         6.93751212e-05,   5.49334096e-05,   1.42232352e-04,\n",
       "         1.44936196e-04])"
      ]
     },
     "execution_count": 7,
     "metadata": {},
     "output_type": "execute_result"
    }
   ],
   "source": [
    "m400.pi"
   ]
  },
  {
   "cell_type": "code",
   "execution_count": 11,
   "metadata": {
    "collapsed": true
   },
   "outputs": [],
   "source": [
    "msm_lag = 400\n",
    "m400_mlh=msm.estimate_markov_model(clustered_trajs, msm_lag)"
   ]
  },
  {
   "cell_type": "code",
   "execution_count": 8,
   "metadata": {},
   "outputs": [],
   "source": [
    "cluster_centers=np.loadtxt('cluster_center_kcenters400.cs')"
   ]
  },
  {
   "cell_type": "code",
   "execution_count": 55,
   "metadata": {
    "collapsed": true
   },
   "outputs": [],
   "source": [
    "def MapMacro(x,y):\n",
    "    if x<=0.13 and y>=0.86:\n",
    "        return 0\n",
    "    elif x<=0.13 and y>=0.01 and y<0.86:\n",
    "        return 1\n",
    "    elif x<=0.13 and y<0.01:\n",
    "        return 2\n",
    "    elif x>0.13 and y>=0.01:\n",
    "        return 3\n",
    "    elif x>0.13 and y<0.01:\n",
    "        return 4"
   ]
  },
  {
   "cell_type": "code",
   "execution_count": 56,
   "metadata": {},
   "outputs": [],
   "source": [
    "wf=open('mapmacro2.cs','w')\n",
    "i=0\n",
    "for cc in cluster_centers:\n",
    "    wf.write(str(i)+'    '+str(MapMacro(cc[0],cc[1]))+'\\n')\n",
    "    i+=1\n",
    "wf.close()"
   ]
  },
  {
   "cell_type": "code",
   "execution_count": 57,
   "metadata": {
    "collapsed": true
   },
   "outputs": [],
   "source": [
    "mapmacro=np.loadtxt('mapmacro2.cs')"
   ]
  },
  {
   "cell_type": "code",
   "execution_count": 93,
   "metadata": {},
   "outputs": [],
   "source": [
    "mapmacro=np.loadtxt('mapmacro2.cs')\n",
    "L0=[]\n",
    "L1=[]\n",
    "L2=[]\n",
    "L3=[]\n",
    "L4=[]\n",
    "for mm in mapmacro:\n",
    "    if mm[1]==0:\n",
    "        L0.append(int(mm[0]))\n",
    "    elif mm[1]==1:\n",
    "        L1.append(int(mm[0]))\n",
    "    elif mm[1]==2:\n",
    "        L2.append(int(mm[0]))\n",
    "    elif mm[1]==3:\n",
    "        L3.append(int(mm[0]))\n",
    "    elif mm[1]==4:\n",
    "        L4.append(int(mm[0]))"
   ]
  },
  {
   "cell_type": "code",
   "execution_count": 94,
   "metadata": {},
   "outputs": [],
   "source": [
    "L0=np.array(L0)\n",
    "L1=np.array(L1)\n",
    "L2=np.array(L2)\n",
    "L3=np.array(L3)\n",
    "L4=np.array(L4)"
   ]
  },
  {
   "cell_type": "code",
   "execution_count": 72,
   "metadata": {},
   "outputs": [],
   "source": [
    "L24=np.array([0,  34, 107, 361, 373,  7,  36,  81, 114, 185, 186, 213, 265, 267, 320])"
   ]
  },
  {
   "cell_type": "code",
   "execution_count": 48,
   "metadata": {
    "collapsed": true
   },
   "outputs": [],
   "source": [
    "L24=np.array([0,  34,  7,  36,  81, 114, 185, 213])"
   ]
  },
  {
   "cell_type": "code",
   "execution_count": 100,
   "metadata": {},
   "outputs": [
    {
     "data": {
      "text/plain": [
       "array([  2,   4,   6,   8,   9,  10,  11,  13,  14,  15,  16,  18,  19,\n",
       "        20,  22,  23,  24,  25,  26,  29,  30,  31,  32,  35,  38,  40,\n",
       "        41,  42,  43,  44,  45,  48,  49,  53,  55,  57,  58,  60,  61,\n",
       "        63,  67,  68,  70,  71,  72,  73,  74,  75,  76,  78,  80,  82,\n",
       "        83,  84,  87,  88,  90,  92,  93,  95,  96,  97, 100, 101, 103,\n",
       "       104, 105, 106, 108, 109, 110, 112, 115, 116, 117, 118, 119, 124,\n",
       "       125, 126, 127, 129, 132, 133, 135, 136, 137, 138, 139, 141, 142,\n",
       "       143, 146, 147, 148, 149, 150, 153, 154, 155, 156, 158, 159, 161,\n",
       "       162, 163, 164, 167, 171, 174, 175, 177, 178, 179, 180, 182, 183,\n",
       "       184, 187, 188, 189, 190, 192, 194, 196, 198, 199, 200, 201, 203,\n",
       "       204, 205, 206, 207, 208, 211, 212, 216, 217, 218, 219, 220, 221,\n",
       "       224, 226, 227, 228, 231, 232, 235, 236, 238, 239, 241, 242, 243,\n",
       "       244, 245, 249, 250, 252, 253, 254, 255, 256, 257, 260, 261, 263,\n",
       "       264, 270, 274, 276, 277, 278, 279, 280, 283, 285, 286, 287, 288,\n",
       "       290, 292, 294, 295, 296, 297, 299, 300, 301, 302, 304, 306, 308,\n",
       "       309, 311, 313, 315, 316, 317, 318, 319, 321, 323, 324, 326, 328,\n",
       "       329, 330, 332, 333, 334, 336, 338, 339, 340, 341, 342, 343, 346,\n",
       "       348, 350, 351, 352, 353, 354, 356, 357, 358, 359, 360, 364, 365,\n",
       "       366, 367, 369, 372, 374, 376, 377, 378, 383, 384, 386, 387, 388,\n",
       "       389, 390, 391, 392, 393, 395, 397])"
      ]
     },
     "execution_count": 100,
     "metadata": {},
     "output_type": "execute_result"
    }
   ],
   "source": [
    "L3"
   ]
  },
  {
   "cell_type": "code",
   "execution_count": 36,
   "metadata": {},
   "outputs": [],
   "source": [
    "from pyemma.msm import tpt\n",
    "tpt1=tpt(m400,L24,L0)"
   ]
  },
  {
   "cell_type": "code",
   "execution_count": 37,
   "metadata": {},
   "outputs": [
    {
     "data": {
      "text/plain": [
       "20216480.455433547"
      ]
     },
     "execution_count": 37,
     "metadata": {},
     "output_type": "execute_result"
    }
   ],
   "source": [
    "tpt1.mfpt"
   ]
  },
  {
   "cell_type": "code",
   "execution_count": 54,
   "metadata": {},
   "outputs": [
    {
     "data": {
      "text/plain": [
       "4.7439560059795447e-06"
      ]
     },
     "execution_count": 54,
     "metadata": {},
     "output_type": "execute_result"
    }
   ],
   "source": [
    "tpt1.rate*100"
   ]
  },
  {
   "cell_type": "code",
   "execution_count": 97,
   "metadata": {},
   "outputs": [],
   "source": [
    "m400_mlh2=msm.estimate_markov_model(clustered_trajs, msm_lag)"
   ]
  },
  {
   "cell_type": "code",
   "execution_count": 73,
   "metadata": {},
   "outputs": [],
   "source": [
    "from pyemma.msm import tpt\n",
    "tpt24_0=tpt(m400_mlh2,L24,L0)"
   ]
  },
  {
   "cell_type": "code",
   "execution_count": 74,
   "metadata": {},
   "outputs": [
    {
     "data": {
      "text/plain": [
       "210794.53492813694"
      ]
     },
     "execution_count": 74,
     "metadata": {},
     "output_type": "execute_result"
    }
   ],
   "source": [
    "tpt24_0.mfpt"
   ]
  },
  {
   "cell_type": "code",
   "execution_count": 61,
   "metadata": {
    "collapsed": true
   },
   "outputs": [],
   "source": [
    "tpt0_24=tpt(m400_mlh2,L0,L24)"
   ]
  },
  {
   "cell_type": "code",
   "execution_count": 63,
   "metadata": {},
   "outputs": [
    {
     "data": {
      "text/plain": [
       "57439.136879732752"
      ]
     },
     "execution_count": 63,
     "metadata": {},
     "output_type": "execute_result"
    }
   ],
   "source": [
    "tpt0_24.mfpt"
   ]
  },
  {
   "cell_type": "code",
   "execution_count": 101,
   "metadata": {
    "collapsed": true
   },
   "outputs": [],
   "source": [
    "tpt24_1=tpt(m400_mlh2,L24,L1)\n",
    "tpt24_3=tpt(m400_mlh2,L24,L3)\n",
    "tpt10=tpt(m400_mlh2,L1,L0)\n",
    "tpt01=tpt(m400_mlh2,L0,L1)\n",
    "tpt30=tpt(m400_mlh2,L3,L0)\n",
    "tpt03=tpt(m400_mlh2,L0,L3)"
   ]
  },
  {
   "cell_type": "code",
   "execution_count": 102,
   "metadata": {},
   "outputs": [
    {
     "name": "stdout",
     "output_type": "stream",
     "text": [
      "32502.6877539\n",
      "8272.4402002\n",
      "17192.4332655\n",
      "4732.8948529\n",
      "18738.5855799\n",
      "3892.37426342\n"
     ]
    }
   ],
   "source": [
    "print tpt24_1.mfpt\n",
    "print tpt24_3.mfpt\n",
    "print tpt10.mfpt\n",
    "print tpt01.mfpt\n",
    "print tpt30.mfpt\n",
    "print tpt03.mfpt"
   ]
  },
  {
   "cell_type": "code",
   "execution_count": 62,
   "metadata": {
    "collapsed": true
   },
   "outputs": [],
   "source": [
    "tpt24=tpt(m400_mlh2,L2,L4)\n",
    "tpt42=tpt(m400_mlh2,L4,L2)"
   ]
  },
  {
   "cell_type": "code",
   "execution_count": 63,
   "metadata": {},
   "outputs": [
    {
     "name": "stdout",
     "output_type": "stream",
     "text": [
      "812.644934914\n",
      "2745.49895292\n"
     ]
    }
   ],
   "source": [
    "print tpt24.mfpt\n",
    "print tpt42.mfpt"
   ]
  },
  {
   "cell_type": "code",
   "execution_count": 71,
   "metadata": {
    "collapsed": true
   },
   "outputs": [],
   "source": [
    "population2=0\n",
    "for i in L2:\n",
    "    population2+=m400_mlh2.pi[i]"
   ]
  },
  {
   "cell_type": "code",
   "execution_count": 72,
   "metadata": {},
   "outputs": [],
   "source": [
    "population4=0\n",
    "for i in L4:\n",
    "    population4+=m400_mlh2.pi[i]"
   ]
  },
  {
   "cell_type": "code",
   "execution_count": 73,
   "metadata": {},
   "outputs": [
    {
     "name": "stdout",
     "output_type": "stream",
     "text": [
      "0.161668611859\n",
      "0.542462382593\n"
     ]
    }
   ],
   "source": [
    "print population2\n",
    "print population4"
   ]
  },
  {
   "cell_type": "code",
   "execution_count": 61,
   "metadata": {},
   "outputs": [
    {
     "ename": "NameError",
     "evalue": "name 'm400_mlh' is not defined",
     "output_type": "error",
     "traceback": [
      "\u001b[0;31m\u001b[0m",
      "\u001b[0;31mNameError\u001b[0mTraceback (most recent call last)",
      "\u001b[0;32m<ipython-input-61-ac82a786a772>\u001b[0m in \u001b[0;36m<module>\u001b[0;34m()\u001b[0m\n\u001b[1;32m      1\u001b[0m \u001b[0;32mfrom\u001b[0m \u001b[0mpyemma\u001b[0m\u001b[0;34m.\u001b[0m\u001b[0mmsm\u001b[0m \u001b[0;32mimport\u001b[0m \u001b[0mtpt\u001b[0m\u001b[0;34m\u001b[0m\u001b[0m\n\u001b[0;32m----> 2\u001b[0;31m \u001b[0mtpt13\u001b[0m\u001b[0;34m=\u001b[0m\u001b[0mtpt\u001b[0m\u001b[0;34m(\u001b[0m\u001b[0mm400_mlh\u001b[0m\u001b[0;34m,\u001b[0m\u001b[0mL1\u001b[0m\u001b[0;34m,\u001b[0m\u001b[0mL3\u001b[0m\u001b[0;34m)\u001b[0m\u001b[0;34m\u001b[0m\u001b[0m\n\u001b[0m\u001b[1;32m      3\u001b[0m \u001b[0mtpt31\u001b[0m\u001b[0;34m=\u001b[0m\u001b[0mtpt\u001b[0m\u001b[0;34m(\u001b[0m\u001b[0mm400_mlh\u001b[0m\u001b[0;34m,\u001b[0m\u001b[0mL3\u001b[0m\u001b[0;34m,\u001b[0m\u001b[0mL1\u001b[0m\u001b[0;34m)\u001b[0m\u001b[0;34m\u001b[0m\u001b[0m\n",
      "\u001b[0;31mNameError\u001b[0m: name 'm400_mlh' is not defined"
     ]
    }
   ],
   "source": [
    "from pyemma.msm import tpt\n",
    "tpt13=tpt(m400_mlh,L1,L3)\n",
    "tpt31=tpt(m400_mlh,L3,L1)"
   ]
  },
  {
   "cell_type": "code",
   "execution_count": 14,
   "metadata": {},
   "outputs": [
    {
     "name": "stdout",
     "output_type": "stream",
     "text": [
      "4030.87869469\n",
      "14051.1525774\n"
     ]
    }
   ],
   "source": [
    "print tpt13.mfpt\n",
    "print tpt31.mfpt"
   ]
  },
  {
   "cell_type": "code",
   "execution_count": 54,
   "metadata": {
    "collapsed": true
   },
   "outputs": [],
   "source": [
    "m400_mlh2.pcca?"
   ]
  },
  {
   "cell_type": "code",
   "execution_count": 60,
   "metadata": {},
   "outputs": [
    {
     "name": "stdout",
     "output_type": "stream",
     "text": [
      "32449.4015407\n",
      "12211.4150265\n"
     ]
    }
   ],
   "source": [
    "tpt21=tpt(m400_mlh2,L2,L1) #/10000\n",
    "tpt12=tpt(m400_mlh2,L1,L2)\n",
    "print tpt21.mfpt\n",
    "print tpt12.mfpt"
   ]
  },
  {
   "cell_type": "code",
   "execution_count": 71,
   "metadata": {},
   "outputs": [
    {
     "name": "stdout",
     "output_type": "stream",
     "text": [
      "3472.54840273\n",
      "8262.8635501\n"
     ]
    }
   ],
   "source": [
    "tpt34=tpt(m400_mlh2,L3,L4) #/10000\n",
    "tpt43=tpt(m400_mlh2,L4,L3)\n",
    "print tpt34.mfpt\n",
    "print tpt43.mfpt"
   ]
  },
  {
   "cell_type": "code",
   "execution_count": 80,
   "metadata": {},
   "outputs": [
    {
     "name": "stdout",
     "output_type": "stream",
     "text": [
      "812.644934914\n",
      "2745.49895292\n"
     ]
    }
   ],
   "source": [
    "tpt24=tpt(m400_mlh2,L2,L4) #/10000\n",
    "tpt42=tpt(m400_mlh2,L4,L2)\n",
    "print tpt24.mfpt\n",
    "print tpt42.mfpt"
   ]
  },
  {
   "cell_type": "code",
   "execution_count": 81,
   "metadata": {},
   "outputs": [
    {
     "name": "stdout",
     "output_type": "stream",
     "text": [
      "210801.487273\n",
      "210793.114599\n"
     ]
    }
   ],
   "source": [
    "tpt20=tpt(m400_mlh2,L2,L0) #/10000\n",
    "tpt40=tpt(m400_mlh2,L4,L0)\n",
    "print tpt20.mfpt\n",
    "print tpt40.mfpt"
   ]
  },
  {
   "cell_type": "code",
   "execution_count": 77,
   "metadata": {},
   "outputs": [
    {
     "name": "stdout",
     "output_type": "stream",
     "text": [
      "32449.4015407\n"
     ]
    }
   ],
   "source": [
    "tpt21=tpt(m400_mlh2,L2,L1)\n",
    "print tpt21.mfpt"
   ]
  },
  {
   "cell_type": "code",
   "execution_count": 85,
   "metadata": {
    "collapsed": true
   },
   "outputs": [],
   "source": [
    "def MapMacro2(x,y):\n",
    "    if x<=0.13 and y>=0.86:\n",
    "        return 0\n",
    "    elif x>=0.08 and x<0.13 and y>=0.2 and y<0.3:\n",
    "        return 1\n",
    "    elif x>=0.13 and x<0.18 and y>=0.2 and y<0.3:\n",
    "        return 2\n",
    "    elif x>=0.18 and x<0.23 and y>=0.2 and y<0.3:\n",
    "        return 3\n",
    "    elif x>=0.23 and x<0.28 and y>=0.2 and y<0.3:\n",
    "        return 4\n",
    "    elif x>=0.28 and x<0.33 and y>=0.2 and y<0.3:\n",
    "        return 5\n",
    "    else:\n",
    "        return 6"
   ]
  },
  {
   "cell_type": "code",
   "execution_count": 86,
   "metadata": {
    "collapsed": true
   },
   "outputs": [],
   "source": [
    "wf=open('mapmacro2_test.cs','w')\n",
    "i=0\n",
    "for cc in cluster_centers:\n",
    "    wf.write(str(i)+'    '+str(MapMacro2(cc[0],cc[1]))+'\\n')\n",
    "    i+=1\n",
    "wf.close()"
   ]
  },
  {
   "cell_type": "code",
   "execution_count": 103,
   "metadata": {
    "collapsed": true
   },
   "outputs": [],
   "source": [
    "mapmacro=np.loadtxt('mapmacro2_test.cs')\n",
    "L0=[]\n",
    "L1=[]\n",
    "L2=[]\n",
    "L3=[]\n",
    "L4=[]\n",
    "L5=[]\n",
    "for mm in mapmacro:\n",
    "    if mm[1]==0:\n",
    "        L0.append(int(mm[0]))\n",
    "    elif mm[1]==1:\n",
    "        L1.append(int(mm[0]))\n",
    "    elif mm[1]==2:\n",
    "        L2.append(int(mm[0]))\n",
    "    elif mm[1]==3:\n",
    "        L3.append(int(mm[0]))\n",
    "    elif mm[1]==4:\n",
    "        L4.append(int(mm[0]))\n",
    "    elif mm[1]==5:\n",
    "        L5.append(int(mm[0]))"
   ]
  },
  {
   "cell_type": "code",
   "execution_count": 92,
   "metadata": {},
   "outputs": [
    {
     "name": "stdout",
     "output_type": "stream",
     "text": [
      "184395.782695\n",
      "184646.999044\n",
      "183016.250463\n",
      "188496.569171\n",
      "192898.619753\n"
     ]
    }
   ],
   "source": [
    "tpt10=tpt(m400_mlh2,L1,L0) #/10000\n",
    "tpt20=tpt(m400_mlh2,L2,L0)\n",
    "tpt30=tpt(m400_mlh2,L3,L0) #/10000\n",
    "tpt40=tpt(m400_mlh2,L4,L0)\n",
    "tpt50=tpt(m400_mlh2,L5,L0) #/10000\n",
    "print tpt10.mfpt\n",
    "print tpt20.mfpt\n",
    "print tpt30.mfpt\n",
    "print tpt40.mfpt\n",
    "print tpt50.mfpt"
   ]
  },
  {
   "cell_type": "code",
   "execution_count": 105,
   "metadata": {},
   "outputs": [
    {
     "name": "stdout",
     "output_type": "stream",
     "text": [
      "206722.725678\n",
      "223853.047794\n",
      "231357.52027\n",
      "235772.342884\n"
     ]
    }
   ],
   "source": [
    "tpt21=tpt(m400_mlh2,L2,L1) #/10000\n",
    "tpt31=tpt(m400_mlh2,L3,L1) #/10000\n",
    "tpt41=tpt(m400_mlh2,L4,L1) #/10000\n",
    "tpt51=tpt(m400_mlh2,L5,L1) #/10000\n",
    "print tpt21.mfpt\n",
    "print tpt31.mfpt\n",
    "print tpt41.mfpt\n",
    "print tpt51.mfpt"
   ]
  },
  {
   "cell_type": "code",
   "execution_count": 2,
   "metadata": {},
   "outputs": [],
   "source": [
    "import numpy as np\n",
    "a=np.array([300,400,60])"
   ]
  },
  {
   "cell_type": "code",
   "execution_count": 4,
   "metadata": {},
   "outputs": [],
   "source": [
    "b=np.array([2,0,1])"
   ]
  },
  {
   "cell_type": "code",
   "execution_count": 5,
   "metadata": {},
   "outputs": [
    {
     "data": {
      "text/plain": [
       "array([ 60, 300, 400])"
      ]
     },
     "execution_count": 5,
     "metadata": {},
     "output_type": "execute_result"
    }
   ],
   "source": [
    "a[b]"
   ]
  },
  {
   "cell_type": "code",
   "execution_count": null,
   "metadata": {},
   "outputs": [],
   "source": []
  }
 ],
 "metadata": {
  "kernelspec": {
   "display_name": "Python 3",
   "language": "python",
   "name": "python3"
  },
  "language_info": {
   "codemirror_mode": {
    "name": "ipython",
    "version": 3
   },
   "file_extension": ".py",
   "mimetype": "text/x-python",
   "name": "python",
   "nbconvert_exporter": "python",
   "pygments_lexer": "ipython3",
   "version": "3.6.10"
  }
 },
 "nbformat": 4,
 "nbformat_minor": 2
}
